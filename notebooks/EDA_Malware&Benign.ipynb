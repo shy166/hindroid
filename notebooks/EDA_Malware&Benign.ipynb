{
 "cells": [
  {
   "cell_type": "code",
   "execution_count": 1,
   "metadata": {},
   "outputs": [],
   "source": [
    "import dask\n",
    "from dask.distributed import Client\n",
    "import dask.dataframe as dd\n",
    "import pandas as pd\n",
    "import os\n",
    "import numpy as np\n",
    "import json\n",
    "from tqdm import tqdm\n",
    "from scipy import sparse"
   ]
  },
  {
   "cell_type": "code",
   "execution_count": 2,
   "metadata": {},
   "outputs": [],
   "source": [
    "import matplotlib.pyplot as plt \n",
    "from glob import glob"
   ]
  },
  {
   "cell_type": "markdown",
   "metadata": {},
   "source": [
    "# Benign vs. Malware EDA"
   ]
  },
  {
   "cell_type": "code",
   "execution_count": 3,
   "metadata": {},
   "outputs": [],
   "source": [
    "benignfp = \"../data/datasets/interim/b_features/*csv\"\n",
    "malwarefp = \"../data/datasets/interim/m_features/*csv\""
   ]
  },
  {
   "cell_type": "markdown",
   "metadata": {},
   "source": [
    "How many benign apk I have ingested, processed"
   ]
  },
  {
   "cell_type": "code",
   "execution_count": 4,
   "metadata": {},
   "outputs": [
    {
     "data": {
      "text/plain": [
       "2747"
      ]
     },
     "execution_count": 4,
     "metadata": {},
     "output_type": "execute_result"
    }
   ],
   "source": [
    "len(glob(benignfp))"
   ]
  },
  {
   "cell_type": "markdown",
   "metadata": {},
   "source": [
    "How many malware apk I have ingested, processed"
   ]
  },
  {
   "cell_type": "code",
   "execution_count": 5,
   "metadata": {},
   "outputs": [
    {
     "data": {
      "text/plain": [
       "2030"
      ]
     },
     "execution_count": 5,
     "metadata": {},
     "output_type": "execute_result"
    }
   ],
   "source": [
    "len(glob(malwarefp))"
   ]
  },
  {
   "cell_type": "markdown",
   "metadata": {},
   "source": [
    "Before we do our EDA, lets see the size of each csv features, (in MB)"
   ]
  },
  {
   "cell_type": "code",
   "execution_count": 6,
   "metadata": {},
   "outputs": [],
   "source": [
    "benign_apps = [i.split('/')[-1] for i in glob(benignfp)]\n",
    "benign_size = [os.path.getsize(i)/(1024*1024) for i in glob(benignfp)]\n",
    "benign_size = pd.Series(index = benign_apps, data = benign_size)\n",
    "malware_apps = [i.split('/')[-1] for i in glob(malwarefp)]\n",
    "malware_size = [os.path.getsize(i)/(1024*1024) for i in glob(malwarefp)]\n",
    "malware_size = pd.Series(index = malware_apps, data = malware_size)"
   ]
  },
  {
   "cell_type": "code",
   "execution_count": 7,
   "metadata": {},
   "outputs": [
    {
     "data": {
      "text/plain": [
       "(2747,)"
      ]
     },
     "execution_count": 7,
     "metadata": {},
     "output_type": "execute_result"
    }
   ],
   "source": [
    "benign_size.shape"
   ]
  },
  {
   "cell_type": "code",
   "execution_count": 8,
   "metadata": {
    "scrolled": true
   },
   "outputs": [
    {
     "data": {
      "text/plain": [
       "(2030,)"
      ]
     },
     "execution_count": 8,
     "metadata": {},
     "output_type": "execute_result"
    }
   ],
   "source": [
    "malware_size.shape"
   ]
  },
  {
   "cell_type": "markdown",
   "metadata": {},
   "source": [
    "The Stats of benign feature file of benign and malware"
   ]
  },
  {
   "cell_type": "code",
   "execution_count": 9,
   "metadata": {},
   "outputs": [
    {
     "data": {
      "text/plain": [
       "count    2747.000000\n",
       "mean       13.032417\n",
       "std        12.185762\n",
       "min         0.000685\n",
       "25%         5.733237\n",
       "50%        11.156393\n",
       "75%        17.386611\n",
       "max       342.888342\n",
       "dtype: float64"
      ]
     },
     "execution_count": 9,
     "metadata": {},
     "output_type": "execute_result"
    }
   ],
   "source": [
    "benign_size.describe()"
   ]
  },
  {
   "cell_type": "code",
   "execution_count": 10,
   "metadata": {},
   "outputs": [
    {
     "data": {
      "text/plain": [
       "count    2030.000000\n",
       "mean        1.359864\n",
       "std         2.170633\n",
       "min         0.011738\n",
       "25%         0.085016\n",
       "50%         0.285466\n",
       "75%         1.888253\n",
       "max        25.360481\n",
       "dtype: float64"
      ]
     },
     "execution_count": 10,
     "metadata": {},
     "output_type": "execute_result"
    }
   ],
   "source": [
    "malware_size.describe()"
   ]
  },
  {
   "cell_type": "markdown",
   "metadata": {},
   "source": [
    "- We notice that most of the malware apps are less than 2 MB, and the most of benign apps are less than 20 MB, which makes significantly different in app size and computation complexity. So we want to design a ML model down cast to small apps\n",
    "- Specifically, we will add a constraint to app size, 3 MB"
   ]
  },
  {
   "cell_type": "code",
   "execution_count": 11,
   "metadata": {
    "scrolled": true
   },
   "outputs": [],
   "source": [
    "benign_size = benign_size[benign_size <= 3]"
   ]
  },
  {
   "cell_type": "code",
   "execution_count": 12,
   "metadata": {},
   "outputs": [],
   "source": [
    "malware_size = malware_size[malware_size <= 3]"
   ]
  },
  {
   "cell_type": "markdown",
   "metadata": {},
   "source": [
    "- The Stats of downcasted apps"
   ]
  },
  {
   "cell_type": "code",
   "execution_count": 13,
   "metadata": {},
   "outputs": [
    {
     "data": {
      "text/plain": [
       "count    405.000000\n",
       "mean       1.060372\n",
       "std        0.849133\n",
       "min        0.000685\n",
       "25%        0.312517\n",
       "50%        0.838329\n",
       "75%        1.733680\n",
       "max        2.976587\n",
       "dtype: float64"
      ]
     },
     "execution_count": 13,
     "metadata": {},
     "output_type": "execute_result"
    }
   ],
   "source": [
    "benign_size.describe()"
   ]
  },
  {
   "cell_type": "code",
   "execution_count": 14,
   "metadata": {},
   "outputs": [
    {
     "data": {
      "text/plain": [
       "count    1721.000000\n",
       "mean        0.622749\n",
       "std         0.827421\n",
       "min         0.011738\n",
       "25%         0.082823\n",
       "50%         0.160114\n",
       "75%         0.874394\n",
       "max         2.993118\n",
       "dtype: float64"
      ]
     },
     "execution_count": 14,
     "metadata": {},
     "output_type": "execute_result"
    }
   ],
   "source": [
    "malware_size.describe()"
   ]
  },
  {
   "cell_type": "markdown",
   "metadata": {},
   "source": [
    "we will make the classification balanced, so we sample the same amount malwares"
   ]
  },
  {
   "cell_type": "code",
   "execution_count": 15,
   "metadata": {},
   "outputs": [],
   "source": [
    "malware_size = malware_size.sample(n = len(benign_size), random_state = 1)"
   ]
  },
  {
   "cell_type": "code",
   "execution_count": 16,
   "metadata": {},
   "outputs": [
    {
     "data": {
      "text/plain": [
       "count    405.000000\n",
       "mean       0.531803\n",
       "std        0.758693\n",
       "min        0.016807\n",
       "25%        0.076918\n",
       "50%        0.110209\n",
       "75%        0.690264\n",
       "max        2.993118\n",
       "dtype: float64"
      ]
     },
     "execution_count": 16,
     "metadata": {},
     "output_type": "execute_result"
    }
   ],
   "source": [
    "malware_size.describe()"
   ]
  },
  {
   "cell_type": "code",
   "execution_count": 17,
   "metadata": {},
   "outputs": [
    {
     "data": {
      "text/plain": [
       "18bcefdd591205ddedf3382f5fd22a05.csv    1.404254\n",
       "457421a21f539881d78497b9e8b53584.csv    0.057405\n",
       "fb740d902a18519d46e15dedf6d135a1.csv    0.085115\n",
       "2a96efaab45addbeab73abb96ee91034.csv    0.019603\n",
       "0b6c95bfce7086d6e707c481d4de99f2.csv    0.204378\n",
       "                                          ...   \n",
       "1c54e569ea432df901853f34723485bc.csv    0.097392\n",
       "0811a208c0c87aa8e3af6b714921f155.csv    0.080320\n",
       "cacfee038d26131a8568b3c11ee7f840.csv    0.541179\n",
       "b83df8e33875745aaf2459dcc9f302b2.csv    0.080189\n",
       "40285e00b0e9204bd25cb7dd34d1c2c9.csv    0.060081\n",
       "Length: 405, dtype: float64"
      ]
     },
     "execution_count": 17,
     "metadata": {},
     "output_type": "execute_result"
    }
   ],
   "source": [
    "malware_size"
   ]
  },
  {
   "cell_type": "code",
   "execution_count": 18,
   "metadata": {},
   "outputs": [],
   "source": [
    "benign_dir = pd.Series(benign_size.index.tolist())\\\n",
    "            .apply(lambda x: os.path.join('../data/datasets/interim/b_features', x)).tolist()\n",
    "malware_dir = pd.Series(malware_size.index.tolist())\\\n",
    "            .apply(lambda x: os.path.join('../data/datasets/interim/m_features', x)).tolist()"
   ]
  },
  {
   "cell_type": "code",
   "execution_count": 19,
   "metadata": {},
   "outputs": [],
   "source": [
    "client = Client(n_workers = 8)"
   ]
  },
  {
   "cell_type": "code",
   "execution_count": 20,
   "metadata": {},
   "outputs": [
    {
     "data": {
      "text/html": [
       "<table style=\"border: 2px solid white;\">\n",
       "<tr>\n",
       "<td style=\"vertical-align: top; border: 0px solid white\">\n",
       "<h3 style=\"text-align: left;\">Client</h3>\n",
       "<ul style=\"text-align: left; list-style: none; margin: 0; padding: 0;\">\n",
       "  <li><b>Scheduler: </b>tcp://127.0.0.1:34579</li>\n",
       "  <li><b>Dashboard: </b><a href='http://127.0.0.1:8787/status' target='_blank'>http://127.0.0.1:8787/status</a>\n",
       "</ul>\n",
       "</td>\n",
       "<td style=\"vertical-align: top; border: 0px solid white\">\n",
       "<h3 style=\"text-align: left;\">Cluster</h3>\n",
       "<ul style=\"text-align: left; list-style:none; margin: 0; padding: 0;\">\n",
       "  <li><b>Workers: </b>8</li>\n",
       "  <li><b>Cores: </b>8</li>\n",
       "  <li><b>Memory: </b>68.72 GB</li>\n",
       "</ul>\n",
       "</td>\n",
       "</tr>\n",
       "</table>"
      ],
      "text/plain": [
       "<Client: 'tcp://127.0.0.1:34579' processes=8 threads=8, memory=68.72 GB>"
      ]
     },
     "execution_count": 20,
     "metadata": {},
     "output_type": "execute_result"
    }
   ],
   "source": [
    "client"
   ]
  },
  {
   "cell_type": "code",
   "execution_count": 21,
   "metadata": {},
   "outputs": [],
   "source": [
    "benign = dd.concat([dd.read_csv(i) for i in benign_dir])\n",
    "malware = dd.concat([dd.read_csv(i) for i in malware_dir])"
   ]
  },
  {
   "cell_type": "code",
   "execution_count": 22,
   "metadata": {
    "scrolled": false
   },
   "outputs": [
    {
     "data": {
      "text/html": [
       "<div>\n",
       "<style scoped>\n",
       "    .dataframe tbody tr th:only-of-type {\n",
       "        vertical-align: middle;\n",
       "    }\n",
       "\n",
       "    .dataframe tbody tr th {\n",
       "        vertical-align: top;\n",
       "    }\n",
       "\n",
       "    .dataframe thead th {\n",
       "        text-align: right;\n",
       "    }\n",
       "</style>\n",
       "<table border=\"1\" class=\"dataframe\">\n",
       "  <thead>\n",
       "    <tr style=\"text-align: right;\">\n",
       "      <th></th>\n",
       "      <th>api</th>\n",
       "      <th>invocation</th>\n",
       "      <th>block</th>\n",
       "      <th>app</th>\n",
       "      <th>malware</th>\n",
       "    </tr>\n",
       "  </thead>\n",
       "  <tbody>\n",
       "    <tr>\n",
       "      <th>0</th>\n",
       "      <td>Ljava/lang/Object;-&gt;&lt;init&gt;</td>\n",
       "      <td>invoke-direct</td>\n",
       "      <td>constructor &lt;init&gt;(Lair/com/galactig/revision2...</td>\n",
       "      <td>adolygu-revision</td>\n",
       "      <td>0</td>\n",
       "    </tr>\n",
       "    <tr>\n",
       "      <th>1</th>\n",
       "      <td>Lair/com/galactig/revision2017/AppEntry;-&gt;acce...</td>\n",
       "      <td>invoke-static</td>\n",
       "      <td>public onClick(Landroid/content/DialogInterfac...</td>\n",
       "      <td>adolygu-revision</td>\n",
       "      <td>0</td>\n",
       "    </tr>\n",
       "    <tr>\n",
       "      <th>2</th>\n",
       "      <td>Lair/com/galactig/revision2017/AppEntry;-&gt;acce...</td>\n",
       "      <td>invoke-static</td>\n",
       "      <td>public onClick(Landroid/content/DialogInterfac...</td>\n",
       "      <td>adolygu-revision</td>\n",
       "      <td>0</td>\n",
       "    </tr>\n",
       "    <tr>\n",
       "      <th>3</th>\n",
       "      <td>Lair/com/galactig/revision2017/AppEntry;-&gt;acce...</td>\n",
       "      <td>invoke-static</td>\n",
       "      <td>public onClick(Landroid/content/DialogInterfac...</td>\n",
       "      <td>adolygu-revision</td>\n",
       "      <td>0</td>\n",
       "    </tr>\n",
       "    <tr>\n",
       "      <th>4</th>\n",
       "      <td>Lcom/adobe/air/InstallOfferPingUtils;-&gt;PingAnd...</td>\n",
       "      <td>invoke-static</td>\n",
       "      <td>public onClick(Landroid/content/DialogInterfac...</td>\n",
       "      <td>adolygu-revision</td>\n",
       "      <td>0</td>\n",
       "    </tr>\n",
       "  </tbody>\n",
       "</table>\n",
       "</div>"
      ],
      "text/plain": [
       "                                                 api     invocation  \\\n",
       "0                         Ljava/lang/Object;-><init>  invoke-direct   \n",
       "1  Lair/com/galactig/revision2017/AppEntry;->acce...  invoke-static   \n",
       "2  Lair/com/galactig/revision2017/AppEntry;->acce...  invoke-static   \n",
       "3  Lair/com/galactig/revision2017/AppEntry;->acce...  invoke-static   \n",
       "4  Lcom/adobe/air/InstallOfferPingUtils;->PingAnd...  invoke-static   \n",
       "\n",
       "                                               block               app  \\\n",
       "0  constructor <init>(Lair/com/galactig/revision2...  adolygu-revision   \n",
       "1  public onClick(Landroid/content/DialogInterfac...  adolygu-revision   \n",
       "2  public onClick(Landroid/content/DialogInterfac...  adolygu-revision   \n",
       "3  public onClick(Landroid/content/DialogInterfac...  adolygu-revision   \n",
       "4  public onClick(Landroid/content/DialogInterfac...  adolygu-revision   \n",
       "\n",
       "   malware  \n",
       "0        0  \n",
       "1        0  \n",
       "2        0  \n",
       "3        0  \n",
       "4        0  "
      ]
     },
     "metadata": {},
     "output_type": "display_data"
    },
    {
     "data": {
      "text/html": [
       "<div>\n",
       "<style scoped>\n",
       "    .dataframe tbody tr th:only-of-type {\n",
       "        vertical-align: middle;\n",
       "    }\n",
       "\n",
       "    .dataframe tbody tr th {\n",
       "        vertical-align: top;\n",
       "    }\n",
       "\n",
       "    .dataframe thead th {\n",
       "        text-align: right;\n",
       "    }\n",
       "</style>\n",
       "<table border=\"1\" class=\"dataframe\">\n",
       "  <thead>\n",
       "    <tr style=\"text-align: right;\">\n",
       "      <th></th>\n",
       "      <th>api</th>\n",
       "      <th>invocation</th>\n",
       "      <th>block</th>\n",
       "      <th>app</th>\n",
       "      <th>malware</th>\n",
       "    </tr>\n",
       "  </thead>\n",
       "  <tbody>\n",
       "    <tr>\n",
       "      <th>0</th>\n",
       "      <td>Ljava/lang/Object;-&gt;&lt;init&gt;</td>\n",
       "      <td>invoke-direct</td>\n",
       "      <td>constructor &lt;init&gt;(Lcom/radioadv/AddEditContac...</td>\n",
       "      <td>18bcefdd591205ddedf3382f5fd22a05</td>\n",
       "      <td>1</td>\n",
       "    </tr>\n",
       "    <tr>\n",
       "      <th>1</th>\n",
       "      <td>Lcom/radioadv/AddEditContacts;-&gt;access$0</td>\n",
       "      <td>invoke-static</td>\n",
       "      <td>public onClick(Landroid/view/View;)VAddEditCon...</td>\n",
       "      <td>18bcefdd591205ddedf3382f5fd22a05</td>\n",
       "      <td>1</td>\n",
       "    </tr>\n",
       "    <tr>\n",
       "      <th>2</th>\n",
       "      <td>Lcom/radioadv/AddEditContacts;-&gt;access$1</td>\n",
       "      <td>invoke-static</td>\n",
       "      <td>public onClick(Landroid/view/View;)VAddEditCon...</td>\n",
       "      <td>18bcefdd591205ddedf3382f5fd22a05</td>\n",
       "      <td>1</td>\n",
       "    </tr>\n",
       "    <tr>\n",
       "      <th>3</th>\n",
       "      <td>Ljava/lang/Object;-&gt;&lt;init&gt;</td>\n",
       "      <td>invoke-direct</td>\n",
       "      <td>constructor &lt;init&gt;(Lcom/radioadv/AddEditContac...</td>\n",
       "      <td>18bcefdd591205ddedf3382f5fd22a05</td>\n",
       "      <td>1</td>\n",
       "    </tr>\n",
       "    <tr>\n",
       "      <th>4</th>\n",
       "      <td>Lcom/radioadv/AddEditContacts;-&gt;access$0</td>\n",
       "      <td>invoke-static</td>\n",
       "      <td>public onClick(Landroid/view/View;)VAddEditCon...</td>\n",
       "      <td>18bcefdd591205ddedf3382f5fd22a05</td>\n",
       "      <td>1</td>\n",
       "    </tr>\n",
       "  </tbody>\n",
       "</table>\n",
       "</div>"
      ],
      "text/plain": [
       "                                        api     invocation  \\\n",
       "0                Ljava/lang/Object;-><init>  invoke-direct   \n",
       "1  Lcom/radioadv/AddEditContacts;->access$0  invoke-static   \n",
       "2  Lcom/radioadv/AddEditContacts;->access$1  invoke-static   \n",
       "3                Ljava/lang/Object;-><init>  invoke-direct   \n",
       "4  Lcom/radioadv/AddEditContacts;->access$0  invoke-static   \n",
       "\n",
       "                                               block  \\\n",
       "0  constructor <init>(Lcom/radioadv/AddEditContac...   \n",
       "1  public onClick(Landroid/view/View;)VAddEditCon...   \n",
       "2  public onClick(Landroid/view/View;)VAddEditCon...   \n",
       "3  constructor <init>(Lcom/radioadv/AddEditContac...   \n",
       "4  public onClick(Landroid/view/View;)VAddEditCon...   \n",
       "\n",
       "                                app  malware  \n",
       "0  18bcefdd591205ddedf3382f5fd22a05        1  \n",
       "1  18bcefdd591205ddedf3382f5fd22a05        1  \n",
       "2  18bcefdd591205ddedf3382f5fd22a05        1  \n",
       "3  18bcefdd591205ddedf3382f5fd22a05        1  \n",
       "4  18bcefdd591205ddedf3382f5fd22a05        1  "
      ]
     },
     "metadata": {},
     "output_type": "display_data"
    }
   ],
   "source": [
    "display(benign.head())\n",
    "display(malware.head())"
   ]
  },
  {
   "cell_type": "markdown",
   "metadata": {},
   "source": [
    "## API Calls"
   ]
  },
  {
   "cell_type": "markdown",
   "metadata": {},
   "source": [
    "### how many rows benign apps have"
   ]
  },
  {
   "cell_type": "code",
   "execution_count": 23,
   "metadata": {},
   "outputs": [
    {
     "data": {
      "text/plain": [
       "2748728"
      ]
     },
     "execution_count": 23,
     "metadata": {},
     "output_type": "execute_result"
    }
   ],
   "source": [
    "len(benign)"
   ]
  },
  {
   "cell_type": "markdown",
   "metadata": {},
   "source": [
    "### how many rows malware apps have"
   ]
  },
  {
   "cell_type": "code",
   "execution_count": 24,
   "metadata": {},
   "outputs": [
    {
     "data": {
      "text/plain": [
       "1377097"
      ]
     },
     "execution_count": 24,
     "metadata": {},
     "output_type": "execute_result"
    }
   ],
   "source": [
    "len(malware)"
   ]
  },
  {
   "cell_type": "markdown",
   "metadata": {},
   "source": [
    "### how many benign sample we collected"
   ]
  },
  {
   "cell_type": "code",
   "execution_count": 25,
   "metadata": {},
   "outputs": [
    {
     "data": {
      "text/plain": [
       "405"
      ]
     },
     "execution_count": 25,
     "metadata": {},
     "output_type": "execute_result"
    }
   ],
   "source": [
    "len(benign.app.unique())"
   ]
  },
  {
   "cell_type": "markdown",
   "metadata": {},
   "source": [
    "### how many malware samples we collected"
   ]
  },
  {
   "cell_type": "code",
   "execution_count": 26,
   "metadata": {
    "scrolled": true
   },
   "outputs": [
    {
     "data": {
      "text/plain": [
       "405"
      ]
     },
     "execution_count": 26,
     "metadata": {},
     "output_type": "execute_result"
    }
   ],
   "source": [
    "len(malware.app.unique())"
   ]
  },
  {
   "cell_type": "markdown",
   "metadata": {},
   "source": [
    "### TOP 20 normalized API call comparison "
   ]
  },
  {
   "cell_type": "code",
   "execution_count": 27,
   "metadata": {},
   "outputs": [],
   "source": [
    "apical_v = benign.api.value_counts().compute()\n",
    "apical_v_m = malware.api.value_counts().compute()"
   ]
  },
  {
   "cell_type": "code",
   "execution_count": 28,
   "metadata": {},
   "outputs": [
    {
     "data": {
      "image/png": "[encoded data removed]",
      "text/plain": [
       "<Figure size 432x288 with 1 Axes>"
      ]
     },
     "metadata": {
      "needs_background": "light"
     },
     "output_type": "display_data"
    },
    {
     "data": {
      "image/png": "[encoded data removed]",
      "text/plain": [
       "<Figure size 432x288 with 1 Axes>"
      ]
     },
     "metadata": {
      "needs_background": "light"
     },
     "output_type": "display_data"
    }
   ],
   "source": [
    "plt.show((apical_v / apical_v.sum()).head(20).plot.bar(title = \"benign\"))\n",
    "plt.show((apical_v_m / apical_v_m.sum()).head(20).plot.bar(title = \"malware\"))"
   ]
  },
  {
   "cell_type": "markdown",
   "metadata": {},
   "source": [
    "### TOP 100 api calls (percentage in common)"
   ]
  },
  {
   "cell_type": "code",
   "execution_count": 29,
   "metadata": {},
   "outputs": [
    {
     "data": {
      "text/plain": [
       "0.01"
      ]
     },
     "execution_count": 29,
     "metadata": {},
     "output_type": "execute_result"
    }
   ],
   "source": [
    "apical_v.head(100).isin(apical_v_m.head(100)).mean()"
   ]
  },
  {
   "cell_type": "markdown",
   "metadata": {},
   "source": [
    "### Observation\n",
    "Following finding from eda above:\n",
    "  - In general, Benign apps are much more complicated than malware apps in structures. we collected 89 benign apps and 63 malware apps, but there are 6190118 rows of infomation for benign apps and 39345 rows of information for malware apps.\n",
    "  - As plot shown above, the proportion (distribution) of Malware and Benign's api calls are relatively same.\n",
    "  - The most common api calls are significantly different. For top 100 api calls of benign apps and malware apps, there are nearly no common api calls."
   ]
  },
  {
   "cell_type": "markdown",
   "metadata": {},
   "source": [
    "## Number of abnormal Apis"
   ]
  },
  {
   "cell_type": "markdown",
   "metadata": {},
   "source": [
    "to find the cut between normal api and abnormal api"
   ]
  },
  {
   "cell_type": "code",
   "execution_count": 33,
   "metadata": {},
   "outputs": [],
   "source": [
    "bgrouped = benign.groupby('api').size().compute()\n",
    "mgrouped = malware.groupby('api').size().compute()"
   ]
  },
  {
   "cell_type": "markdown",
   "metadata": {},
   "source": [
    "Stats of benign distinct api counts"
   ]
  },
  {
   "cell_type": "code",
   "execution_count": 34,
   "metadata": {},
   "outputs": [
    {
     "data": {
      "text/plain": [
       "count    216500.000000\n",
       "mean         12.696194\n",
       "std         326.005224\n",
       "min           1.000000\n",
       "25%           1.000000\n",
       "50%           2.000000\n",
       "75%           4.000000\n",
       "max       98202.000000\n",
       "dtype: float64"
      ]
     },
     "execution_count": 34,
     "metadata": {},
     "output_type": "execute_result"
    }
   ],
   "source": [
    "bgrouped.describe()"
   ]
  },
  {
   "cell_type": "markdown",
   "metadata": {},
   "source": [
    "Stats of malware distinct api counts"
   ]
  },
  {
   "cell_type": "code",
   "execution_count": 35,
   "metadata": {},
   "outputs": [
    {
     "data": {
      "text/plain": [
       "count    93928.000000\n",
       "mean        14.645984\n",
       "std        254.692561\n",
       "min          1.000000\n",
       "25%          1.000000\n",
       "50%          2.000000\n",
       "75%          5.000000\n",
       "max      48812.000000\n",
       "dtype: float64"
      ]
     },
     "execution_count": 35,
     "metadata": {},
     "output_type": "execute_result"
    }
   ],
   "source": [
    "mgrouped.describe()"
   ]
  },
  {
   "cell_type": "markdown",
   "metadata": {},
   "source": [
    "Number of abnormal api in benign apps"
   ]
  },
  {
   "cell_type": "code",
   "execution_count": 36,
   "metadata": {},
   "outputs": [
    {
     "data": {
      "text/plain": [
       "167395"
      ]
     },
     "execution_count": 36,
     "metadata": {},
     "output_type": "execute_result"
    }
   ],
   "source": [
    "len(bgrouped[bgrouped <= 4])"
   ]
  },
  {
   "cell_type": "markdown",
   "metadata": {},
   "source": [
    "Number of abnormal api in malware apps"
   ]
  },
  {
   "cell_type": "code",
   "execution_count": 37,
   "metadata": {},
   "outputs": [
    {
     "data": {
      "text/plain": [
       "70554"
      ]
     },
     "execution_count": 37,
     "metadata": {},
     "output_type": "execute_result"
    }
   ],
   "source": [
    "len(mgrouped[mgrouped <= 5])"
   ]
  },
  {
   "cell_type": "markdown",
   "metadata": {},
   "source": [
    "We noticed taht the there are much more abnormal APIS used in benign apps. We may filter out the abnormal api in model afterwards"
   ]
  },
  {
   "cell_type": "markdown",
   "metadata": {},
   "source": [
    "## Block"
   ]
  },
  {
   "cell_type": "code",
   "execution_count": 38,
   "metadata": {},
   "outputs": [],
   "source": [
    "bblock = benign.block.nunique().compute()\n",
    "mblock = malware.block.nunique().compute()"
   ]
  },
  {
   "cell_type": "markdown",
   "metadata": {},
   "source": [
    "How many blocks the benign apps have"
   ]
  },
  {
   "cell_type": "code",
   "execution_count": 39,
   "metadata": {},
   "outputs": [
    {
     "data": {
      "text/plain": [
       "259999"
      ]
     },
     "execution_count": 39,
     "metadata": {},
     "output_type": "execute_result"
    }
   ],
   "source": [
    "bblock"
   ]
  },
  {
   "cell_type": "markdown",
   "metadata": {},
   "source": [
    "How many blocks the malware apps have"
   ]
  },
  {
   "cell_type": "code",
   "execution_count": 40,
   "metadata": {},
   "outputs": [
    {
     "data": {
      "text/plain": [
       "99840"
      ]
     },
     "execution_count": 40,
     "metadata": {},
     "output_type": "execute_result"
    }
   ],
   "source": [
    "mblock"
   ]
  },
  {
   "cell_type": "code",
   "execution_count": 41,
   "metadata": {},
   "outputs": [],
   "source": [
    "bblock = benign.block.value_counts().compute()\n",
    "mblock = malware.block.value_counts().compute()"
   ]
  },
  {
   "cell_type": "markdown",
   "metadata": {},
   "source": [
    "Stats of how many api calls each block has for benign apps"
   ]
  },
  {
   "cell_type": "code",
   "execution_count": 42,
   "metadata": {},
   "outputs": [
    {
     "data": {
      "text/plain": [
       "count    259999.000000\n",
       "mean         10.572071\n",
       "std          48.680578\n",
       "min           1.000000\n",
       "25%           1.000000\n",
       "50%           3.000000\n",
       "75%           7.000000\n",
       "max        4624.000000\n",
       "Name: block, dtype: float64"
      ]
     },
     "execution_count": 42,
     "metadata": {},
     "output_type": "execute_result"
    }
   ],
   "source": [
    "bblock.describe()"
   ]
  },
  {
   "cell_type": "code",
   "execution_count": 43,
   "metadata": {},
   "outputs": [
    {
     "data": {
      "text/plain": [
       "count    99840.000000\n",
       "mean        13.793039\n",
       "std         42.077762\n",
       "min          1.000000\n",
       "25%          1.000000\n",
       "50%          4.000000\n",
       "75%         12.000000\n",
       "max       1817.000000\n",
       "Name: block, dtype: float64"
      ]
     },
     "execution_count": 43,
     "metadata": {},
     "output_type": "execute_result"
    }
   ],
   "source": [
    "mblock.describe()"
   ]
  },
  {
   "cell_type": "markdown",
   "metadata": {},
   "source": [
    "## Package"
   ]
  },
  {
   "cell_type": "code",
   "execution_count": 31,
   "metadata": {},
   "outputs": [],
   "source": [
    "bpackage = benign.api.str.split('->').compute()\n",
    "mpackage = malware.api.str.split('->').compute()"
   ]
  },
  {
   "cell_type": "code",
   "execution_count": 36,
   "metadata": {},
   "outputs": [],
   "source": [
    "bpackage = bpackage.apply(lambda x: x[0] if type(x) == list else x)"
   ]
  },
  {
   "cell_type": "code",
   "execution_count": 37,
   "metadata": {},
   "outputs": [],
   "source": [
    "mpackage = mpackage.apply(lambda x: x[0] if type(x) == list else x)"
   ]
  },
  {
   "cell_type": "markdown",
   "metadata": {},
   "source": [
    "stats of number of package used of benign apps"
   ]
  },
  {
   "cell_type": "code",
   "execution_count": 39,
   "metadata": {},
   "outputs": [
    {
     "data": {
      "text/plain": [
       "count     52161.000000\n",
       "mean         52.696957\n",
       "std        1137.859921\n",
       "min           1.000000\n",
       "25%           1.000000\n",
       "50%           3.000000\n",
       "75%          12.000000\n",
       "max      175178.000000\n",
       "Name: api, dtype: float64"
      ]
     },
     "execution_count": 39,
     "metadata": {},
     "output_type": "execute_result"
    }
   ],
   "source": [
    "bpackage.value_counts().describe()"
   ]
  },
  {
   "cell_type": "markdown",
   "metadata": {},
   "source": [
    "stats of number of package used of malware apps"
   ]
  },
  {
   "cell_type": "code",
   "execution_count": 40,
   "metadata": {},
   "outputs": [
    {
     "data": {
      "text/plain": [
       "count    20552.000000\n",
       "mean        66.935967\n",
       "std        948.045867\n",
       "min          1.000000\n",
       "25%          1.000000\n",
       "50%          4.000000\n",
       "75%         20.000000\n",
       "max      92270.000000\n",
       "Name: api, dtype: float64"
      ]
     },
     "execution_count": 40,
     "metadata": {},
     "output_type": "execute_result"
    }
   ],
   "source": [
    "mpackage.value_counts().describe()"
   ]
  },
  {
   "cell_type": "markdown",
   "metadata": {},
   "source": [
    "The malwares are likely to use more same packages than benign apps did. So number of package used will be usefull."
   ]
  },
  {
   "cell_type": "markdown",
   "metadata": {},
   "source": [
    "## invocation"
   ]
  },
  {
   "cell_type": "code",
   "execution_count": 50,
   "metadata": {},
   "outputs": [],
   "source": [
    "binvo = benign.invocation.value_counts().compute()\n",
    "minvo = malware.invocation.value_counts().compute()"
   ]
  },
  {
   "cell_type": "code",
   "execution_count": 51,
   "metadata": {},
   "outputs": [
    {
     "data": {
      "image/png": "[encoded data removed]",
      "text/plain": [
       "<Figure size 432x288 with 1 Axes>"
      ]
     },
     "metadata": {
      "needs_background": "light"
     },
     "output_type": "display_data"
    },
    {
     "data": {
      "image/png": "[encoded data removed]",
      "text/plain": [
       "<Figure size 432x288 with 1 Axes>"
      ]
     },
     "metadata": {
      "needs_background": "light"
     },
     "output_type": "display_data"
    }
   ],
   "source": [
    "plt.show(binvo.plot.bar(title = 'benign'))\n",
    "plt.show(minvo.plot.bar(title = 'benign'))"
   ]
  },
  {
   "cell_type": "markdown",
   "metadata": {},
   "source": [
    "### Observation\n",
    "Following finding from eda above:\n",
    "  - In general, the distribution of invocation between benign apps and malware apps are roughly same: with invoke-virtual the most commonly used, and invok-super the least commonly used in both.\n",
    "  - There is one abnormal scene found: in benign apps, invoke-static is the third commonly used, and invoke-interface is the fourth commonly used. But in malware apps, invoke-interface is the third commonly used, and invoke-static is the fourth commonly used. To ensure the abnormality, we should fetch more data."
   ]
  },
  {
   "cell_type": "code",
   "execution_count": 42,
   "metadata": {},
   "outputs": [],
   "source": [
    "import json\n",
    "output_json = {'benign': benign_dir, 'malware': malware_dir}\n",
    "with open('../config/train-params.json', 'w') as f:\n",
    "    json.dump(output_json, f)"
   ]
  },
  {
   "cell_type": "code",
   "execution_count": 43,
   "metadata": {},
   "outputs": [
    {
     "data": {
      "text/plain": [
       "{'benign': ['../data/datasets/interim/b_features/adolygu-revision.csv',\n",
       "  '../data/datasets/interim/b_features/fruity-assassin.csv',\n",
       "  '../data/datasets/interim/b_features/franck-dubosc-fan.csv',\n",
       "  '../data/datasets/interim/b_features/sms-loc-lokalisierung-per-sms.csv',\n",
       "  '../data/datasets/interim/b_features/kumpulan-aneka-resep-kue-basah.csv',\n",
       "  '../data/datasets/interim/b_features/dua-e-sabaasab.csv',\n",
       "  '../data/datasets/interim/b_features/vumeter-audiospectrumanalyzer.csv',\n",
       "  '../data/datasets/interim/b_features/pmg.csv',\n",
       "  '../data/datasets/interim/b_features/black-hat-prince-early-preview-unreleased.csv',\n",
       "  '../data/datasets/interim/b_features/%E3%83%91%E3%83%BC%E3%82%AD%E3%83%B3%E3%82%B0%E3%83%A1%E3%83%A2.csv',\n",
       "  '../data/datasets/interim/b_features/metal-style.csv',\n",
       "  '../data/datasets/interim/b_features/exasale.csv',\n",
       "  '../data/datasets/interim/b_features/black-see-through-girl-dodol.csv',\n",
       "  '../data/datasets/interim/b_features/letter-words-to-morse-code-v-1.csv',\n",
       "  '../data/datasets/interim/b_features/buon-appetito.csv',\n",
       "  '../data/datasets/interim/b_features/piano-chords-and-scales.csv',\n",
       "  '../data/datasets/interim/b_features/smile-albania.csv',\n",
       "  '../data/datasets/interim/b_features/pic-fifteen.csv',\n",
       "  '../data/datasets/interim/b_features/audioventure.csv',\n",
       "  '../data/datasets/interim/b_features/ateste.csv',\n",
       "  '../data/datasets/interim/b_features/pickme.csv',\n",
       "  '../data/datasets/interim/b_features/my-fun-photos-for-kids.csv',\n",
       "  '../data/datasets/interim/b_features/3d-miku-finger-guessing-game.csv',\n",
       "  '../data/datasets/interim/b_features/ap-psychology-terms.csv',\n",
       "  '../data/datasets/interim/b_features/police-wanted.csv',\n",
       "  '../data/datasets/interim/b_features/ecoa.csv',\n",
       "  '../data/datasets/interim/b_features/cincilator.csv',\n",
       "  '../data/datasets/interim/b_features/steewii.csv',\n",
       "  '../data/datasets/interim/b_features/spiral-live-wallpaper-hd.csv',\n",
       "  '../data/datasets/interim/b_features/nityaprerna.csv',\n",
       "  '../data/datasets/interim/b_features/betriebscasino-kantine.csv',\n",
       "  '../data/datasets/interim/b_features/pieo.csv',\n",
       "  '../data/datasets/interim/b_features/ekalav-the-gym-master.csv',\n",
       "  '../data/datasets/interim/b_features/aluminum-pit-board.csv',\n",
       "  '../data/datasets/interim/b_features/corgi-battery-widget.csv',\n",
       "  '../data/datasets/interim/b_features/%EB%84%90-%EB%A7%8C%EB%82%9C%EA%B1%B4-%EA%B8%B0%EC%A0%81%EC%9D%BC%EA%BA%BC%EC%95%BC-%EB%8F%84%EB%8F%8C%EB%9F%B0%EC%B2%98-%ED%85%8C%EB%A7%88.csv',\n",
       "  '../data/datasets/interim/b_features/%EC%9A%A9%EC%82%B0%EC%9A%A9%EC%9D%B8%EB%8C%80%EB%B0%B1%ED%98%B8%ED%83%9C%EA%B6%8C%EB%8F%84.csv',\n",
       "  '../data/datasets/interim/b_features/flare.csv',\n",
       "  '../data/datasets/interim/b_features/%EB%AC%B4%EC%A7%80%EA%B0%9C%EC%B9%9C%EA%B5%AC%EB%93%A4-%EB%8F%84%EB%8F%8C%EB%9F%B0%EC%B2%98-%ED%85%8C%EB%A7%88.csv',\n",
       "  '../data/datasets/interim/b_features/digitalgurukul.csv',\n",
       "  '../data/datasets/interim/b_features/diedok-einsatzdokumentation.csv',\n",
       "  '../data/datasets/interim/b_features/%DA%86%DB%81%D9%84-%D8%AD%D8%AF%DB%8C%D8%AB-chehle-hadees.csv',\n",
       "  '../data/datasets/interim/b_features/terence-pimenta-photography.csv',\n",
       "  '../data/datasets/interim/b_features/trafficlightsfm.csv',\n",
       "  '../data/datasets/interim/b_features/fairy-house-theme.csv',\n",
       "  '../data/datasets/interim/b_features/radio-24-alte-version.csv',\n",
       "  '../data/datasets/interim/b_features/glamorous-dress-up-yvonne.csv',\n",
       "  '../data/datasets/interim/b_features/liner-lipstick-tutorial.csv',\n",
       "  '../data/datasets/interim/b_features/21-seconds.csv',\n",
       "  '../data/datasets/interim/b_features/toggle-on-powered.csv',\n",
       "  '../data/datasets/interim/b_features/companion-for-cyclades.csv',\n",
       "  '../data/datasets/interim/b_features/ninja-lotto.csv',\n",
       "  '../data/datasets/interim/b_features/gaple-indonesia.csv',\n",
       "  '../data/datasets/interim/b_features/parada-sertaneja.csv',\n",
       "  '../data/datasets/interim/b_features/%ED%95%B4%EC%98%A4%EB%A6%84-%EA%B5%90%ED%9A%8C.csv',\n",
       "  '../data/datasets/interim/b_features/%EC%BF%A0%EB%B0%A5.csv',\n",
       "  '../data/datasets/interim/b_features/tfc-android-csantos.csv',\n",
       "  '../data/datasets/interim/b_features/savvii-co-uk.csv',\n",
       "  '../data/datasets/interim/b_features/halloween-live-wallpaper-free.csv',\n",
       "  '../data/datasets/interim/b_features/unread-it-unread-any-sms.csv',\n",
       "  '../data/datasets/interim/b_features/chat-espa%C3%B1a.csv',\n",
       "  '../data/datasets/interim/b_features/ho-ho-ho.csv',\n",
       "  '../data/datasets/interim/b_features/compass-with-android.csv',\n",
       "  '../data/datasets/interim/b_features/%E6%9A%87%E3%81%A4%E3%81%B6%E3%81%97-%E3%82%A2%E3%83%97%E3%83%AA-%E6%80%9D%E3%82%8F%E3%81%9A%E5%90%B9%E3%81%84%E3%81%9F-%E7%AC%91%E3%81%88%E3%82%8B%E8%A9%B1%EF%BC%81.csv',\n",
       "  '../data/datasets/interim/b_features/game-of-shadows-free.csv',\n",
       "  '../data/datasets/interim/b_features/%EB%B8%8C%EB%A0%88%EC%9D%B4%EB%B8%8C%EC%8A%A4-for-kakao.csv',\n",
       "  '../data/datasets/interim/b_features/ridgewater-automation-program-webcams.csv',\n",
       "  '../data/datasets/interim/b_features/phobble-fun-captions.csv',\n",
       "  '../data/datasets/interim/b_features/tic-tac-toe.csv',\n",
       "  '../data/datasets/interim/b_features/easy-joint-movement.csv',\n",
       "  '../data/datasets/interim/b_features/dinosaur-ecosystems-ar.csv',\n",
       "  '../data/datasets/interim/b_features/levvo-profissional.csv',\n",
       "  '../data/datasets/interim/b_features/%E5%8C%97%E6%98%9F%E4%BA%A4%E9%80%9A-%E3%82%BF%E3%82%AF%E3%82%B7%E3%83%BC%E9%85%8D%E8%BB%8A.csv',\n",
       "  '../data/datasets/interim/b_features/itt-%ED%86%B5%EC%97%AD%EC%8B%9C%ED%97%98.csv',\n",
       "  '../data/datasets/interim/b_features/sumaze-2.csv',\n",
       "  '../data/datasets/interim/b_features/imame-husain-ki-karamaat-hindi.csv',\n",
       "  '../data/datasets/interim/b_features/temperature-lert-android-app.csv',\n",
       "  '../data/datasets/interim/b_features/fmms-maintenance-log.csv',\n",
       "  '../data/datasets/interim/b_features/commoncontacts.csv',\n",
       "  '../data/datasets/interim/b_features/learning-programming.csv',\n",
       "  '../data/datasets/interim/b_features/passion-radio.csv',\n",
       "  '../data/datasets/interim/b_features/bspect.csv',\n",
       "  '../data/datasets/interim/b_features/blobland.csv',\n",
       "  '../data/datasets/interim/b_features/bvpl-mobile.csv',\n",
       "  '../data/datasets/interim/b_features/magical-real-tabla-recorder.csv',\n",
       "  '../data/datasets/interim/b_features/vam-bat.csv',\n",
       "  '../data/datasets/interim/b_features/lista-mais-monte-alegre.csv',\n",
       "  '../data/datasets/interim/b_features/%E8%84%B1%E5%87%BA%E5%80%B6%E6%A5%BD%E9%83%A8s7%E6%AD%A3%E6%9C%88%E7%B7%A8%E3%80%90%E4%BD%93%E9%A8%93%E7%89%88%E3%80%91.csv',\n",
       "  '../data/datasets/interim/b_features/white-paper.csv',\n",
       "  '../data/datasets/interim/b_features/careercraaft.csv',\n",
       "  '../data/datasets/interim/b_features/tahzeebul-islam.csv',\n",
       "  '../data/datasets/interim/b_features/tjekpanser.csv',\n",
       "  '../data/datasets/interim/b_features/%D0%B8%D0%B3%D1%80%D1%8B-%D0%B4%D0%BB%D1%8F-%D0%B4%D0%B5%D0%B2%D0%BE%D1%87%D0%B5%D0%BA.csv',\n",
       "  '../data/datasets/interim/b_features/jazzy-house-for-soundcamp.csv',\n",
       "  '../data/datasets/interim/b_features/21012.csv',\n",
       "  '../data/datasets/interim/b_features/apply-yourself.csv',\n",
       "  '../data/datasets/interim/b_features/jungwagenhaus.csv',\n",
       "  '../data/datasets/interim/b_features/search-image.csv',\n",
       "  '../data/datasets/interim/b_features/tws-direct.csv',\n",
       "  '../data/datasets/interim/b_features/%EC%95%88%EC%84%B1%EC%8A%A4%EB%A7%88%ED%8A%B8.csv',\n",
       "  '../data/datasets/interim/b_features/snitches.csv',\n",
       "  '../data/datasets/interim/b_features/intralabs.csv',\n",
       "  '../data/datasets/interim/b_features/theme-xperien-zorina-pro.csv',\n",
       "  '../data/datasets/interim/b_features/toy-box-blast-kids-game-match-cubes.csv',\n",
       "  '../data/datasets/interim/b_features/%D7%98%D7%A8%D7%99%D7%95%D7%95%D7%99%D7%94-%D7%99%D7%9D-%D7%AA%D7%99%D7%9B%D7%95%D7%A0%D7%99%D7%AA.csv',\n",
       "  '../data/datasets/interim/b_features/cmnews-demo.csv',\n",
       "  '../data/datasets/interim/b_features/audio-recorder.csv',\n",
       "  '../data/datasets/interim/b_features/open-heart-unlocked.csv',\n",
       "  '../data/datasets/interim/b_features/phil-supreme-court-vol-8.csv',\n",
       "  '../data/datasets/interim/b_features/myco-cave.csv',\n",
       "  '../data/datasets/interim/b_features/glossapp.csv',\n",
       "  '../data/datasets/interim/b_features/wahl-ergebnis-report.csv',\n",
       "  '../data/datasets/interim/b_features/10-10.csv',\n",
       "  '../data/datasets/interim/b_features/gcci.csv',\n",
       "  '../data/datasets/interim/b_features/barcodes-online.csv',\n",
       "  '../data/datasets/interim/b_features/sorted-for-7.csv',\n",
       "  '../data/datasets/interim/b_features/status-report-device-info-util-imei-gps-wifi.csv',\n",
       "  '../data/datasets/interim/b_features/kjv-bible.csv',\n",
       "  '../data/datasets/interim/b_features/pixie-qualee-evolution.csv',\n",
       "  '../data/datasets/interim/b_features/%D8%A7%D8%BA%D8%A7%D9%86%D9%8A-%D8%A3%D9%85%D8%A7%D8%B2%D9%8A%D8%BA%D8%A9-%D9%85%D8%AC%D9%85%D9%88%D8%B9%D8%A9-%D9%84%D8%B1%D9%8A%D8%A7%D8%B4.csv',\n",
       "  '../data/datasets/interim/b_features/%E6%BC%A2%E5%AD%97%E6%A4%9C%E5%AE%9A%EF%BC%92%E7%B4%9A%E5%AF%BE%E7%AD%96.csv',\n",
       "  '../data/datasets/interim/b_features/%EC%9D%B8%EC%B2%9C%EB%8F%84%EC%84%9C%EA%B4%80-%EC%97%B0%EC%88%98%EB%8F%84%EC%84%9C%EA%B4%80-%EC%A3%BC%EC%95%88%EB%8F%84%EC%84%9C%EA%B4%80-%EC%A4%91%EC%95%99%EB%8F%84%EC%84%9C%EA%B4%80-%EB%B6%80%ED%8F%89%EB%8F%84%EC%84%9C%EA%B4%80.csv',\n",
       "  '../data/datasets/interim/b_features/b%C3%B8gsted.csv',\n",
       "  '../data/datasets/interim/b_features/second-degree%E1%9E%9F%E1%9E%98%E1%9E%B8%E1%9E%80%E1%9E%B6%E1%9E%9A%E1%9E%8A%E1%9E%BA%E1%9E%80%E1%9F%92%E1%9E%9A%E1%9F%81%E1%9E%91%E1%9E%B8%E1%9E%96%E1%9E%B8%E1%9E%9A.csv',\n",
       "  '../data/datasets/interim/b_features/chembalancer.csv',\n",
       "  '../data/datasets/interim/b_features/blackout-simple-flashlight.csv',\n",
       "  '../data/datasets/interim/b_features/430-betta-fish.csv',\n",
       "  '../data/datasets/interim/b_features/bugsy.csv',\n",
       "  '../data/datasets/interim/b_features/%EC%8A%A4%EC%9C%84%ED%8A%B8%ED%99%88-%EB%8F%84%EB%8F%8C%EB%9F%B0%EC%B2%98-%ED%85%8C%EB%A7%88.csv',\n",
       "  '../data/datasets/interim/b_features/%E7%BF%94%E4%B9%9F-ver-for-mki.csv',\n",
       "  '../data/datasets/interim/b_features/webcastpro.csv',\n",
       "  '../data/datasets/interim/b_features/killer-escape-3.csv',\n",
       "  '../data/datasets/interim/b_features/sniper-photos.csv',\n",
       "  '../data/datasets/interim/b_features/kc-poires-flambees.csv',\n",
       "  '../data/datasets/interim/b_features/english-arabic-dictionary.csv',\n",
       "  '../data/datasets/interim/b_features/%D0%B7%D0%BB%D0%B0%D1%8F-%D0%BC%D1%83%D0%B4%D1%80%D0%BE%D1%81%D1%82%D1%8C-%D0%B0%D1%84%D0%BE%D1%80%D0%B8%D0%B7%D0%BC%D1%8B-%D0%BD%D0%B8%D1%86%D1%88%D0%B5.csv',\n",
       "  '../data/datasets/interim/b_features/my-tiny-balls.csv',\n",
       "  '../data/datasets/interim/b_features/drg-karriere.csv',\n",
       "  '../data/datasets/interim/b_features/toddler-puzzle-preschool-game.csv',\n",
       "  '../data/datasets/interim/b_features/mifamties-family-organiser.csv',\n",
       "  '../data/datasets/interim/b_features/%D1%81%D0%B8%D0%BC%D0%BE%D0%BD-%D0%B4%D1%8D%D0%BB-%D1%8D%D0%BD%D1%82%D0%BE%D0%BD%D0%B8-%D1%85%D0%BE%D1%83%D0%BF.csv',\n",
       "  '../data/datasets/interim/b_features/wild-cheetah-emoji-gif-keypad.csv',\n",
       "  '../data/datasets/interim/b_features/plastic-bottle-crafts.csv',\n",
       "  '../data/datasets/interim/b_features/cute-funny-donuts-button-keyboard-theme.csv',\n",
       "  '../data/datasets/interim/b_features/east-coast-radio-hitmaker.csv',\n",
       "  '../data/datasets/interim/b_features/duniyafood.csv',\n",
       "  '../data/datasets/interim/b_features/%E5%8B%95%E7%94%BB%EF%BC%92%EF%BC%95.csv',\n",
       "  '../data/datasets/interim/b_features/nab%C4%B1z-haber.csv',\n",
       "  '../data/datasets/interim/b_features/bookmarks-light.csv',\n",
       "  '../data/datasets/interim/b_features/jw-medical.csv',\n",
       "  '../data/datasets/interim/b_features/pest-hunter.csv',\n",
       "  '../data/datasets/interim/b_features/turtle-player.csv',\n",
       "  '../data/datasets/interim/b_features/guia-gps.csv',\n",
       "  '../data/datasets/interim/b_features/wts-midi-player.csv',\n",
       "  '../data/datasets/interim/b_features/voip-tester-free.csv',\n",
       "  '../data/datasets/interim/b_features/romantic-music-ands-love-songs.csv',\n",
       "  '../data/datasets/interim/b_features/doblarun.csv',\n",
       "  '../data/datasets/interim/b_features/baby-loves-numbers.csv',\n",
       "  '../data/datasets/interim/b_features/lolready.csv',\n",
       "  '../data/datasets/interim/b_features/tropical-surfer-vr.csv',\n",
       "  '../data/datasets/interim/b_features/remember.csv',\n",
       "  '../data/datasets/interim/b_features/gehr-plastic-selector.csv',\n",
       "  '../data/datasets/interim/b_features/nfc-%E3%81%8A%E3%82%B5%E3%82%A4%E3%83%95%E8%A8%AD%E5%AE%9A%E3%81%B8.csv',\n",
       "  '../data/datasets/interim/b_features/batterywidgettomato.csv',\n",
       "  '../data/datasets/interim/b_features/photo-shuffle-puzzle.csv',\n",
       "  '../data/datasets/interim/b_features/league-of-hextech-chests.csv',\n",
       "  '../data/datasets/interim/b_features/ncm-%E3%81%8A%E3%83%88%E3%83%BC%E3%82%AF.csv',\n",
       "  '../data/datasets/interim/b_features/beyond-digital-solutions-bds3d.csv',\n",
       "  '../data/datasets/interim/b_features/black-and-white.csv',\n",
       "  '../data/datasets/interim/b_features/space-rollercoaster.csv',\n",
       "  '../data/datasets/interim/b_features/representante-ticby-kids.csv',\n",
       "  '../data/datasets/interim/b_features/malaysia-election-checker.csv',\n",
       "  '../data/datasets/interim/b_features/%D1%8E%D0%BB%D0%B0.csv',\n",
       "  '../data/datasets/interim/b_features/cats-poems-preview.csv',\n",
       "  '../data/datasets/interim/b_features/paddle-smash-free.csv',\n",
       "  '../data/datasets/interim/b_features/fiszkoteka-el-universo.csv',\n",
       "  '../data/datasets/interim/b_features/spring-weather-free.csv',\n",
       "  '../data/datasets/interim/b_features/little-red-riding-hood.csv',\n",
       "  '../data/datasets/interim/b_features/axon.csv',\n",
       "  '../data/datasets/interim/b_features/ankara-fashion-styles-ideas.csv',\n",
       "  '../data/datasets/interim/b_features/tron-bike-racing.csv',\n",
       "  '../data/datasets/interim/b_features/hg-2016-19.csv',\n",
       "  '../data/datasets/interim/b_features/the-weekly-qatar.csv',\n",
       "  '../data/datasets/interim/b_features/pandom-board.csv',\n",
       "  '../data/datasets/interim/b_features/%ED%94%84%EB%9E%91%EC%8A%A4%EC%96%B4%EB%8A%94-%EB%BB%94%ED%95%9C-%ED%8C%A8%ED%84%B4%EC%9D%98-%EB%B0%98%EB%B3%B5%EC%9D%B4%EB%8B%A4-lite.csv',\n",
       "  '../data/datasets/interim/b_features/golfday-new-jersey.csv',\n",
       "  '../data/datasets/interim/b_features/%E4%B8%83%E5%A4%95%E3%81%AE%E5%A4%9C-for-home%E3%81%8D%E3%81%9B%E3%81%8B%E3%81%88%E3%83%86%E3%83%BC%E3%83%9E.csv',\n",
       "  '../data/datasets/interim/b_features/flaming-fire-keyboard-theme.csv',\n",
       "  '../data/datasets/interim/b_features/frozen-bear-gummy-drop-free.csv',\n",
       "  '../data/datasets/interim/b_features/mp-player-ver-flash.csv',\n",
       "  '../data/datasets/interim/b_features/guitar-riff.csv',\n",
       "  '../data/datasets/interim/b_features/turisme-deltebre.csv',\n",
       "  '../data/datasets/interim/b_features/%E5%B9%B3%E6%88%9025%E5%B9%B4%E5%BA%A6-%E4%B8%80%E7%B4%9A%E8%88%97%E8%A3%85%E6%96%BD%E5%B7%A5%E7%AE%A1%E7%90%86%E6%8A%80%E5%A3%AB-%E9%81%8E%E5%8E%BB%E5%95%8F%E9%A1%8C.csv',\n",
       "  '../data/datasets/interim/b_features/lampusenter.csv',\n",
       "  '../data/datasets/interim/b_features/the-catholic-accent.csv',\n",
       "  '../data/datasets/interim/b_features/qing-camera.csv',\n",
       "  '../data/datasets/interim/b_features/doodle-fly.csv',\n",
       "  '../data/datasets/interim/b_features/viva%E6%9A%A2%E8%AE%80.csv',\n",
       "  '../data/datasets/interim/b_features/cleaning-and-arrange-home-game.csv',\n",
       "  '../data/datasets/interim/b_features/puzzle-and-ruler.csv',\n",
       "  '../data/datasets/interim/b_features/ten-plus-bees.csv',\n",
       "  '../data/datasets/interim/b_features/to-do-list-reminder.csv',\n",
       "  '../data/datasets/interim/b_features/venbit-mobile.csv',\n",
       "  '../data/datasets/interim/b_features/rocket-world-cup-theme-1.csv',\n",
       "  '../data/datasets/interim/b_features/mobile-spare-parts-gaffar-market.csv',\n",
       "  '../data/datasets/interim/b_features/hellot.csv',\n",
       "  '../data/datasets/interim/b_features/%D8%AD%D9%83%D9%85-%D9%88%D8%A3%D9%82%D9%88%D8%A7%D9%84-%D9%85%D8%B5%D9%88%D8%B1%D8%A9-%D9%88%D8%AA%D8%B3-%D8%A7%D8%A8.csv',\n",
       "  '../data/datasets/interim/b_features/fingerprints-%E6%95%99%E5%AD%B8%E7%B3%BB%E7%B5%B1.csv',\n",
       "  '../data/datasets/interim/b_features/p-nk-just-like-fire.csv',\n",
       "  '../data/datasets/interim/b_features/bubble-shoot-free.csv',\n",
       "  '../data/datasets/interim/b_features/mozart-geburtshaus-quiz.csv',\n",
       "  '../data/datasets/interim/b_features/istorie10-bac-si-admitere.csv',\n",
       "  '../data/datasets/interim/b_features/%E5%B0%8F%E5%AD%A6%E8%8B%B1%E8%AF%AD-%E9%85%B7%E5%AD%A6%E4%B9%A0.csv',\n",
       "  '../data/datasets/interim/b_features/entireangle.csv',\n",
       "  '../data/datasets/interim/b_features/wave-brick-classic.csv',\n",
       "  '../data/datasets/interim/b_features/santa-s-xmas-arcade.csv',\n",
       "  '../data/datasets/interim/b_features/bullshit-game.csv',\n",
       "  '../data/datasets/interim/b_features/universal-peace-foundation.csv',\n",
       "  '../data/datasets/interim/b_features/belajar-kerangka-n-organ-dalam-augmented-reality.csv',\n",
       "  '../data/datasets/interim/b_features/%EA%B3%84%EB%AA%85%EB%8C%80%EC%8A%88%ED%8D%BC%EB%A7%A8%ED%83%9C%EA%B6%8C%EC%8A%A4%EC%BF%A8.csv',\n",
       "  '../data/datasets/interim/b_features/srg-global-gallery-for-phone.csv',\n",
       "  '../data/datasets/interim/b_features/fly-fight.csv',\n",
       "  '../data/datasets/interim/b_features/laureate-virtual-fair.csv',\n",
       "  '../data/datasets/interim/b_features/delivery-co.csv',\n",
       "  '../data/datasets/interim/b_features/innovaction-week-pamplona.csv',\n",
       "  '../data/datasets/interim/b_features/dungeons-of-borne.csv',\n",
       "  '../data/datasets/interim/b_features/tic-tac-toe-rush.csv',\n",
       "  '../data/datasets/interim/b_features/fish-jigsaw-puzzles.csv',\n",
       "  '../data/datasets/interim/b_features/%E0%B8%AD%E0%B8%B2%E0%B8%AB%E0%B8%B2%E0%B8%A3%E0%B8%AB%E0%B8%A5%E0%B8%B1%E0%B8%81-5-%E0%B8%AB%E0%B8%A1%E0%B8%B9%E0%B9%88.csv',\n",
       "  '../data/datasets/interim/b_features/baby-hazel-royal-bath.csv',\n",
       "  '../data/datasets/interim/b_features/intisari-for-tablet.csv',\n",
       "  '../data/datasets/interim/b_features/real-highway-car-speed.csv',\n",
       "  '../data/datasets/interim/b_features/de-scalzi-immobiliare.csv',\n",
       "  '../data/datasets/interim/b_features/contemporary-bedroom-furniture.csv',\n",
       "  '../data/datasets/interim/b_features/farming-tractor-parking-games.csv',\n",
       "  '../data/datasets/interim/b_features/fantasy-elk-keyboard.csv',\n",
       "  '../data/datasets/interim/b_features/eassy-vd-downloader-demo-video.csv',\n",
       "  '../data/datasets/interim/b_features/360%C2%B0-t-54-tank-wallpaper.csv',\n",
       "  '../data/datasets/interim/b_features/%EB%82%98%EB%8A%94%EA%BC%BC%EC%88%98%EB%8B%A4.csv',\n",
       "  '../data/datasets/interim/b_features/radio-majestad-105-7-fm.csv',\n",
       "  '../data/datasets/interim/b_features/rosyjsko-polski-s%C5%82ownik.csv',\n",
       "  '../data/datasets/interim/b_features/segunda-ley-de-newton.csv',\n",
       "  '../data/datasets/interim/b_features/doodle-art-draw-ideas.csv',\n",
       "  '../data/datasets/interim/b_features/headways.csv',\n",
       "  '../data/datasets/interim/b_features/technology-news-in-turkish.csv',\n",
       "  '../data/datasets/interim/b_features/local-guide.csv',\n",
       "  '../data/datasets/interim/b_features/neo-race.csv',\n",
       "  '../data/datasets/interim/b_features/purdue-food-court-menu.csv',\n",
       "  '../data/datasets/interim/b_features/search-button-override.csv',\n",
       "  '../data/datasets/interim/b_features/vintel-mobile.csv',\n",
       "  '../data/datasets/interim/b_features/gpsandfleet.csv',\n",
       "  '../data/datasets/interim/b_features/fast-sms.csv',\n",
       "  '../data/datasets/interim/b_features/photo-quiz-name-that-artist.csv',\n",
       "  '../data/datasets/interim/b_features/integrands-data-exchange.csv',\n",
       "  '../data/datasets/interim/b_features/cube-it.csv',\n",
       "  '../data/datasets/interim/b_features/polis-haber.csv',\n",
       "  '../data/datasets/interim/b_features/%EA%B2%BD%EC%B6%98%EA%B0%80%EA%B2%BD%ED%98%B8%ED%85%94.csv',\n",
       "  '../data/datasets/interim/b_features/google-android-apps.csv',\n",
       "  '../data/datasets/interim/b_features/%EC%B2%9C%EB%85%84%EC%9D%98-%EC%A0%84%ED%86%B5-%EB%B0%B0%EA%B2%BD%ED%99%94%EB%A9%B4.csv',\n",
       "  '../data/datasets/interim/b_features/blue-marble-wall-lock.csv',\n",
       "  '../data/datasets/interim/b_features/belajar-huruf-hijaiyah.csv',\n",
       "  '../data/datasets/interim/b_features/real-tetrix-3d.csv',\n",
       "  '../data/datasets/interim/b_features/dynamic-dns-update.csv',\n",
       "  '../data/datasets/interim/b_features/vatican-wallpapers.csv',\n",
       "  '../data/datasets/interim/b_features/swiki-notifier.csv',\n",
       "  '../data/datasets/interim/b_features/hebrew-for-ics-keyboard.csv',\n",
       "  '../data/datasets/interim/b_features/agenda-de-vistas.csv',\n",
       "  '../data/datasets/interim/b_features/kdl-analisator-ru.csv',\n",
       "  '../data/datasets/interim/b_features/farmacia-puertas.csv',\n",
       "  '../data/datasets/interim/b_features/slick-bpm-counter.csv',\n",
       "  '../data/datasets/interim/b_features/%E3%81%97%E3%82%87%E3%81%BC%E3%82%93%E3%81%8C%E9%A3%9B%E3%81%B6.csv',\n",
       "  '../data/datasets/interim/b_features/keep-up-with-the-flu.csv',\n",
       "  '../data/datasets/interim/b_features/ganesh-tekdi.csv',\n",
       "  '../data/datasets/interim/b_features/kyzkuu.csv',\n",
       "  '../data/datasets/interim/b_features/%F0%9F%90%B1lovely-kitty-theme%F0%9F%90%B1.csv',\n",
       "  '../data/datasets/interim/b_features/aequilibrium-tower.csv',\n",
       "  '../data/datasets/interim/b_features/yarcode.csv',\n",
       "  '../data/datasets/interim/b_features/maxpoint.csv',\n",
       "  '../data/datasets/interim/b_features/spv%C2%AE-mobile-2-11.csv',\n",
       "  '../data/datasets/interim/b_features/%D1%82%D0%B0%D0%BD%D1%87%D0%B8%D0%BA%D0%B8.csv',\n",
       "  '../data/datasets/interim/b_features/piombino-news.csv',\n",
       "  '../data/datasets/interim/b_features/garcinia-cambogia-with-60-hca.csv',\n",
       "  '../data/datasets/interim/b_features/%E3%83%94%E3%83%A8%E3%83%94%E3%83%A8%E5%B0%86%E6%A3%8B-for-%E3%82%BF%E3%83%96%E3%83%AC%E3%83%83%E3%83%88-1280x800.csv',\n",
       "  '../data/datasets/interim/b_features/2016-adelaide-fringe.csv',\n",
       "  '../data/datasets/interim/b_features/new-living-translation-nlt.csv',\n",
       "  '../data/datasets/interim/b_features/sound-recorder-pro.csv',\n",
       "  '../data/datasets/interim/b_features/%EC%88%9C%EC%8B%A4%EB%9F%B0.csv',\n",
       "  '../data/datasets/interim/b_features/%E4%B8%96%E7%95%8C%E3%81%AE%E3%82%AB%E3%83%AF%E3%82%A4%E3%82%A4%E5%8B%95%E7%89%A9%E5%8D%A0%E3%81%84.csv',\n",
       "  '../data/datasets/interim/b_features/g-dragon-line-launcher-theme.csv',\n",
       "  '../data/datasets/interim/b_features/trendation-app.csv',\n",
       "  '../data/datasets/interim/b_features/%EC%83%88%EC%86%8C%EB%A7%9D%EA%B5%90%ED%9A%8C.csv',\n",
       "  '../data/datasets/interim/b_features/edge-mobile.csv',\n",
       "  '../data/datasets/interim/b_features/eggs-recipe.csv',\n",
       "  '../data/datasets/interim/b_features/simple-cake-recipes.csv',\n",
       "  '../data/datasets/interim/b_features/goofound.csv',\n",
       "  '../data/datasets/interim/b_features/leitura-f%C3%A1cil-pr%C3%A9-escola-free.csv',\n",
       "  '../data/datasets/interim/b_features/kmdm2012.csv',\n",
       "  '../data/datasets/interim/b_features/%E0%B8%81%E0%B9%84%E0%B8%81%E0%B9%88-%E0%B8%9E%E0%B8%B2%E0%B9%80%E0%B8%9E%E0%B8%A5%E0%B8%B4%E0%B8%99.csv',\n",
       "  '../data/datasets/interim/b_features/bingo-buddy.csv',\n",
       "  '../data/datasets/interim/b_features/muscle-cars-wallpaper.csv',\n",
       "  '../data/datasets/interim/b_features/london-journey-planner-live.csv',\n",
       "  '../data/datasets/interim/b_features/digibirds%E2%84%A2-magic-tunes-games.csv',\n",
       "  '../data/datasets/interim/b_features/cellflare-3-0-2.csv',\n",
       "  '../data/datasets/interim/b_features/day-finder.csv',\n",
       "  '../data/datasets/interim/b_features/sundown-keyboard-theme.csv',\n",
       "  '../data/datasets/interim/b_features/sansego.csv',\n",
       "  '../data/datasets/interim/b_features/%E3%83%9E%E3%83%89%E3%83%AA%E3%82%B947-%E5%85%A8%E5%9B%BD%E7%B5%B1%E4%B8%80%E7%89%88.csv',\n",
       "  '../data/datasets/interim/b_features/weight-loss.csv',\n",
       "  '../data/datasets/interim/b_features/%EB%B6%80%EC%82%B0%EB%8C%80%ED%95%99%EA%B5%90-%EA%B3%B5%ED%95%99%EA%B5%90%EC%9C%A1%ED%98%81%EC%8B%A0%EC%84%BC%ED%84%B0-bee-happy.csv',\n",
       "  '../data/datasets/interim/b_features/lock-theme-for-natural-tree-lake-dusk-wallpaper.csv',\n",
       "  '../data/datasets/interim/b_features/kirakiraheart-ko535a.csv',\n",
       "  '../data/datasets/interim/b_features/drapers-maylands-school.csv',\n",
       "  '../data/datasets/interim/b_features/skulp-tour-m%C3%BCnster.csv',\n",
       "  '../data/datasets/interim/b_features/ornamental-breeder.csv',\n",
       "  '../data/datasets/interim/b_features/minimalis-thouse-design.csv',\n",
       "  '../data/datasets/interim/b_features/robot-crime-city.csv',\n",
       "  '../data/datasets/interim/b_features/tbh-sg-%EB%A7%A4%EC%9E%A5%EC%9A%A9.csv',\n",
       "  '../data/datasets/interim/b_features/pukaar.csv',\n",
       "  '../data/datasets/interim/b_features/%ED%97%AC%EC%8A%A4%EB%A9%94%EC%9D%B4%ED%8A%B8-%EC%86%8C%EB%B9%84%EC%9E%90%EC%9A%A9.csv',\n",
       "  '../data/datasets/interim/b_features/is-that-funny.csv',\n",
       "  '../data/datasets/interim/b_features/howlcalc-lite.csv',\n",
       "  '../data/datasets/interim/b_features/imprensa-mix-web-r%C3%A1dio.csv',\n",
       "  '../data/datasets/interim/b_features/fdpeople.csv',\n",
       "  '../data/datasets/interim/b_features/aha-pos.csv',\n",
       "  '../data/datasets/interim/b_features/%E3%82%B9%E3%82%ABg-%E3%82%AF%E3%82%A4%E3%82%BA.csv',\n",
       "  '../data/datasets/interim/b_features/marktking.csv',\n",
       "  '../data/datasets/interim/b_features/%E3%81%82%E3%81%BE%E3%82%8F%E3%82%8A-%E3%80%9C%E3%81%82%E3%81%BE%E3%82%8A%E3%81%AE%E3%81%82%E3%82%8B%E3%82%8F%E3%82%8A%E3%81%96%E3%82%93%E3%80%9C.csv',\n",
       "  '../data/datasets/interim/b_features/flappy-farm.csv',\n",
       "  '../data/datasets/interim/b_features/alphabets-preschool-toddler.csv',\n",
       "  '../data/datasets/interim/b_features/icip-2015.csv',\n",
       "  '../data/datasets/interim/b_features/flying-geometry.csv',\n",
       "  '../data/datasets/interim/b_features/the-pursuit-of-bananas-banano.csv',\n",
       "  '../data/datasets/interim/b_features/columbia-university-cu-print.csv',\n",
       "  '../data/datasets/interim/b_features/mtoken.csv',\n",
       "  '../data/datasets/interim/b_features/memory-blocks.csv',\n",
       "  '../data/datasets/interim/b_features/blast-runner.csv',\n",
       "  '../data/datasets/interim/b_features/%E6%BE%B3my-taxi-beta-%E8%BC%95%E9%AC%86%E6%BE%B3%E9%96%80call%E7%9A%84.csv',\n",
       "  '../data/datasets/interim/b_features/claire-s-boutique.csv',\n",
       "  '../data/datasets/interim/b_features/%E9%9D%92%E5%B0%91%E5%B9%B4%E5%81%A5%E5%85%A8%E8%82%B2%E6%88%90%E3%81%AB%E9%96%A2%E3%81%99%E3%82%8B%E6%A8%99%E8%AA%9E%E3%82%92%E8%87%AA%E5%8B%95%E3%81%A7%E4%BD%9C%E6%88%90%EF%BC%81.csv',\n",
       "  '../data/datasets/interim/b_features/stolberg-uti-urlauberticket.csv',\n",
       "  '../data/datasets/interim/b_features/halloween-ringtones.csv',\n",
       "  '../data/datasets/interim/b_features/bts-bangkok.csv',\n",
       "  '../data/datasets/interim/b_features/radio-lira-fm.csv',\n",
       "  '../data/datasets/interim/b_features/siere-coahuila-mx-entrega-recepci%C3%B3n-coah-m%C3%A9xico.csv',\n",
       "  '../data/datasets/interim/b_features/medybuddy.csv',\n",
       "  '../data/datasets/interim/b_features/an-audio-player.csv',\n",
       "  '../data/datasets/interim/b_features/white-noise-free.csv',\n",
       "  '../data/datasets/interim/b_features/prova-de-cardiologia-lite.csv',\n",
       "  '../data/datasets/interim/b_features/24-d%C3%ADas-antes-de-navidad.csv',\n",
       "  '../data/datasets/interim/b_features/enterprise-mandiri.csv',\n",
       "  '../data/datasets/interim/b_features/r%C3%A1dio-maca%C3%A9-gospel.csv',\n",
       "  '../data/datasets/interim/b_features/independent-education.csv',\n",
       "  '../data/datasets/interim/b_features/vallejo-gilmore-dmd.csv',\n",
       "  '../data/datasets/interim/b_features/belajar-baca-abc.csv',\n",
       "  '../data/datasets/interim/b_features/hit-gym.csv',\n",
       "  '../data/datasets/interim/b_features/%E3%83%90%E3%83%BC%E3%83%81%E3%83%A3%E3%83%AB%E3%82%B9%E3%82%AB%E3%83%BC%E3%83%88%E3%83%A1%E3%82%AF%E3%83%AA.csv',\n",
       "  '../data/datasets/interim/b_features/botcraft-demo.csv',\n",
       "  '../data/datasets/interim/b_features/pk%E5%8F%B0%E5%8C%97.csv',\n",
       "  '../data/datasets/interim/b_features/progressive-lenses-fr.csv',\n",
       "  '../data/datasets/interim/b_features/prenatal-digital-medico.csv',\n",
       "  '../data/datasets/interim/b_features/candy-paint-post-malone-piano.csv',\n",
       "  '../data/datasets/interim/b_features/night-dream-theme.csv',\n",
       "  '../data/datasets/interim/b_features/jiwan-group.csv',\n",
       "  '../data/datasets/interim/b_features/taxi-benidorm.csv',\n",
       "  '../data/datasets/interim/b_features/m2m-uoffice-intro-kr.csv',\n",
       "  '../data/datasets/interim/b_features/uop-library.csv',\n",
       "  '../data/datasets/interim/b_features/saiyan-of-cw.csv',\n",
       "  '../data/datasets/interim/b_features/t-mobile-internet-na-kart%C4%99.csv',\n",
       "  '../data/datasets/interim/b_features/somerset-patriots.csv',\n",
       "  '../data/datasets/interim/b_features/color-battery-widget.csv',\n",
       "  '../data/datasets/interim/b_features/nvg-flash-cards-for-aviators.csv',\n",
       "  '../data/datasets/interim/b_features/kitten-puzzles.csv',\n",
       "  '../data/datasets/interim/b_features/swarm-battle.csv',\n",
       "  '../data/datasets/interim/b_features/%ED%8B%B0%ED%8C%8C%EB%8B%88-%EC%86%8D%EB%88%88%EC%8D%B9.csv',\n",
       "  '../data/datasets/interim/b_features/pulsador.csv',\n",
       "  '../data/datasets/interim/b_features/ninja-assassin-last-hope-3d.csv',\n",
       "  '../data/datasets/interim/b_features/kamus-3-bahasa.csv',\n",
       "  '../data/datasets/interim/b_features/batterycrystal.csv',\n",
       "  '../data/datasets/interim/b_features/implicit-plotter-calculator.csv',\n",
       "  '../data/datasets/interim/b_features/uai-music.csv',\n",
       "  '../data/datasets/interim/b_features/easykom-personale.csv',\n",
       "  '../data/datasets/interim/b_features/memorython-multiplayer-lite.csv',\n",
       "  '../data/datasets/interim/b_features/descobrindo-o-alfabeto.csv',\n",
       "  '../data/datasets/interim/b_features/%EC%84%9C%EA%B7%80%ED%8F%AC%EC%A2%85%ED%95%A9%EC%A1%B0%EA%B2%BD.csv',\n",
       "  '../data/datasets/interim/b_features/bibi-happy-party-protector.csv',\n",
       "  '../data/datasets/interim/b_features/ivt-shop.csv',\n",
       "  '../data/datasets/interim/b_features/ider-costruzioni.csv',\n",
       "  '../data/datasets/interim/b_features/%E8%94%A1%E6%AD%A3%E5%B9%B3%E8%80%B3%E9%BC%BB%E5%96%89%E7%A7%91.csv',\n",
       "  '../data/datasets/interim/b_features/peeek.csv',\n",
       "  '../data/datasets/interim/b_features/%E0%B9%82%E0%B8%9B%E0%B8%A3%E0%B9%81%E0%B8%81%E0%B8%A3%E0%B8%A1%E0%B8%9A%E0%B8%AD%E0%B8%A5.csv',\n",
       "  '../data/datasets/interim/b_features/qwixx-score-sheet.csv',\n",
       "  '../data/datasets/interim/b_features/%D9%83%D8%AA%D8%A7%D8%A8-%D8%AA%D8%B9%D9%84%D9%85%D9%80%D9%89-%D8%A7%D9%84%D8%B7%D8%A8%D8%AE-%D8%AE%D8%A7%D8%B5-%D8%A8%D8%A7%D9%84%D8%AF%D8%AC%D8%A7%D8%AC.csv',\n",
       "  '../data/datasets/interim/b_features/block-run-unreleased.csv',\n",
       "  '../data/datasets/interim/b_features/go-photo-editor.csv',\n",
       "  '../data/datasets/interim/b_features/match-the-pig-kids-game.csv',\n",
       "  '../data/datasets/interim/b_features/droides-apps-phones-reviews.csv',\n",
       "  '../data/datasets/interim/b_features/geirs-apps.csv',\n",
       "  '../data/datasets/interim/b_features/mcare-mobile-app.csv',\n",
       "  '../data/datasets/interim/b_features/dume-donkey-run.csv',\n",
       "  '../data/datasets/interim/b_features/girlfriend-kaise-banaye.csv',\n",
       "  '../data/datasets/interim/b_features/manga-world-battle-saga.csv',\n",
       "  '../data/datasets/interim/b_features/lion-jigsaw-puzzles-demo.csv',\n",
       "  '../data/datasets/interim/b_features/prince-of-bengal.csv',\n",
       "  '../data/datasets/interim/b_features/our-call.csv',\n",
       "  '../data/datasets/interim/b_features/arvin.csv'],\n",
       " 'malware': ['../data/datasets/interim/m_features/18bcefdd591205ddedf3382f5fd22a05.csv',\n",
       "  '../data/datasets/interim/m_features/457421a21f539881d78497b9e8b53584.csv',\n",
       "  '../data/datasets/interim/m_features/fb740d902a18519d46e15dedf6d135a1.csv',\n",
       "  '../data/datasets/interim/m_features/2a96efaab45addbeab73abb96ee91034.csv',\n",
       "  '../data/datasets/interim/m_features/0b6c95bfce7086d6e707c481d4de99f2.csv',\n",
       "  '../data/datasets/interim/m_features/8dd685974f1879debfe5a70a37bdc4ba.csv',\n",
       "  '../data/datasets/interim/m_features/71812b544a64246280707c44699f0bb2.csv',\n",
       "  '../data/datasets/interim/m_features/1b63e50de62c5fffb34abbb3f3efbe79.csv',\n",
       "  '../data/datasets/interim/m_features/9b8a2535d49896235366891a87dd3475.csv',\n",
       "  '../data/datasets/interim/m_features/a2b0dc2922ca4dd248db1e59ced2800f.csv',\n",
       "  '../data/datasets/interim/m_features/377685c8eca9542fccc803bc40d0208b.csv',\n",
       "  '../data/datasets/interim/m_features/4c5a8a6a338a519d6bfd83859292b039.csv',\n",
       "  '../data/datasets/interim/m_features/9a599ed71af893a72628ec981fde7d02.csv',\n",
       "  '../data/datasets/interim/m_features/90b8b78626470c30c52ae86c508ca474.csv',\n",
       "  '../data/datasets/interim/m_features/3ae18454dc0f027d8af9bdcc12ab507b.csv',\n",
       "  '../data/datasets/interim/m_features/bfe59096d57f30e2c05c8a5e204dd8f6.csv',\n",
       "  '../data/datasets/interim/m_features/d29d3e013b2eea50bcfe7146310601ab.csv',\n",
       "  '../data/datasets/interim/m_features/41b65531990dba12e599cd00b8f9069f.csv',\n",
       "  '../data/datasets/interim/m_features/d7ef76b4b19ae2958fcf9b839f1c438f.csv',\n",
       "  '../data/datasets/interim/m_features/d45836e16e0907e8e14a0e7a3abc9a91.csv',\n",
       "  '../data/datasets/interim/m_features/9313fa19ab5d4b19a5c02eee44068375.csv',\n",
       "  '../data/datasets/interim/m_features/170f51c3299691e9a023bfc36ea2c17d.csv',\n",
       "  '../data/datasets/interim/m_features/b7944ba4e16b0c90d52c7594173ac0d2.csv',\n",
       "  '../data/datasets/interim/m_features/34bad8cc1ffcc2b93d294137aeef7e9f.csv',\n",
       "  '../data/datasets/interim/m_features/509436e0d4fb98a6ef646a70019337ed.csv',\n",
       "  '../data/datasets/interim/m_features/28b459efbf05dff1958a6917ae638da6.csv',\n",
       "  '../data/datasets/interim/m_features/262ce98bd2bcdcd4e256c235c734104f.csv',\n",
       "  '../data/datasets/interim/m_features/73a1edbc9c10dbc02e32c71239448b9d.csv',\n",
       "  '../data/datasets/interim/m_features/6f5e0ed751a0a91cf87bc6beaf578f18.csv',\n",
       "  '../data/datasets/interim/m_features/0aeaeaeda4618f26b06517587e5b1188.csv',\n",
       "  '../data/datasets/interim/m_features/ec41b750f8eb969e3b2a3c322d30e26e.csv',\n",
       "  '../data/datasets/interim/m_features/818991cf6a830472a051be233fc3d891.csv',\n",
       "  '../data/datasets/interim/m_features/34c67a651eeb154f37f6da28eec6329c.csv',\n",
       "  '../data/datasets/interim/m_features/2f8d73d3a1aa328333e723e6d6ccf4af.csv',\n",
       "  '../data/datasets/interim/m_features/73f3d5ab90d2a5150606c80dac7d6062.csv',\n",
       "  '../data/datasets/interim/m_features/ce134761f81d09f09a754b5bf28383f7.csv',\n",
       "  '../data/datasets/interim/m_features/e80f2883f3f76dc54151cbdb9460cd9f.csv',\n",
       "  '../data/datasets/interim/m_features/5f4e482221bc183762ebbf764ffd5a81.csv',\n",
       "  '../data/datasets/interim/m_features/0e63a3b80fa3c62d1fbb22028d144fa2.csv',\n",
       "  '../data/datasets/interim/m_features/0e137d7fba0eba1a90a28ade68f28276.csv',\n",
       "  '../data/datasets/interim/m_features/e1e45b3035d3e73cb682a679aa005751.csv',\n",
       "  '../data/datasets/interim/m_features/3c4bc541f79f63917b022e0696579b1e.csv',\n",
       "  '../data/datasets/interim/m_features/b642c7deb05375e83923b6b53c99ae36.csv',\n",
       "  '../data/datasets/interim/m_features/b843aa8d0218b0422fff91bae47a8874.csv',\n",
       "  '../data/datasets/interim/m_features/02ffcd17b679d674cef4d3d5d9e7109b.csv',\n",
       "  '../data/datasets/interim/m_features/ecf89e18f17d5572da73ffb1c3ddb6d5.csv',\n",
       "  '../data/datasets/interim/m_features/c77aa6e77fd61fe96588417b73110d61.csv',\n",
       "  '../data/datasets/interim/m_features/2b8c449dea000466cf9c368f40a778eb.csv',\n",
       "  '../data/datasets/interim/m_features/c69e5663e37740b279e44f122968ae4b.csv',\n",
       "  '../data/datasets/interim/m_features/30bd9d47f4510503e3695198ac3c00c0.csv',\n",
       "  '../data/datasets/interim/m_features/9c94f27dc1881db1460980c9789a301e.csv',\n",
       "  '../data/datasets/interim/m_features/462085a0f93ae80526899a09fa6d61f3.csv',\n",
       "  '../data/datasets/interim/m_features/3546adea2d7b1754b292d0e3f0bd8cb1.csv',\n",
       "  '../data/datasets/interim/m_features/1e27cba42c32e5d88bf94b6d0bb51813.csv',\n",
       "  '../data/datasets/interim/m_features/793eece5820b34276c4eccfdb6bb899c.csv',\n",
       "  '../data/datasets/interim/m_features/16431d63db8e6abe0f83624e9f333331.csv',\n",
       "  '../data/datasets/interim/m_features/0749e775f963fdab30583914f01486e3.csv',\n",
       "  '../data/datasets/interim/m_features/a88e70023e2e0d345bd7415f9b181a6f.csv',\n",
       "  '../data/datasets/interim/m_features/1b6939d43fec3b60d4545c8003c47994.csv',\n",
       "  '../data/datasets/interim/m_features/3e8bb117e12a2e46867362b07b2fbab4.csv',\n",
       "  '../data/datasets/interim/m_features/7090fdbe26e068abb654ad3b480ad6cb.csv',\n",
       "  '../data/datasets/interim/m_features/e5166e6871e22c072911a354a3ff59ca.csv',\n",
       "  '../data/datasets/interim/m_features/c1154bc5c619df2609f1f785c8fdbf2b.csv',\n",
       "  '../data/datasets/interim/m_features/92a4accc195b5d4482b8415c8c8db1ca.csv',\n",
       "  '../data/datasets/interim/m_features/5eee4b014b03385d1c1b27a8154d71df.csv',\n",
       "  '../data/datasets/interim/m_features/fa48920a7a9c930f5865a1902c144848.csv',\n",
       "  '../data/datasets/interim/m_features/aa0786ed0b2d8d904e5ab29b7aa87712.csv',\n",
       "  '../data/datasets/interim/m_features/fe2bcceb493431a49eeff241beb81989.csv',\n",
       "  '../data/datasets/interim/m_features/6bf04051084a7fd2022d43900322e187.csv',\n",
       "  '../data/datasets/interim/m_features/f1ba700f0a5ae746905f51b8fa28b802.csv',\n",
       "  '../data/datasets/interim/m_features/7941dde43990038d52f2ec4bb6802a87.csv',\n",
       "  '../data/datasets/interim/m_features/77829d5c8e0caf1d1021705e0be4a465.csv',\n",
       "  '../data/datasets/interim/m_features/445a584a2ac8efb52d3e2bb48c7b49c9.csv',\n",
       "  '../data/datasets/interim/m_features/3e02ce2a01589c00bff92f194bc1d962.csv',\n",
       "  '../data/datasets/interim/m_features/0c97c944b69662be951325d819a55d32.csv',\n",
       "  '../data/datasets/interim/m_features/14f8763a572d65c968721c78da76e5c6.csv',\n",
       "  '../data/datasets/interim/m_features/f458106fba444f4b3899a7cde86a9f4c.csv',\n",
       "  '../data/datasets/interim/m_features/65e01cb06a216d0e5f3c82ddca7f1a1a.csv',\n",
       "  '../data/datasets/interim/m_features/0e09441b93b5f2c5a7efe7cd7c45edc9.csv',\n",
       "  '../data/datasets/interim/m_features/e2213857457f20b617e6fddeec0b87e2.csv',\n",
       "  '../data/datasets/interim/m_features/84f08bad0829c196ae0cd55667b87d5e.csv',\n",
       "  '../data/datasets/interim/m_features/d1c823af96c52b38cb4330c328a6727f.csv',\n",
       "  '../data/datasets/interim/m_features/e4da8c0f9004220478a16d9c18b17435.csv',\n",
       "  '../data/datasets/interim/m_features/f87cc9b005bb461fce7789bf2a1a1666.csv',\n",
       "  '../data/datasets/interim/m_features/421e2f7c2224f3b13fa331b7a9d9d183.csv',\n",
       "  '../data/datasets/interim/m_features/f4ebc2411afe7cc523d95bde4c5c5989.csv',\n",
       "  '../data/datasets/interim/m_features/5d48b1fc14f653be38969ab5319c2de1.csv',\n",
       "  '../data/datasets/interim/m_features/65bdd0485656c278e13879671dce2fbd.csv',\n",
       "  '../data/datasets/interim/m_features/f3434172fa88bfdfd6037a1bad9898e0.csv',\n",
       "  '../data/datasets/interim/m_features/6ea2e44f5a772fa1e411c7f4cf1f3f04.csv',\n",
       "  '../data/datasets/interim/m_features/6b07336f56c3f967f235199356bd73e1.csv',\n",
       "  '../data/datasets/interim/m_features/2f1c29bb85b612234f0f7bc343ca78ee.csv',\n",
       "  '../data/datasets/interim/m_features/947a81ff5fc75bc5d3120fcb2560b44a.csv',\n",
       "  '../data/datasets/interim/m_features/a9edfc77aeaa93d239b26b1b051961fc.csv',\n",
       "  '../data/datasets/interim/m_features/836e64f3e9046e08cdf66b944718e48b.csv',\n",
       "  '../data/datasets/interim/m_features/f9d1f77b9449d06a99094827fd907ab5.csv',\n",
       "  '../data/datasets/interim/m_features/718bb1794e9c5f91b5a2df999fe2ce46.csv',\n",
       "  '../data/datasets/interim/m_features/355b901e5fd844a7a2040fda0d6dd5e1.csv',\n",
       "  '../data/datasets/interim/m_features/1fd2484190c53b2c17bde15fc31d9fb9.csv',\n",
       "  '../data/datasets/interim/m_features/15d1b63e25ae6e6b2276bc088f774cb1.csv',\n",
       "  '../data/datasets/interim/m_features/6c8ab024e03d932469649bca1a751f81.csv',\n",
       "  '../data/datasets/interim/m_features/92f04f9a426392856878a7290178ffe5.csv',\n",
       "  '../data/datasets/interim/m_features/1a5c3d6e318ed6b908ab6e202179308c.csv',\n",
       "  '../data/datasets/interim/m_features/5a2ca1552ebac29210fb1375b612e7da.csv',\n",
       "  '../data/datasets/interim/m_features/cc4368b8488b0e66287208b7f0b3d29f.csv',\n",
       "  '../data/datasets/interim/m_features/06c62fcd39d1156d6dd6fb06ac1800a6.csv',\n",
       "  '../data/datasets/interim/m_features/9cbff8b2e644eafd64796fafe83c3964.csv',\n",
       "  '../data/datasets/interim/m_features/6595abe37d53dc128e6f701fcefbd9a0.csv',\n",
       "  '../data/datasets/interim/m_features/15969432054bebb3b4193cd5d4fb6f06.csv',\n",
       "  '../data/datasets/interim/m_features/1cdf215af05a790f22f403e8387d7d4e.csv',\n",
       "  '../data/datasets/interim/m_features/a025a65da6004a83804efdcb4fb74018.csv',\n",
       "  '../data/datasets/interim/m_features/b633dbe661ae480225a172475fcae9fb.csv',\n",
       "  '../data/datasets/interim/m_features/efdd4419ca8c5644c088f335d7e901f3.csv',\n",
       "  '../data/datasets/interim/m_features/6013ab1af148fe0de2d8cb88304bb1d4.csv',\n",
       "  '../data/datasets/interim/m_features/62fdaaaaab648d8f34b5ec43e9231cbe.csv',\n",
       "  '../data/datasets/interim/m_features/30a03d7a5e6ec234bbb6d333e9f30ec9.csv',\n",
       "  '../data/datasets/interim/m_features/44e93dc8cce56ae05333f942a581a5f4.csv',\n",
       "  '../data/datasets/interim/m_features/53785322657cce31bd512c90c7c3eaf3.csv',\n",
       "  '../data/datasets/interim/m_features/8fc5a9397e84ded85fa9503a1ced1cdc.csv',\n",
       "  '../data/datasets/interim/m_features/40a20f9d5304989bc119f75503224e16.csv',\n",
       "  '../data/datasets/interim/m_features/4b2315317cf9b546a226b4d389369358.csv',\n",
       "  '../data/datasets/interim/m_features/4ac5ad2f6fcca9b2052ae4f55ce79b68.csv',\n",
       "  '../data/datasets/interim/m_features/46c902ed57beea3a00a6c2275a220129.csv',\n",
       "  '../data/datasets/interim/m_features/2cf5b053bf51e9ff8ea653da5523b5f1.csv',\n",
       "  '../data/datasets/interim/m_features/b19a706845bd1f17447397ff4917a4e7.csv',\n",
       "  '../data/datasets/interim/m_features/2b92256331414f450b668937ee2e1bea.csv',\n",
       "  '../data/datasets/interim/m_features/214b4adcfca01a264670d1a0387b01b3.csv',\n",
       "  '../data/datasets/interim/m_features/ebb2e511f1123ba37d63b3cdaa79e016.csv',\n",
       "  '../data/datasets/interim/m_features/9f723da52e774a6c5d03d8ba5f6af51f.csv',\n",
       "  '../data/datasets/interim/m_features/cfaec4d04415aa8403e467581f3a7ea1.csv',\n",
       "  '../data/datasets/interim/m_features/cf677d173435d7a38421a0aca9efb1bf.csv',\n",
       "  '../data/datasets/interim/m_features/2cd1908f4846e81e92f82684d337e858.csv',\n",
       "  '../data/datasets/interim/m_features/fa66b430262188199ae1b998095ec23f.csv',\n",
       "  '../data/datasets/interim/m_features/efa56fdd3d228be90f13cc072ee293c2.csv',\n",
       "  '../data/datasets/interim/m_features/24e73bfcc50a74bafa1d762da359e593.csv',\n",
       "  '../data/datasets/interim/m_features/7a8a62ebcf5ead48263e2db02d429132.csv',\n",
       "  '../data/datasets/interim/m_features/97b246fae00155f210d3d04ff3382000.csv',\n",
       "  '../data/datasets/interim/m_features/3abcbf0740e69c4e23c6b48024891622.csv',\n",
       "  '../data/datasets/interim/m_features/f9c0665c83ed44a09e11dc6637f2886e.csv',\n",
       "  '../data/datasets/interim/m_features/6b4c111a5de91117ae054ac155ed17b2.csv',\n",
       "  '../data/datasets/interim/m_features/0a7879fd071f5e6ea2ebbad94dcd3570.csv',\n",
       "  '../data/datasets/interim/m_features/a12131bf43be3a7d0b104c524d474d94.csv',\n",
       "  '../data/datasets/interim/m_features/4e577464f7e8e87f6be2433ba30f8381.csv',\n",
       "  '../data/datasets/interim/m_features/8dbe3acfb46de6d680a4bae6baf1c858.csv',\n",
       "  '../data/datasets/interim/m_features/4b40d9e42fe61c23b77003b2429a7e8e.csv',\n",
       "  '../data/datasets/interim/m_features/f2b331984bb81826fa89f30d99b51c08.csv',\n",
       "  '../data/datasets/interim/m_features/5ab0a20b09b1f36911749222f56bb205.csv',\n",
       "  '../data/datasets/interim/m_features/47763465a861bd24d4e6d2fe7469887e.csv',\n",
       "  '../data/datasets/interim/m_features/bcbb0705b26d11769379ca84f6e022cf.csv',\n",
       "  '../data/datasets/interim/m_features/b02e2060f8a12969c4d7433451acb903.csv',\n",
       "  '../data/datasets/interim/m_features/9b0d9ea4bb2a5549f5300595b1eb643e.csv',\n",
       "  '../data/datasets/interim/m_features/3646096588987326f559d30c61e830e7.csv',\n",
       "  '../data/datasets/interim/m_features/130f23a5e2ff3f173d217c8c9f5ac1cc.csv',\n",
       "  '../data/datasets/interim/m_features/078e7d2665ddfbc74dc5147d0b5c2e12.csv',\n",
       "  '../data/datasets/interim/m_features/7511ed572f555af27c47f2a02b64302d.csv',\n",
       "  '../data/datasets/interim/m_features/9b0421462328f49de951ece1aec9abc9.csv',\n",
       "  '../data/datasets/interim/m_features/05cbb37f30bc63b8e567ed4831b59e26.csv',\n",
       "  '../data/datasets/interim/m_features/e980e96f262cf2e6fcd8bc29786a71bc.csv',\n",
       "  '../data/datasets/interim/m_features/6520be4d6f0740ebaada45805a0ea446.csv',\n",
       "  '../data/datasets/interim/m_features/84942bfc3cfeaac17af3e8c2d16c99bf.csv',\n",
       "  '../data/datasets/interim/m_features/1a5be173810a81671be218763c002e97.csv',\n",
       "  '../data/datasets/interim/m_features/da0e84dcbf921039f3c42213bf2dec86.csv',\n",
       "  '../data/datasets/interim/m_features/1be29a6622543f6f5063eda1d83a4e49.csv',\n",
       "  '../data/datasets/interim/m_features/a59e42a652e02581893d2ab0885046cc.csv',\n",
       "  '../data/datasets/interim/m_features/4deada401ff749a2104f9614da132832.csv',\n",
       "  '../data/datasets/interim/m_features/c2ce219cb8286c308e3c9626b269c0f7.csv',\n",
       "  '../data/datasets/interim/m_features/d8f17bb6041f5e240ed390de19e71343.csv',\n",
       "  '../data/datasets/interim/m_features/bbc97a18fbe5b71b473df5e1d4e6960f.csv',\n",
       "  '../data/datasets/interim/m_features/4f399241daa78d7e15c0c375a7cb5f03.csv',\n",
       "  '../data/datasets/interim/m_features/ba0d83c41563257c20e64a0f80b32c3a.csv',\n",
       "  '../data/datasets/interim/m_features/8e9aef4cdb8dc4de1ad74bf1fb82e7a4.csv',\n",
       "  '../data/datasets/interim/m_features/06b6f1288ee1b293ad90dd8730568c9e.csv',\n",
       "  '../data/datasets/interim/m_features/0ee4223f26481d32900cf362a9a8bec0.csv',\n",
       "  '../data/datasets/interim/m_features/db1810ce83ac4e084ffcf9d57f5af9e4.csv',\n",
       "  '../data/datasets/interim/m_features/e0bebaf1847c69344907c24bcd0918bb.csv',\n",
       "  '../data/datasets/interim/m_features/19e93e5ddf949477524fd1fde41f56c1.csv',\n",
       "  '../data/datasets/interim/m_features/8d1a8ecebf51ca018e7654e78fc029ea.csv',\n",
       "  '../data/datasets/interim/m_features/690cea60f00af75ae511aebf11f9f170.csv',\n",
       "  '../data/datasets/interim/m_features/5f4a052b60b5e2d5f32deb3c69dbd6d7.csv',\n",
       "  '../data/datasets/interim/m_features/d07b38b85173f9887975b32bb2101376.csv',\n",
       "  '../data/datasets/interim/m_features/3c9ecaf0697c14d0cd48bd478dcdebab.csv',\n",
       "  '../data/datasets/interim/m_features/c771f2141642e8ea678f72d2c3f28b4a.csv',\n",
       "  '../data/datasets/interim/m_features/d52e1b45ee61f062120b522e2468167d.csv',\n",
       "  '../data/datasets/interim/m_features/44a56e288d906cbfec85f6715554f83b.csv',\n",
       "  '../data/datasets/interim/m_features/0d8f5954944ad028f880d42c0ff19fa1.csv',\n",
       "  '../data/datasets/interim/m_features/edbda743bf32f98d4c3abd0053877105.csv',\n",
       "  '../data/datasets/interim/m_features/ef6ec0d5a7657e41ac6e00901c1473cb.csv',\n",
       "  '../data/datasets/interim/m_features/cd1c5174a63fdbd63834d6780f2a355e.csv',\n",
       "  '../data/datasets/interim/m_features/0b53d37afa0971e2295c537991b4b7d5.csv',\n",
       "  '../data/datasets/interim/m_features/a560afafc0497d6a75235d3d12ae9216.csv',\n",
       "  '../data/datasets/interim/m_features/e24e83c821c49e8d487451240c02231c.csv',\n",
       "  '../data/datasets/interim/m_features/1bfefe494e49abc44c552712886d8966.csv',\n",
       "  '../data/datasets/interim/m_features/e7d35f8b9d7e984289e307de8f8a5055.csv',\n",
       "  '../data/datasets/interim/m_features/fc5904aa6c7a382d4a0a57ecbae727f5.csv',\n",
       "  '../data/datasets/interim/m_features/c69348b7485b7cf37b53cdc21036e2e4.csv',\n",
       "  '../data/datasets/interim/m_features/4bc79d4025a5092c987dda5d8a3855b7.csv',\n",
       "  '../data/datasets/interim/m_features/d034ea7167c906d73c243332d3e4c9c2.csv',\n",
       "  '../data/datasets/interim/m_features/9ede50657e1d9be7411f79f6668011e7.csv',\n",
       "  '../data/datasets/interim/m_features/27c5c8c1af905ca2b850a90f58ec141d.csv',\n",
       "  '../data/datasets/interim/m_features/99d0c48510be1e7106a46f4eecd7c469.csv',\n",
       "  '../data/datasets/interim/m_features/59c06172d30759003633ba8255bf1aed.csv',\n",
       "  '../data/datasets/interim/m_features/136340097670f2c337a1fa0a2737d18b.csv',\n",
       "  '../data/datasets/interim/m_features/ba5535366baf9534eeb1580dd44d3da4.csv',\n",
       "  '../data/datasets/interim/m_features/51fd17c2df1a264a5cf8dfadd0c53216.csv',\n",
       "  '../data/datasets/interim/m_features/f60eeae5b0b787c4f6e47a6457b88dc7.csv',\n",
       "  '../data/datasets/interim/m_features/d1c2e1a2f54a6bcfc91e459fd800186d.csv',\n",
       "  '../data/datasets/interim/m_features/48652957b3b0cecd78aab56284f8fc23.csv',\n",
       "  '../data/datasets/interim/m_features/f6e3ecb453d07bbc8764d3d617b08f4b.csv',\n",
       "  '../data/datasets/interim/m_features/b588a9126e3d07fb683d6120525a9eef.csv',\n",
       "  '../data/datasets/interim/m_features/a09e6ba94602c05b5b03cf7e326817c8.csv',\n",
       "  '../data/datasets/interim/m_features/07ee6cdfd8e5c111a33dc6e40aebb3c5.csv',\n",
       "  '../data/datasets/interim/m_features/01ae79884cee9d7fd59f422ae2918f1f.csv',\n",
       "  '../data/datasets/interim/m_features/61454e8bb6a377f487268591159efe18.csv',\n",
       "  '../data/datasets/interim/m_features/ead87795c8e8ea292b3a9b65ca7efbd7.csv',\n",
       "  '../data/datasets/interim/m_features/40a480bd1fe70a3d407575bc0e4e5522.csv',\n",
       "  '../data/datasets/interim/m_features/a72f20fd52fe7b4201fe8c19cb1babe1.csv',\n",
       "  '../data/datasets/interim/m_features/7fda45d61c57fdd07a18c13896084db6.csv',\n",
       "  '../data/datasets/interim/m_features/6435ae84fc3d86d405b0bce12c3f9815.csv',\n",
       "  '../data/datasets/interim/m_features/851953bee7687d96891f45f24297a50b.csv',\n",
       "  '../data/datasets/interim/m_features/2fc52e47141ad36363c240f4e15ec4e4.csv',\n",
       "  '../data/datasets/interim/m_features/60564847cd8cc6217d2118a173e2722b.csv',\n",
       "  '../data/datasets/interim/m_features/55128269aef5a5c0040acbeec9cbda83.csv',\n",
       "  '../data/datasets/interim/m_features/a02cc072da680e6c80ab13f36993843f.csv',\n",
       "  '../data/datasets/interim/m_features/49f05ab48587ae2b1aa89200310b3169.csv',\n",
       "  '../data/datasets/interim/m_features/5ba8a71f3f78395010ffc34c13cb274f.csv',\n",
       "  '../data/datasets/interim/m_features/0f78e660e4f08cb5ea1bfc3b13fe7857.csv',\n",
       "  '../data/datasets/interim/m_features/fcd0506d9ac8fd5b33a2784c22347e84.csv',\n",
       "  '../data/datasets/interim/m_features/9cbf4b9118be786552391a32e8bc3062.csv',\n",
       "  '../data/datasets/interim/m_features/921a054ab655b7427aa0610857175735.csv',\n",
       "  '../data/datasets/interim/m_features/f0b4e72f34ae3cda38eb162effe4ba4e.csv',\n",
       "  '../data/datasets/interim/m_features/9eea419418018b96dd32e407b3117545.csv',\n",
       "  '../data/datasets/interim/m_features/6d4b0a36e55f2c5f6df15d09df8d0dd4.csv',\n",
       "  '../data/datasets/interim/m_features/1569236acc16fa45e90f5f7ad9221bcc.csv',\n",
       "  '../data/datasets/interim/m_features/1e9d27ff5619d6bc2dcacfe603e98ba6.csv',\n",
       "  '../data/datasets/interim/m_features/1c34ae2a9b1e512139f0cb26a35a1f56.csv',\n",
       "  '../data/datasets/interim/m_features/052d742c7ccf3c6470776187d2d7dad2.csv',\n",
       "  '../data/datasets/interim/m_features/041b268521bc6fa6d8bc44e1faf7293f.csv',\n",
       "  '../data/datasets/interim/m_features/fc45892e033e4fe8ecefe96890198b5b.csv',\n",
       "  '../data/datasets/interim/m_features/65a46987af79bbea356fc9cf34ddda7f.csv',\n",
       "  '../data/datasets/interim/m_features/03b5d22bc15cc2dd6577b895f887c50b.csv',\n",
       "  '../data/datasets/interim/m_features/342e547fa5f532eebebd54a211e391ae.csv',\n",
       "  '../data/datasets/interim/m_features/5527ffe6768f3b61d69ee83039f6e487.csv',\n",
       "  '../data/datasets/interim/m_features/f75f7a60ec0dbfa4b1ba9c2d56ab000e.csv',\n",
       "  '../data/datasets/interim/m_features/5cf1a0deba52863091c39f3f327060ac.csv',\n",
       "  '../data/datasets/interim/m_features/477dc44c5078a23ec8ddbb93248284a6.csv',\n",
       "  '../data/datasets/interim/m_features/734b5f120ad25e3f1c81365f8339d0f8.csv',\n",
       "  '../data/datasets/interim/m_features/bc5e92479aa3a38c46d26f14e8abe593.csv',\n",
       "  '../data/datasets/interim/m_features/5cd81f2ac0711657cf987665b5ec6842.csv',\n",
       "  '../data/datasets/interim/m_features/1239dda7056bdaf28af7d174af0a473f.csv',\n",
       "  '../data/datasets/interim/m_features/93246459ed3be462f87be8b141b1f387.csv',\n",
       "  '../data/datasets/interim/m_features/cae3abb247b6089b6487c8ff9cb3c7f7.csv',\n",
       "  '../data/datasets/interim/m_features/90b051443fdbe4fb974f8ba3785cde8f.csv',\n",
       "  '../data/datasets/interim/m_features/bcf09dbe5f8f901804fc712151a5d96c.csv',\n",
       "  '../data/datasets/interim/m_features/59c81839e2279a58df516b212609e50e.csv',\n",
       "  '../data/datasets/interim/m_features/5b7a42f6f5d973b753432335813f9d8c.csv',\n",
       "  '../data/datasets/interim/m_features/694df049a5c98713932a756171c5143c.csv',\n",
       "  '../data/datasets/interim/m_features/903d3647b0f4c1f321e0c6ef63dbfc97.csv',\n",
       "  '../data/datasets/interim/m_features/6c644333bb93ca8ef9249954bcb6bb32.csv',\n",
       "  '../data/datasets/interim/m_features/6cc85d39c21711dcd6c5ab742826bb90.csv',\n",
       "  '../data/datasets/interim/m_features/bf90022ed3dc740228291a8b0495a340.csv',\n",
       "  '../data/datasets/interim/m_features/521583aefa9f95c5cce53756ebcfa35c.csv',\n",
       "  '../data/datasets/interim/m_features/01506c449dec296a683d60bb9c6b987d.csv',\n",
       "  '../data/datasets/interim/m_features/9e7d24027621c0ecfd13995f2e098e8c.csv',\n",
       "  '../data/datasets/interim/m_features/f62724cddb173f4f57b367c2b79c32ed.csv',\n",
       "  '../data/datasets/interim/m_features/c72083870416a4adb66bc1e3f71038af.csv',\n",
       "  '../data/datasets/interim/m_features/fbcd99296397ee764f74d73f575d22b3.csv',\n",
       "  '../data/datasets/interim/m_features/61e37ff1a3384a8d2d5df122bb5c3a4d.csv',\n",
       "  '../data/datasets/interim/m_features/ba59fda101be38880403337df729fb16.csv',\n",
       "  '../data/datasets/interim/m_features/176954451d7f601cdc22f3173e1bf0c4.csv',\n",
       "  '../data/datasets/interim/m_features/d41bf7810a88c6d5028702689f23f999.csv',\n",
       "  '../data/datasets/interim/m_features/6149c15633ac3569e2e8d5f51555c98e.csv',\n",
       "  '../data/datasets/interim/m_features/eeac076a6fe6ecd8985b574da99ef0e3.csv',\n",
       "  '../data/datasets/interim/m_features/5b96e0d655c1ded6c5133a7babf9c117.csv',\n",
       "  '../data/datasets/interim/m_features/de01827c5e4091dea99f0b212bc7334d.csv',\n",
       "  '../data/datasets/interim/m_features/162c1add80ed939e789075aa583bb3b6.csv',\n",
       "  '../data/datasets/interim/m_features/05c2f6059ae7150980d89d7b7c560a1e.csv',\n",
       "  '../data/datasets/interim/m_features/0a34d14be275ef9fc3227716a5c3b85b.csv',\n",
       "  '../data/datasets/interim/m_features/54d62e3205e7077d7992d412d81bf767.csv',\n",
       "  '../data/datasets/interim/m_features/fc9185253a403c9a0de27e94bb1f2626.csv',\n",
       "  '../data/datasets/interim/m_features/bafcede73f8bfd2f3dd3c57d9b1ab2db.csv',\n",
       "  '../data/datasets/interim/m_features/b4f43e557f25e090b82cf76594f5c942.csv',\n",
       "  '../data/datasets/interim/m_features/c928592bc4103fcd861df51968057ecf.csv',\n",
       "  '../data/datasets/interim/m_features/7546d8ab7e65e9432a7ea6ca837aed9e.csv',\n",
       "  '../data/datasets/interim/m_features/b6c329c8a3913a28bea198d88191a7f0.csv',\n",
       "  '../data/datasets/interim/m_features/30c79da530095e050b05605036db0012.csv',\n",
       "  '../data/datasets/interim/m_features/366eca52edf9160d02284a90168bce42.csv',\n",
       "  '../data/datasets/interim/m_features/a140ce6b22a845013846d998c6e8e296.csv',\n",
       "  '../data/datasets/interim/m_features/6bee900fa7e8c4dc6f9111e88e334596.csv',\n",
       "  '../data/datasets/interim/m_features/14bd6392630b4c0f209e06b90def0540.csv',\n",
       "  '../data/datasets/interim/m_features/ef61d50f8394b46f85a2f0a750c0b37b.csv',\n",
       "  '../data/datasets/interim/m_features/a5b46827066862a6e24acf13379bebd9.csv',\n",
       "  '../data/datasets/interim/m_features/67f69180d03a09515265664753321466.csv',\n",
       "  '../data/datasets/interim/m_features/0b3f8b102ede1632ebea9c6dcf8168ea.csv',\n",
       "  '../data/datasets/interim/m_features/00cf9dbf2c024ad6602b1e33d71fbdc6.csv',\n",
       "  '../data/datasets/interim/m_features/9dcdd01231eb4437f8be53b613dca27b.csv',\n",
       "  '../data/datasets/interim/m_features/4771733ef1c80f94672f849b139dbb8e.csv',\n",
       "  '../data/datasets/interim/m_features/fb834d01719cb78704c86a8aaed9f800.csv',\n",
       "  '../data/datasets/interim/m_features/630dc91d440a1eb35de1d482fa77bc35.csv',\n",
       "  '../data/datasets/interim/m_features/0f65a914c13a88fe561cf28d028919ac.csv',\n",
       "  '../data/datasets/interim/m_features/17932c64f8f8d4bd6d43b996a2ee2996.csv',\n",
       "  '../data/datasets/interim/m_features/3126485b78b86cb180f60945f9c21ade.csv',\n",
       "  '../data/datasets/interim/m_features/fdd00ffee5bfabcceb8b1afaadf7d44d.csv',\n",
       "  '../data/datasets/interim/m_features/dba797fb48e3ad527662b21cb89e14dc.csv',\n",
       "  '../data/datasets/interim/m_features/1252fac0e96db4ec46623aec0609ca67.csv',\n",
       "  '../data/datasets/interim/m_features/167d47d5539f63ba8dea5e28491c3d5c.csv',\n",
       "  '../data/datasets/interim/m_features/4083503b0e34f0addd25920d6a0cafde.csv',\n",
       "  '../data/datasets/interim/m_features/b13e71b85d95eaa7df2727818a39954c.csv',\n",
       "  '../data/datasets/interim/m_features/f290d0fefd3a8a4a32695886393ba8e3.csv',\n",
       "  '../data/datasets/interim/m_features/79c63a5568054df65eb29e959beb23e3.csv',\n",
       "  '../data/datasets/interim/m_features/4058e0facf33571362d9379c96a362e8.csv',\n",
       "  '../data/datasets/interim/m_features/e3c14b3f4e4b7f121bedd2d71e29870f.csv',\n",
       "  '../data/datasets/interim/m_features/10668d7c4637b5cd5e6045d746b40a10.csv',\n",
       "  '../data/datasets/interim/m_features/943677d4b42be217f19314f5e300bac3.csv',\n",
       "  '../data/datasets/interim/m_features/8501cf2295b7314f7607802faae4189a.csv',\n",
       "  '../data/datasets/interim/m_features/823646429f87a9d74c9b83394fb53c57.csv',\n",
       "  '../data/datasets/interim/m_features/f42bba07dc41c7dff33f8df2fa6da99a.csv',\n",
       "  '../data/datasets/interim/m_features/48e58300cd72b275db4d1f94740372be.csv',\n",
       "  '../data/datasets/interim/m_features/2da863739e4484bd5089a965ce580c73.csv',\n",
       "  '../data/datasets/interim/m_features/57effb957614257bdc47f0b5e703ccbc.csv',\n",
       "  '../data/datasets/interim/m_features/8bc54771ecd4e3972c44f4665f0dc620.csv',\n",
       "  '../data/datasets/interim/m_features/787b10a50079d6d0c7f9a2de7536d3fc.csv',\n",
       "  '../data/datasets/interim/m_features/4bae94e93b87e4bb92c2fdc4ee0dd2e7.csv',\n",
       "  '../data/datasets/interim/m_features/ddb77474e4fcb17520cdf32319bb82da.csv',\n",
       "  '../data/datasets/interim/m_features/da21462092c12d67de37072c7e134771.csv',\n",
       "  '../data/datasets/interim/m_features/96b24b3fa8f55d41ce86f95115b5818c.csv',\n",
       "  '../data/datasets/interim/m_features/9862045739dbb94c00d4df96981b1080.csv',\n",
       "  '../data/datasets/interim/m_features/4dbb504b202d4585b05dca1acc70e828.csv',\n",
       "  '../data/datasets/interim/m_features/a893d3cfce6e8869b35a8140089ec854.csv',\n",
       "  '../data/datasets/interim/m_features/8cb5ea29ddfae00b57cdc707fd0910eb.csv',\n",
       "  '../data/datasets/interim/m_features/bd0446e87ef2535ad9efa344b1aa7e82.csv',\n",
       "  '../data/datasets/interim/m_features/f2a3c1eee2473b348ff719ef91600cd2.csv',\n",
       "  '../data/datasets/interim/m_features/47d01cac469d68c04f30d258283d0649.csv',\n",
       "  '../data/datasets/interim/m_features/994f61444e198ba86628b972c6df2e45.csv',\n",
       "  '../data/datasets/interim/m_features/caf7bec82d66056fd12224bcef78af82.csv',\n",
       "  '../data/datasets/interim/m_features/0df6eeebbf37e6abc96af0f95b75a252.csv',\n",
       "  '../data/datasets/interim/m_features/3a525c0783527ad54e92ede56bbaa2ab.csv',\n",
       "  '../data/datasets/interim/m_features/17f541d3edb36c2b5b587505f82cc8f8.csv',\n",
       "  '../data/datasets/interim/m_features/819fae62ea773f67c72f1d6660a40e71.csv',\n",
       "  '../data/datasets/interim/m_features/bc6aaefe9a7004719f7f0607fc4efdb2.csv',\n",
       "  '../data/datasets/interim/m_features/cda2156fb30e2fae9b253fa45b7fb4fa.csv',\n",
       "  '../data/datasets/interim/m_features/504f410bc0c09e397767ae59cde17e48.csv',\n",
       "  '../data/datasets/interim/m_features/f341bacba47c05c2f8043907634f273c.csv',\n",
       "  '../data/datasets/interim/m_features/633bdb9cc2225b0880f83cf7ce84666e.csv',\n",
       "  '../data/datasets/interim/m_features/784b3666ab0c9871683f4fd63ffe6b6d.csv',\n",
       "  '../data/datasets/interim/m_features/7d6f03323bed8f1bcdc2593be78d4835.csv',\n",
       "  '../data/datasets/interim/m_features/4084939a0864b645f6c6a915586fb1ab.csv',\n",
       "  '../data/datasets/interim/m_features/c782e93a2ae9ac87a6dff5bc894bdbe5.csv',\n",
       "  '../data/datasets/interim/m_features/f120d71ebbfe390ecb84015248961069.csv',\n",
       "  '../data/datasets/interim/m_features/fac51653bdd5f0520fb04672ecaa9d7c.csv',\n",
       "  '../data/datasets/interim/m_features/b7343a1094f139699bc4698343d2b7ad.csv',\n",
       "  '../data/datasets/interim/m_features/2643602b4d491d5e841142cd103a87f1.csv',\n",
       "  '../data/datasets/interim/m_features/a9031f25cea0d4ec0591ab76a0005ad8.csv',\n",
       "  '../data/datasets/interim/m_features/e391cc974e013a054e9c618fc53bc2c2.csv',\n",
       "  '../data/datasets/interim/m_features/7706440d8f84ce30aa90ffebb3f6a3f4.csv',\n",
       "  '../data/datasets/interim/m_features/099a475ee81610adeafd67003732e41c.csv',\n",
       "  '../data/datasets/interim/m_features/7089021c4ac0a7f38d52206653070af9.csv',\n",
       "  '../data/datasets/interim/m_features/8c60c42119347be03aceedbecbd7739c.csv',\n",
       "  '../data/datasets/interim/m_features/3ec6ec273ff144bbfb9dfa9e33b5cc3b.csv',\n",
       "  '../data/datasets/interim/m_features/2aa05ff65d77d68b08bf1f662a469e44.csv',\n",
       "  '../data/datasets/interim/m_features/2334ffbd98194c1c4833e7a24d6c4f25.csv',\n",
       "  '../data/datasets/interim/m_features/29aeebb0e9a57974bc3947370c42e20d.csv',\n",
       "  '../data/datasets/interim/m_features/a001c2eaf1bb78e02c0659dae3cc2f90.csv',\n",
       "  '../data/datasets/interim/m_features/f7e4d1f734d1ed840b794c6f0e1f747b.csv',\n",
       "  '../data/datasets/interim/m_features/1612c752dd35ceae9f527e8f2b82a8c4.csv',\n",
       "  '../data/datasets/interim/m_features/31f198abfb94845bc02398851c90bad7.csv',\n",
       "  '../data/datasets/interim/m_features/173f02a30c51610c009a0a72351137bc.csv',\n",
       "  '../data/datasets/interim/m_features/e335073d3ea688aefdc527070ee89b24.csv',\n",
       "  '../data/datasets/interim/m_features/5531dd87ca275a9516c5739580bb1c89.csv',\n",
       "  '../data/datasets/interim/m_features/41b517bfe15cfb89ab09cc92ba18e036.csv',\n",
       "  '../data/datasets/interim/m_features/6a947fb4b69ec4fc8ee813cdf8e923cb.csv',\n",
       "  '../data/datasets/interim/m_features/1142b40a377e25d3f231f2ac5021f933.csv',\n",
       "  '../data/datasets/interim/m_features/0ab1eb0581cfc99541720b5fea7fd84c.csv',\n",
       "  '../data/datasets/interim/m_features/e5d931984a83ce2c2515cea5c7aaab8c.csv',\n",
       "  '../data/datasets/interim/m_features/9cf4c6fe701463ff05da808523859c28.csv',\n",
       "  '../data/datasets/interim/m_features/c3ac062db5f8545fc262bfabcafb8734.csv',\n",
       "  '../data/datasets/interim/m_features/d9e156ea23b51b793a4db303f972aa35.csv',\n",
       "  '../data/datasets/interim/m_features/0753d7c7c9aa6fc4ec0778beb6f2ae9f.csv',\n",
       "  '../data/datasets/interim/m_features/01e4116c6df2fe699403d686cbb4cdd1.csv',\n",
       "  '../data/datasets/interim/m_features/d5a9f160bc1fba8c7e6bd636cbc26876.csv',\n",
       "  '../data/datasets/interim/m_features/99f200b3c3aff52196d0442e2a6015a9.csv',\n",
       "  '../data/datasets/interim/m_features/9248b9c691d3d4793925ae472a2f1d90.csv',\n",
       "  '../data/datasets/interim/m_features/8b1da642fe535f6a47e2aa73991dfef5.csv',\n",
       "  '../data/datasets/interim/m_features/db97d62f4c1b8d176a363bc07bcf4d0c.csv',\n",
       "  '../data/datasets/interim/m_features/03d67a13dd36f7777a6b0004c77375b5.csv',\n",
       "  '../data/datasets/interim/m_features/f026fe5568382c47147d9e7ab115c9ec.csv',\n",
       "  '../data/datasets/interim/m_features/fd34aa1eb35977820bba0ba5592fd1e2.csv',\n",
       "  '../data/datasets/interim/m_features/97cbd88d4414b41939571e994add3756.csv',\n",
       "  '../data/datasets/interim/m_features/ecdb85790825fcf9845b303bb9f15e4e.csv',\n",
       "  '../data/datasets/interim/m_features/3519cb919fd7bc7b8a753b138c089191.csv',\n",
       "  '../data/datasets/interim/m_features/aa44240b167e1111484ba430360595aa.csv',\n",
       "  '../data/datasets/interim/m_features/1d8691a25269dddaa553557a20b8ff67.csv',\n",
       "  '../data/datasets/interim/m_features/b674bdf41bfefe2a2c17d1255398fba8.csv',\n",
       "  '../data/datasets/interim/m_features/d2b2e1c42839525395d0e41b37f68779.csv',\n",
       "  '../data/datasets/interim/m_features/47f5e8cf5885a7777b932b9c2327bd30.csv',\n",
       "  '../data/datasets/interim/m_features/4700c2e9a619b3cb323963968e315294.csv',\n",
       "  '../data/datasets/interim/m_features/f3cc73554695f0364127c610ef840473.csv',\n",
       "  '../data/datasets/interim/m_features/92957aed3532e98fc089b0961cf0cf31.csv',\n",
       "  '../data/datasets/interim/m_features/075299a43b49e1fd63a2093a7ec8959d.csv',\n",
       "  '../data/datasets/interim/m_features/740585503e64a66f33e94f88b675b2f2.csv',\n",
       "  '../data/datasets/interim/m_features/c2337ad97a807be70977a8471b396a23.csv',\n",
       "  '../data/datasets/interim/m_features/1c54e569ea432df901853f34723485bc.csv',\n",
       "  '../data/datasets/interim/m_features/0811a208c0c87aa8e3af6b714921f155.csv',\n",
       "  '../data/datasets/interim/m_features/cacfee038d26131a8568b3c11ee7f840.csv',\n",
       "  '../data/datasets/interim/m_features/b83df8e33875745aaf2459dcc9f302b2.csv',\n",
       "  '../data/datasets/interim/m_features/40285e00b0e9204bd25cb7dd34d1c2c9.csv']}"
      ]
     },
     "execution_count": 43,
     "metadata": {},
     "output_type": "execute_result"
    }
   ],
   "source": [
    "json.load(open('../config/train-params.json'))"
   ]
  },
  {
   "cell_type": "code",
   "execution_count": null,
   "metadata": {},
   "outputs": [],
   "source": []
  }
 ],
 "metadata": {
  "kernelspec": {
   "display_name": "Python 3",
   "language": "python",
   "name": "python3"
  },
  "language_info": {
   "codemirror_mode": {
    "name": "ipython",
    "version": 3
   },
   "file_extension": ".py",
   "mimetype": "text/x-python",
   "name": "python",
   "nbconvert_exporter": "python",
   "pygments_lexer": "ipython3",
   "version": "3.7.3"
  },
  "latex_envs": {
   "LaTeX_envs_menu_present": true,
   "autoclose": false,
   "autocomplete": true,
   "bibliofile": "biblio.bib",
   "cite_by": "apalike",
   "current_citInitial": 1,
   "eqLabelWithNumbers": true,
   "eqNumInitial": 1,
   "hotkeys": {
    "equation": "Ctrl-E",
    "itemize": "Ctrl-I"
   },
   "labels_anchors": false,
   "latex_user_defs": false,
   "report_style_numbering": false,
   "user_envs_cfg": false
  }
 },
 "nbformat": 4,
 "nbformat_minor": 2
}
