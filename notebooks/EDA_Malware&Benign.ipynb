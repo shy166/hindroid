{
 "cells": [
  {
   "cell_type": "code",
   "execution_count": 1,
   "metadata": {},
   "outputs": [],
   "source": [
    "import dask\n",
    "from dask.distributed import Client\n",
    "import dask.dataframe as dd\n",
    "import pandas as pd\n",
    "import numpy as np\n",
    "import json\n",
    "from tqdm import tqdm\n",
    "from scipy import sparse"
   ]
  },
  {
   "cell_type": "code",
   "execution_count": 2,
   "metadata": {},
   "outputs": [],
   "source": [
    "import matplotlib.pyplot as plt "
   ]
  },
  {
   "cell_type": "markdown",
   "metadata": {},
   "source": [
    "# Benign vs. Malware EDA"
   ]
  },
  {
   "cell_type": "code",
   "execution_count": 3,
   "metadata": {},
   "outputs": [],
   "source": [
    "benignfp = \"../data/tests/interim/b_features/*csv\"\n",
    "malwarefp = \"../data/tests/interim/m_features/*csv\""
   ]
  },
  {
   "cell_type": "code",
   "execution_count": 4,
   "metadata": {},
   "outputs": [],
   "source": [
    "client = Client(n_workers = 8)"
   ]
  },
  {
   "cell_type": "code",
   "execution_count": 5,
   "metadata": {},
   "outputs": [
    {
     "data": {
      "text/html": [
       "<table style=\"border: 2px solid white;\">\n",
       "<tr>\n",
       "<td style=\"vertical-align: top; border: 0px solid white\">\n",
       "<h3 style=\"text-align: left;\">Client</h3>\n",
       "<ul style=\"text-align: left; list-style: none; margin: 0; padding: 0;\">\n",
       "  <li><b>Scheduler: </b>tcp://127.0.0.1:60361</li>\n",
       "  <li><b>Dashboard: </b><a href='http://127.0.0.1:8787/status' target='_blank'>http://127.0.0.1:8787/status</a>\n",
       "</ul>\n",
       "</td>\n",
       "<td style=\"vertical-align: top; border: 0px solid white\">\n",
       "<h3 style=\"text-align: left;\">Cluster</h3>\n",
       "<ul style=\"text-align: left; list-style:none; margin: 0; padding: 0;\">\n",
       "  <li><b>Workers: </b>8</li>\n",
       "  <li><b>Cores: </b>16</li>\n",
       "  <li><b>Memory: </b>68.72 GB</li>\n",
       "</ul>\n",
       "</td>\n",
       "</tr>\n",
       "</table>"
      ],
      "text/plain": [
       "<Client: 'tcp://127.0.0.1:60361' processes=8 threads=16, memory=68.72 GB>"
      ]
     },
     "execution_count": 5,
     "metadata": {},
     "output_type": "execute_result"
    }
   ],
   "source": [
    "client"
   ]
  },
  {
   "cell_type": "code",
   "execution_count": 6,
   "metadata": {},
   "outputs": [],
   "source": [
    "benign = dd.read_csv(benignfp)\n",
    "\n",
    "malware = dd.read_csv(malwarefp)"
   ]
  },
  {
   "cell_type": "code",
   "execution_count": 7,
   "metadata": {
    "scrolled": false
   },
   "outputs": [
    {
     "data": {
      "text/html": [
       "<div>\n",
       "<style scoped>\n",
       "    .dataframe tbody tr th:only-of-type {\n",
       "        vertical-align: middle;\n",
       "    }\n",
       "\n",
       "    .dataframe tbody tr th {\n",
       "        vertical-align: top;\n",
       "    }\n",
       "\n",
       "    .dataframe thead th {\n",
       "        text-align: right;\n",
       "    }\n",
       "</style>\n",
       "<table border=\"1\" class=\"dataframe\">\n",
       "  <thead>\n",
       "    <tr style=\"text-align: right;\">\n",
       "      <th></th>\n",
       "      <th>api</th>\n",
       "      <th>invocation</th>\n",
       "      <th>block</th>\n",
       "      <th>app</th>\n",
       "      <th>malware</th>\n",
       "    </tr>\n",
       "  </thead>\n",
       "  <tbody>\n",
       "    <tr>\n",
       "      <th>0</th>\n",
       "      <td>Ljava/lang/Object;-&gt;&lt;init&gt;</td>\n",
       "      <td>invoke-direct</td>\n",
       "      <td>public constructor &lt;init&gt;()VBuildConfig.smali</td>\n",
       "      <td>%D8%A7%D8%B3%D8%AA%D8%B1%D8%AC%D8%A7%D8%B9-%D9...</td>\n",
       "      <td>0</td>\n",
       "    </tr>\n",
       "    <tr>\n",
       "      <th>1</th>\n",
       "      <td>Landroid/support/v4/accessibilityservice/Acces...</td>\n",
       "      <td>invoke-direct</td>\n",
       "      <td>constructor &lt;init&gt;()VAccessibilityServiceInfoC...</td>\n",
       "      <td>%D8%A7%D8%B3%D8%AA%D8%B1%D8%AC%D8%A7%D8%B9-%D9...</td>\n",
       "      <td>0</td>\n",
       "    </tr>\n",
       "    <tr>\n",
       "      <th>2</th>\n",
       "      <td>Landroid/support/v4/accessibilityservice/Acces...</td>\n",
       "      <td>invoke-static</td>\n",
       "      <td>public getCanRetrieveWindowContent(Landroid/ac...</td>\n",
       "      <td>%D8%A7%D8%B3%D8%AA%D8%B1%D8%AC%D8%A7%D8%B9-%D9...</td>\n",
       "      <td>0</td>\n",
       "    </tr>\n",
       "    <tr>\n",
       "      <th>3</th>\n",
       "      <td>Landroid/support/v4/accessibilityservice/Acces...</td>\n",
       "      <td>invoke-virtual</td>\n",
       "      <td>public getCapabilities(Landroid/accessibilitys...</td>\n",
       "      <td>%D8%A7%D8%B3%D8%AA%D8%B1%D8%AC%D8%A7%D8%B9-%D9...</td>\n",
       "      <td>0</td>\n",
       "    </tr>\n",
       "    <tr>\n",
       "      <th>4</th>\n",
       "      <td>Landroid/support/v4/accessibilityservice/Acces...</td>\n",
       "      <td>invoke-static</td>\n",
       "      <td>public getDescription(Landroid/accessibilityse...</td>\n",
       "      <td>%D8%A7%D8%B3%D8%AA%D8%B1%D8%AC%D8%A7%D8%B9-%D9...</td>\n",
       "      <td>0</td>\n",
       "    </tr>\n",
       "  </tbody>\n",
       "</table>\n",
       "</div>"
      ],
      "text/plain": [
       "                                                 api      invocation  \\\n",
       "0                         Ljava/lang/Object;-><init>   invoke-direct   \n",
       "1  Landroid/support/v4/accessibilityservice/Acces...   invoke-direct   \n",
       "2  Landroid/support/v4/accessibilityservice/Acces...   invoke-static   \n",
       "3  Landroid/support/v4/accessibilityservice/Acces...  invoke-virtual   \n",
       "4  Landroid/support/v4/accessibilityservice/Acces...   invoke-static   \n",
       "\n",
       "                                               block  \\\n",
       "0      public constructor <init>()VBuildConfig.smali   \n",
       "1  constructor <init>()VAccessibilityServiceInfoC...   \n",
       "2  public getCanRetrieveWindowContent(Landroid/ac...   \n",
       "3  public getCapabilities(Landroid/accessibilitys...   \n",
       "4  public getDescription(Landroid/accessibilityse...   \n",
       "\n",
       "                                                 app  malware  \n",
       "0  %D8%A7%D8%B3%D8%AA%D8%B1%D8%AC%D8%A7%D8%B9-%D9...        0  \n",
       "1  %D8%A7%D8%B3%D8%AA%D8%B1%D8%AC%D8%A7%D8%B9-%D9...        0  \n",
       "2  %D8%A7%D8%B3%D8%AA%D8%B1%D8%AC%D8%A7%D8%B9-%D9...        0  \n",
       "3  %D8%A7%D8%B3%D8%AA%D8%B1%D8%AC%D8%A7%D8%B9-%D9...        0  \n",
       "4  %D8%A7%D8%B3%D8%AA%D8%B1%D8%AC%D8%A7%D8%B9-%D9...        0  "
      ]
     },
     "metadata": {},
     "output_type": "display_data"
    },
    {
     "data": {
      "text/html": [
       "<div>\n",
       "<style scoped>\n",
       "    .dataframe tbody tr th:only-of-type {\n",
       "        vertical-align: middle;\n",
       "    }\n",
       "\n",
       "    .dataframe tbody tr th {\n",
       "        vertical-align: top;\n",
       "    }\n",
       "\n",
       "    .dataframe thead th {\n",
       "        text-align: right;\n",
       "    }\n",
       "</style>\n",
       "<table border=\"1\" class=\"dataframe\">\n",
       "  <thead>\n",
       "    <tr style=\"text-align: right;\">\n",
       "      <th></th>\n",
       "      <th>api</th>\n",
       "      <th>invocation</th>\n",
       "      <th>block</th>\n",
       "      <th>app</th>\n",
       "      <th>malware</th>\n",
       "    </tr>\n",
       "  </thead>\n",
       "  <tbody>\n",
       "    <tr>\n",
       "      <th>0</th>\n",
       "      <td>Ljava/lang/Object;-&gt;&lt;init&gt;</td>\n",
       "      <td>invoke-direct</td>\n",
       "      <td>public constructor &lt;init&gt;()VR$attr.smali</td>\n",
       "      <td>00d41cb8eabffec00272b0a4574cd6c9</td>\n",
       "      <td>1</td>\n",
       "    </tr>\n",
       "    <tr>\n",
       "      <th>1</th>\n",
       "      <td>Ljava/lang/Object;-&gt;&lt;init&gt;</td>\n",
       "      <td>invoke-direct</td>\n",
       "      <td>public constructor &lt;init&gt;()VR$color.smali</td>\n",
       "      <td>00d41cb8eabffec00272b0a4574cd6c9</td>\n",
       "      <td>1</td>\n",
       "    </tr>\n",
       "    <tr>\n",
       "      <th>2</th>\n",
       "      <td>Ljava/lang/Object;-&gt;&lt;init&gt;</td>\n",
       "      <td>invoke-direct</td>\n",
       "      <td>public constructor &lt;init&gt;()VR$drawable.smali</td>\n",
       "      <td>00d41cb8eabffec00272b0a4574cd6c9</td>\n",
       "      <td>1</td>\n",
       "    </tr>\n",
       "    <tr>\n",
       "      <th>3</th>\n",
       "      <td>Ljava/lang/Object;-&gt;&lt;init&gt;</td>\n",
       "      <td>invoke-direct</td>\n",
       "      <td>public constructor &lt;init&gt;()VR$id.smali</td>\n",
       "      <td>00d41cb8eabffec00272b0a4574cd6c9</td>\n",
       "      <td>1</td>\n",
       "    </tr>\n",
       "    <tr>\n",
       "      <th>4</th>\n",
       "      <td>Ljava/lang/Object;-&gt;&lt;init&gt;</td>\n",
       "      <td>invoke-direct</td>\n",
       "      <td>public constructor &lt;init&gt;()VR$layout.smali</td>\n",
       "      <td>00d41cb8eabffec00272b0a4574cd6c9</td>\n",
       "      <td>1</td>\n",
       "    </tr>\n",
       "  </tbody>\n",
       "</table>\n",
       "</div>"
      ],
      "text/plain": [
       "                          api     invocation  \\\n",
       "0  Ljava/lang/Object;-><init>  invoke-direct   \n",
       "1  Ljava/lang/Object;-><init>  invoke-direct   \n",
       "2  Ljava/lang/Object;-><init>  invoke-direct   \n",
       "3  Ljava/lang/Object;-><init>  invoke-direct   \n",
       "4  Ljava/lang/Object;-><init>  invoke-direct   \n",
       "\n",
       "                                          block  \\\n",
       "0      public constructor <init>()VR$attr.smali   \n",
       "1     public constructor <init>()VR$color.smali   \n",
       "2  public constructor <init>()VR$drawable.smali   \n",
       "3        public constructor <init>()VR$id.smali   \n",
       "4    public constructor <init>()VR$layout.smali   \n",
       "\n",
       "                                app  malware  \n",
       "0  00d41cb8eabffec00272b0a4574cd6c9        1  \n",
       "1  00d41cb8eabffec00272b0a4574cd6c9        1  \n",
       "2  00d41cb8eabffec00272b0a4574cd6c9        1  \n",
       "3  00d41cb8eabffec00272b0a4574cd6c9        1  \n",
       "4  00d41cb8eabffec00272b0a4574cd6c9        1  "
      ]
     },
     "metadata": {},
     "output_type": "display_data"
    }
   ],
   "source": [
    "display(benign.head())\n",
    "display(malware.head())"
   ]
  },
  {
   "cell_type": "markdown",
   "metadata": {},
   "source": [
    "## API Calls"
   ]
  },
  {
   "cell_type": "markdown",
   "metadata": {},
   "source": [
    "### how many rows benign apps have"
   ]
  },
  {
   "cell_type": "code",
   "execution_count": 8,
   "metadata": {},
   "outputs": [
    {
     "data": {
      "text/plain": [
       "2592189"
      ]
     },
     "execution_count": 8,
     "metadata": {},
     "output_type": "execute_result"
    }
   ],
   "source": [
    "len(benign)"
   ]
  },
  {
   "cell_type": "markdown",
   "metadata": {},
   "source": [
    "### how many rows malware apps have"
   ]
  },
  {
   "cell_type": "code",
   "execution_count": 9,
   "metadata": {},
   "outputs": [
    {
     "data": {
      "text/plain": [
       "154020"
      ]
     },
     "execution_count": 9,
     "metadata": {},
     "output_type": "execute_result"
    }
   ],
   "source": [
    "len(malware)"
   ]
  },
  {
   "cell_type": "markdown",
   "metadata": {},
   "source": [
    "### how many benign sample we collected"
   ]
  },
  {
   "cell_type": "code",
   "execution_count": 10,
   "metadata": {},
   "outputs": [
    {
     "data": {
      "text/plain": [
       "33"
      ]
     },
     "execution_count": 10,
     "metadata": {},
     "output_type": "execute_result"
    }
   ],
   "source": [
    "len(benign.app.unique())"
   ]
  },
  {
   "cell_type": "markdown",
   "metadata": {},
   "source": [
    "### how many malware samples we collected"
   ]
  },
  {
   "cell_type": "code",
   "execution_count": 11,
   "metadata": {
    "scrolled": true
   },
   "outputs": [
    {
     "data": {
      "text/plain": [
       "20"
      ]
     },
     "execution_count": 11,
     "metadata": {},
     "output_type": "execute_result"
    }
   ],
   "source": [
    "len(malware.app.unique())"
   ]
  },
  {
   "cell_type": "markdown",
   "metadata": {},
   "source": [
    "### TOP 20 normalized API call comparison "
   ]
  },
  {
   "cell_type": "code",
   "execution_count": 12,
   "metadata": {},
   "outputs": [],
   "source": [
    "apical_v = benign.api.value_counts().compute()\n",
    "apical_v_m = malware.api.value_counts().compute()"
   ]
  },
  {
   "cell_type": "code",
   "execution_count": 13,
   "metadata": {},
   "outputs": [
    {
     "data": {
      "image/png": "[encoded data removed]",
      "text/plain": [
       "<Figure size 432x288 with 1 Axes>"
      ]
     },
     "metadata": {
      "needs_background": "light"
     },
     "output_type": "display_data"
    },
    {
     "data": {
      "image/png": "[encoded data removed]",
      "text/plain": [
       "<Figure size 432x288 with 1 Axes>"
      ]
     },
     "metadata": {
      "needs_background": "light"
     },
     "output_type": "display_data"
    }
   ],
   "source": [
    "plt.show((apical_v / apical_v.sum()).head(20).plot.bar(title = \"benign\"))\n",
    "plt.show((apical_v_m / apical_v_m.sum()).head(20).plot.bar(title = \"malware\"))"
   ]
  },
  {
   "cell_type": "markdown",
   "metadata": {},
   "source": [
    "### TOP 100 api calls (percentage in common)"
   ]
  },
  {
   "cell_type": "code",
   "execution_count": 14,
   "metadata": {},
   "outputs": [
    {
     "data": {
      "text/plain": [
       "0.0"
      ]
     },
     "execution_count": 14,
     "metadata": {},
     "output_type": "execute_result"
    }
   ],
   "source": [
    "apical_v.head(100).isin(apical_v_m.head(100)).mean()"
   ]
  },
  {
   "cell_type": "markdown",
   "metadata": {},
   "source": [
    "### Observation\n",
    "Following finding from eda above:\n",
    "  - In general, Benign apps are much more complicated than malware apps in structures. we collected 89 benign apps and 63 malware apps, but there are 6190118 rows of infomation for benign apps and 39345 rows of information for malware apps.\n",
    "  - As plot shown above, the proportion (distribution) of Malware and Benign's api calls are relatively same.\n",
    "  - The most common api calls are significantly different. For top 100 api calls of benign apps and malware apps, there are no common api calls."
   ]
  },
  {
   "cell_type": "markdown",
   "metadata": {},
   "source": [
    "## Number of abnormal Apis"
   ]
  },
  {
   "cell_type": "markdown",
   "metadata": {},
   "source": [
    "to find the cut between normal api and abnormal api"
   ]
  },
  {
   "cell_type": "code",
   "execution_count": 24,
   "metadata": {},
   "outputs": [],
   "source": [
    "bgrouped = benign.groupby('api').size().compute()\n",
    "mgrouped = malware.groupby('api').size().compute()"
   ]
  },
  {
   "cell_type": "code",
   "execution_count": 26,
   "metadata": {},
   "outputs": [
    {
     "data": {
      "text/plain": [
       "count    298185.000000\n",
       "mean          8.693224\n",
       "std         221.244689\n",
       "min           1.000000\n",
       "25%           1.000000\n",
       "50%           2.000000\n",
       "75%           4.000000\n",
       "max       82483.000000\n",
       "dtype: float64"
      ]
     },
     "execution_count": 26,
     "metadata": {},
     "output_type": "execute_result"
    }
   ],
   "source": [
    "bgrouped.describe()"
   ]
  },
  {
   "cell_type": "code",
   "execution_count": 27,
   "metadata": {},
   "outputs": [
    {
     "data": {
      "text/plain": [
       "count    23830.000000\n",
       "mean         6.463282\n",
       "std         51.278840\n",
       "min          1.000000\n",
       "25%          1.000000\n",
       "50%          2.000000\n",
       "75%          5.000000\n",
       "max       5687.000000\n",
       "dtype: float64"
      ]
     },
     "execution_count": 27,
     "metadata": {},
     "output_type": "execute_result"
    }
   ],
   "source": [
    "mgrouped.describe()"
   ]
  },
  {
   "cell_type": "markdown",
   "metadata": {},
   "source": [
    "## invocation"
   ]
  },
  {
   "cell_type": "code",
   "execution_count": 46,
   "metadata": {},
   "outputs": [],
   "source": [
    "binvo = benign.invocation.value_counts().compute()\n",
    "minvo = malware.invocation.value_counts().compute()"
   ]
  },
  {
   "cell_type": "code",
   "execution_count": 49,
   "metadata": {},
   "outputs": [
    {
     "data": {
      "image/png": "[encoded data removed]",
      "text/plain": [
       "<Figure size 432x288 with 1 Axes>"
      ]
     },
     "metadata": {
      "needs_background": "light"
     },
     "output_type": "display_data"
    },
    {
     "data": {
      "image/png": "[encoded data removed]",
      "text/plain": [
       "<Figure size 432x288 with 1 Axes>"
      ]
     },
     "metadata": {
      "needs_background": "light"
     },
     "output_type": "display_data"
    }
   ],
   "source": [
    "plt.show(binvo.plot.bar(title = 'benign'))\n",
    "plt.show(minvo.plot.bar(title = 'benign'))"
   ]
  },
  {
   "cell_type": "markdown",
   "metadata": {},
   "source": [
    "### Observation\n",
    "Following finding from eda above:\n",
    "  - In general, the distribution of invocation between benign apps and malware apps are roughly same: with invoke-virtual the most commonly used, and invok-super the least commonly used in both.\n",
    "  - There is one abnormal scene found: in benign apps, invoke-static is the third commonly used, and invoke-interface is the fourth commonly used. But in malware apps, invoke-interface is the third commonly used, and invoke-static is the fourth commonly used. To ensure the abnormality, we should fetch more data."
   ]
  }
 ],
 "metadata": {
  "kernelspec": {
   "display_name": "Python 3.7.6 64-bit ('dask-env': conda)",
   "language": "python",
   "name": "python37664bitdaskenvconda749f9729b86948e1a8cdc521d945a91a"
  },
  "language_info": {
   "codemirror_mode": {
    "name": "ipython",
    "version": 3
   },
   "file_extension": ".py",
   "mimetype": "text/x-python",
   "name": "python",
   "nbconvert_exporter": "python",
   "pygments_lexer": "ipython3",
   "version": "3.7.6"
  },
  "latex_envs": {
   "LaTeX_envs_menu_present": true,
   "autoclose": false,
   "autocomplete": true,
   "bibliofile": "biblio.bib",
   "cite_by": "apalike",
   "current_citInitial": 1,
   "eqLabelWithNumbers": true,
   "eqNumInitial": 1,
   "hotkeys": {
    "equation": "Ctrl-E",
    "itemize": "Ctrl-I"
   },
   "labels_anchors": false,
   "latex_user_defs": false,
   "report_style_numbering": false,
   "user_envs_cfg": false
  }
 },
 "nbformat": 4,
 "nbformat_minor": 2
}
