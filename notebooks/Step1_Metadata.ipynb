{
 "cells": [
  {
   "cell_type": "code",
   "execution_count": 1,
   "metadata": {},
   "outputs": [],
   "source": [
    "import sys\n",
    "sys.path.append('..')\n",
    "%load_ext autoreload\n",
    "%autoreload 2"
   ]
  },
  {
   "cell_type": "markdown",
   "metadata": {},
   "source": [
    "### create metadata"
   ]
  },
  {
   "cell_type": "code",
   "execution_count": 2,
   "metadata": {},
   "outputs": [],
   "source": [
    "from src.utils import create_metadata"
   ]
  },
  {
   "cell_type": "code",
   "execution_count": 3,
   "metadata": {},
   "outputs": [
    {
     "name": "stderr",
     "output_type": "stream",
     "text": [
      "100%|██████████| 7824/7824 [33:54<00:00,  3.85it/s]  \n"
     ]
    }
   ],
   "source": [
    "create_metadata()"
   ]
  },
  {
   "cell_type": "markdown",
   "metadata": {},
   "source": [
    "### metadata overview"
   ]
  },
  {
   "cell_type": "code",
   "execution_count": 4,
   "metadata": {},
   "outputs": [],
   "source": [
    "import pandas as pd"
   ]
  },
  {
   "cell_type": "code",
   "execution_count": 5,
   "metadata": {},
   "outputs": [],
   "source": [
    "metadata = pd.read_csv('../data/metadata/metadata.csv')"
   ]
  },
  {
   "cell_type": "code",
   "execution_count": 8,
   "metadata": {},
   "outputs": [
    {
     "data": {
      "text/html": [
       "<div>\n",
       "<style scoped>\n",
       "    .dataframe tbody tr th:only-of-type {\n",
       "        vertical-align: middle;\n",
       "    }\n",
       "\n",
       "    .dataframe tbody tr th {\n",
       "        vertical-align: top;\n",
       "    }\n",
       "\n",
       "    .dataframe thead th {\n",
       "        text-align: right;\n",
       "    }\n",
       "</style>\n",
       "<table border=\"1\" class=\"dataframe\">\n",
       "  <thead>\n",
       "    <tr style=\"text-align: right;\">\n",
       "      <th></th>\n",
       "      <th>loc</th>\n",
       "      <th>lastmod</th>\n",
       "      <th>changefreq</th>\n",
       "      <th>priority</th>\n",
       "      <th>sitemap_url</th>\n",
       "    </tr>\n",
       "  </thead>\n",
       "  <tbody>\n",
       "    <tr>\n",
       "      <th>0</th>\n",
       "      <td>https://apkpure.com/group/94</td>\n",
       "      <td>2019-09-16</td>\n",
       "      <td>weekly</td>\n",
       "      <td>0.6</td>\n",
       "      <td>https://apkpure.com/sitemaps/group.xml.gz</td>\n",
       "    </tr>\n",
       "    <tr>\n",
       "      <th>1</th>\n",
       "      <td>https://apkpure.com/group/99</td>\n",
       "      <td>2019-09-16</td>\n",
       "      <td>weekly</td>\n",
       "      <td>0.6</td>\n",
       "      <td>https://apkpure.com/sitemaps/group.xml.gz</td>\n",
       "    </tr>\n",
       "    <tr>\n",
       "      <th>2</th>\n",
       "      <td>https://apkpure.com/group/115</td>\n",
       "      <td>2019-09-16</td>\n",
       "      <td>weekly</td>\n",
       "      <td>0.6</td>\n",
       "      <td>https://apkpure.com/sitemaps/group.xml.gz</td>\n",
       "    </tr>\n",
       "    <tr>\n",
       "      <th>3</th>\n",
       "      <td>https://apkpure.com/group/909</td>\n",
       "      <td>2019-09-16</td>\n",
       "      <td>weekly</td>\n",
       "      <td>0.6</td>\n",
       "      <td>https://apkpure.com/sitemaps/group.xml.gz</td>\n",
       "    </tr>\n",
       "    <tr>\n",
       "      <th>4</th>\n",
       "      <td>https://apkpure.com/group/2048</td>\n",
       "      <td>2019-09-16</td>\n",
       "      <td>weekly</td>\n",
       "      <td>0.6</td>\n",
       "      <td>https://apkpure.com/sitemaps/group.xml.gz</td>\n",
       "    </tr>\n",
       "    <tr>\n",
       "      <th>...</th>\n",
       "      <td>...</td>\n",
       "      <td>...</td>\n",
       "      <td>...</td>\n",
       "      <td>...</td>\n",
       "      <td>...</td>\n",
       "    </tr>\n",
       "    <tr>\n",
       "      <th>7843738</th>\n",
       "      <td>https://apkpure.com/guess-pic-one-piece/com.we...</td>\n",
       "      <td>2019-08-07T22:22:19+00:00</td>\n",
       "      <td>weekly</td>\n",
       "      <td>0.6</td>\n",
       "      <td>https://apkpure.com/sitemaps/game_word-24.xml.gz</td>\n",
       "    </tr>\n",
       "    <tr>\n",
       "      <th>7843739</th>\n",
       "      <td>https://apkpure.com/cari-kata-baru/com.san.car...</td>\n",
       "      <td>2019-07-19T20:27:12+00:00</td>\n",
       "      <td>weekly</td>\n",
       "      <td>0.6</td>\n",
       "      <td>https://apkpure.com/sitemaps/game_word-24.xml.gz</td>\n",
       "    </tr>\n",
       "    <tr>\n",
       "      <th>7843740</th>\n",
       "      <td>https://apkpure.com/cocina-de-palabras-juegos-...</td>\n",
       "      <td>2019-07-19T20:26:40+00:00</td>\n",
       "      <td>weekly</td>\n",
       "      <td>0.6</td>\n",
       "      <td>https://apkpure.com/sitemaps/game_word-24.xml.gz</td>\n",
       "    </tr>\n",
       "    <tr>\n",
       "      <th>7843741</th>\n",
       "      <td>https://apkpure.com/%ED%85%8C%EC%8A%A4%ED%8A%B...</td>\n",
       "      <td>2019-07-17T11:53:34+00:00</td>\n",
       "      <td>weekly</td>\n",
       "      <td>0.6</td>\n",
       "      <td>https://apkpure.com/sitemaps/game_word-24.xml.gz</td>\n",
       "    </tr>\n",
       "    <tr>\n",
       "      <th>7843742</th>\n",
       "      <td>https://apkpure.com/kelime-cambaz%C4%B1/com.is...</td>\n",
       "      <td>2019-07-21T14:53:45+00:00</td>\n",
       "      <td>weekly</td>\n",
       "      <td>0.6</td>\n",
       "      <td>https://apkpure.com/sitemaps/game_word-24.xml.gz</td>\n",
       "    </tr>\n",
       "  </tbody>\n",
       "</table>\n",
       "<p>7843743 rows × 5 columns</p>\n",
       "</div>"
      ],
      "text/plain": [
       "                                                       loc  \\\n",
       "0                             https://apkpure.com/group/94   \n",
       "1                             https://apkpure.com/group/99   \n",
       "2                            https://apkpure.com/group/115   \n",
       "3                            https://apkpure.com/group/909   \n",
       "4                           https://apkpure.com/group/2048   \n",
       "...                                                    ...   \n",
       "7843738  https://apkpure.com/guess-pic-one-piece/com.we...   \n",
       "7843739  https://apkpure.com/cari-kata-baru/com.san.car...   \n",
       "7843740  https://apkpure.com/cocina-de-palabras-juegos-...   \n",
       "7843741  https://apkpure.com/%ED%85%8C%EC%8A%A4%ED%8A%B...   \n",
       "7843742  https://apkpure.com/kelime-cambaz%C4%B1/com.is...   \n",
       "\n",
       "                           lastmod changefreq  priority  \\\n",
       "0                       2019-09-16     weekly       0.6   \n",
       "1                       2019-09-16     weekly       0.6   \n",
       "2                       2019-09-16     weekly       0.6   \n",
       "3                       2019-09-16     weekly       0.6   \n",
       "4                       2019-09-16     weekly       0.6   \n",
       "...                            ...        ...       ...   \n",
       "7843738  2019-08-07T22:22:19+00:00     weekly       0.6   \n",
       "7843739  2019-07-19T20:27:12+00:00     weekly       0.6   \n",
       "7843740  2019-07-19T20:26:40+00:00     weekly       0.6   \n",
       "7843741  2019-07-17T11:53:34+00:00     weekly       0.6   \n",
       "7843742  2019-07-21T14:53:45+00:00     weekly       0.6   \n",
       "\n",
       "                                              sitemap_url  \n",
       "0               https://apkpure.com/sitemaps/group.xml.gz  \n",
       "1               https://apkpure.com/sitemaps/group.xml.gz  \n",
       "2               https://apkpure.com/sitemaps/group.xml.gz  \n",
       "3               https://apkpure.com/sitemaps/group.xml.gz  \n",
       "4               https://apkpure.com/sitemaps/group.xml.gz  \n",
       "...                                                   ...  \n",
       "7843738  https://apkpure.com/sitemaps/game_word-24.xml.gz  \n",
       "7843739  https://apkpure.com/sitemaps/game_word-24.xml.gz  \n",
       "7843740  https://apkpure.com/sitemaps/game_word-24.xml.gz  \n",
       "7843741  https://apkpure.com/sitemaps/game_word-24.xml.gz  \n",
       "7843742  https://apkpure.com/sitemaps/game_word-24.xml.gz  \n",
       "\n",
       "[7843743 rows x 5 columns]"
      ]
     },
     "execution_count": 8,
     "metadata": {},
     "output_type": "execute_result"
    }
   ],
   "source": [
    "metadata"
   ]
  }
 ],
 "metadata": {
  "kernelspec": {
   "display_name": "Python 3.7.6 64-bit ('dask-env': conda)",
   "language": "python",
   "name": "python37664bitdaskenvconda749f9729b86948e1a8cdc521d945a91a"
  },
  "language_info": {
   "codemirror_mode": {
    "name": "ipython",
    "version": 3
   },
   "file_extension": ".py",
   "mimetype": "text/x-python",
   "name": "python",
   "nbconvert_exporter": "python",
   "pygments_lexer": "ipython3",
   "version": "3.7.6"
  },
  "latex_envs": {
   "LaTeX_envs_menu_present": true,
   "autoclose": false,
   "autocomplete": true,
   "bibliofile": "biblio.bib",
   "cite_by": "apalike",
   "current_citInitial": 1,
   "eqLabelWithNumbers": true,
   "eqNumInitial": 1,
   "hotkeys": {
    "equation": "Ctrl-E",
    "itemize": "Ctrl-I"
   },
   "labels_anchors": false,
   "latex_user_defs": false,
   "report_style_numbering": false,
   "user_envs_cfg": false
  }
 },
 "nbformat": 4,
 "nbformat_minor": 2
}
