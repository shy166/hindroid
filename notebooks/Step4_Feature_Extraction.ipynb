{
 "cells": [
  {
   "cell_type": "code",
   "execution_count": 2,
   "metadata": {},
   "outputs": [],
   "source": [
    "import sys\n",
    "sys.path.append('..')\n",
    "from src.features import extract_benign\n",
    "%load_ext autoreload\n",
    "%autoreload 2"
   ]
  },
  {
   "cell_type": "code",
   "execution_count": 4,
   "metadata": {},
   "outputs": [
    {
     "name": "stderr",
     "output_type": "stream",
     "text": [
      "100%|██████████| 79/79 [00:00<00:00, 31512.13it/s]\n"
     ]
    },
    {
     "name": "stdout",
     "output_type": "stream",
     "text": [
      "all benign apps extracted\n"
     ]
    },
    {
     "name": "stderr",
     "output_type": "stream",
     "text": [
      "distributed.client - ERROR - Failed to reconnect to scheduler after 10.00 seconds, closing client\n",
      "distributed.utils - ERROR - \n",
      "Traceback (most recent call last):\n",
      "  File \"/Users/syeehyn/opt/anaconda3/envs/dask-env/lib/python3.7/site-packages/distributed/utils.py\", line 662, in log_errors\n",
      "    yield\n",
      "  File \"/Users/syeehyn/opt/anaconda3/envs/dask-env/lib/python3.7/site-packages/distributed/client.py\", line 1306, in _close\n",
      "    await asyncio.wait_for(asyncio.gather(*coroutines), 2)\n",
      "  File \"/Users/syeehyn/opt/anaconda3/envs/dask-env/lib/python3.7/asyncio/tasks.py\", line 435, in wait_for\n",
      "    await waiter\n",
      "concurrent.futures._base.CancelledError\n",
      "distributed.utils - ERROR - \n",
      "Traceback (most recent call last):\n",
      "  File \"/Users/syeehyn/opt/anaconda3/envs/dask-env/lib/python3.7/site-packages/distributed/utils.py\", line 662, in log_errors\n",
      "    yield\n",
      "  File \"/Users/syeehyn/opt/anaconda3/envs/dask-env/lib/python3.7/site-packages/distributed/client.py\", line 1024, in _reconnect\n",
      "    await self._close()\n",
      "  File \"/Users/syeehyn/opt/anaconda3/envs/dask-env/lib/python3.7/site-packages/distributed/client.py\", line 1306, in _close\n",
      "    await asyncio.wait_for(asyncio.gather(*coroutines), 2)\n",
      "  File \"/Users/syeehyn/opt/anaconda3/envs/dask-env/lib/python3.7/asyncio/tasks.py\", line 435, in wait_for\n",
      "    await waiter\n",
      "concurrent.futures._base.CancelledError\n",
      "_GatheringFuture exception was never retrieved\n",
      "future: <_GatheringFuture finished exception=CancelledError()>\n",
      "concurrent.futures._base.CancelledError\n"
     ]
    }
   ],
   "source": [
    "extract_benign()"
   ]
  },
  {
   "cell_type": "code",
   "execution_count": null,
   "metadata": {},
   "outputs": [],
   "source": []
  }
 ],
 "metadata": {
  "kernelspec": {
   "display_name": "Python 3.7.6 64-bit ('dask-env': conda)",
   "language": "python",
   "name": "python37664bitdaskenvconda749f9729b86948e1a8cdc521d945a91a"
  },
  "language_info": {
   "codemirror_mode": {
    "name": "ipython",
    "version": 3
   },
   "file_extension": ".py",
   "mimetype": "text/x-python",
   "name": "python",
   "nbconvert_exporter": "python",
   "pygments_lexer": "ipython3",
   "version": "3.7.6"
  },
  "latex_envs": {
   "LaTeX_envs_menu_present": true,
   "autoclose": false,
   "autocomplete": true,
   "bibliofile": "biblio.bib",
   "cite_by": "apalike",
   "current_citInitial": 1,
   "eqLabelWithNumbers": true,
   "eqNumInitial": 1,
   "hotkeys": {
    "equation": "Ctrl-E",
    "itemize": "Ctrl-I"
   },
   "labels_anchors": false,
   "latex_user_defs": false,
   "report_style_numbering": false,
   "user_envs_cfg": false
  }
 },
 "nbformat": 4,
 "nbformat_minor": 2
}
