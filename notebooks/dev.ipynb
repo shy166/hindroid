{
 "cells": [
  {
   "cell_type": "code",
   "execution_count": 2,
   "metadata": {},
   "outputs": [],
   "source": [
    "import dask\n",
    "from dask.distributed import Client\n",
    "import dask.dataframe as dd\n",
    "import pandas as pd\n",
    "import numpy as np\n",
    "import json\n",
    "from tqdm import tqdm\n",
    "from scipy import sparse\n",
    "import psutil\n",
    "NUM_WORKER = psutil.cpu_count(logical = False)"
   ]
  },
  {
   "cell_type": "code",
   "execution_count": 4,
   "metadata": {},
   "outputs": [],
   "source": [
    "df = dd.read_csv('../data/datasets/interim/features/*.csv')"
   ]
  },
  {
   "cell_type": "code",
   "execution_count": 8,
   "metadata": {},
   "outputs": [
    {
     "data": {
      "text/html": [
       "<div>\n",
       "<style scoped>\n",
       "    .dataframe tbody tr th:only-of-type {\n",
       "        vertical-align: middle;\n",
       "    }\n",
       "\n",
       "    .dataframe tbody tr th {\n",
       "        vertical-align: top;\n",
       "    }\n",
       "\n",
       "    .dataframe thead th {\n",
       "        text-align: right;\n",
       "    }\n",
       "</style>\n",
       "<table border=\"1\" class=\"dataframe\">\n",
       "  <thead>\n",
       "    <tr style=\"text-align: right;\">\n",
       "      <th></th>\n",
       "      <th>block</th>\n",
       "      <th>invocation</th>\n",
       "      <th>package</th>\n",
       "      <th>method_name</th>\n",
       "      <th>app</th>\n",
       "      <th>malware</th>\n",
       "    </tr>\n",
       "  </thead>\n",
       "  <tbody>\n",
       "    <tr>\n",
       "      <th>0</th>\n",
       "      <td>public constructor &lt;init&gt;()Va.smali</td>\n",
       "      <td>invoke-direct</td>\n",
       "      <td>Landroid/arch/a/a/b;</td>\n",
       "      <td>&lt;init&gt;</td>\n",
       "      <td>%D8%AA%D9%84%D8%A7%D9%88%D8%A7%D8%AA-%D8%AE%D8...</td>\n",
       "      <td>0</td>\n",
       "    </tr>\n",
       "    <tr>\n",
       "      <th>1</th>\n",
       "      <td>public constructor &lt;init&gt;()Va.smali</td>\n",
       "      <td>invoke-direct</td>\n",
       "      <td>Ljava/util/HashMap;</td>\n",
       "      <td>&lt;init&gt;</td>\n",
       "      <td>%D8%AA%D9%84%D8%A7%D9%88%D8%A7%D8%AA-%D8%AE%D8...</td>\n",
       "      <td>0</td>\n",
       "    </tr>\n",
       "    <tr>\n",
       "      <th>2</th>\n",
       "      <td>public a(Ljava/lang/Object;)Za.smali</td>\n",
       "      <td>invoke-virtual</td>\n",
       "      <td>Ljava/util/HashMap;</td>\n",
       "      <td>containsKey</td>\n",
       "      <td>%D8%AA%D9%84%D8%A7%D9%88%D8%A7%D8%AA-%D8%AE%D8...</td>\n",
       "      <td>0</td>\n",
       "    </tr>\n",
       "    <tr>\n",
       "      <th>3</th>\n",
       "      <td>constructor &lt;init&gt;(Landroid/arch/a/a/b$c;Landr...</td>\n",
       "      <td>invoke-direct</td>\n",
       "      <td>Landroid/arch/a/a/b$e;</td>\n",
       "      <td>&lt;init&gt;</td>\n",
       "      <td>%D8%AA%D9%84%D8%A7%D9%88%D8%A7%D8%AA-%D8%AE%D8...</td>\n",
       "      <td>0</td>\n",
       "    </tr>\n",
       "    <tr>\n",
       "      <th>4</th>\n",
       "      <td>constructor &lt;init&gt;(Landroid/arch/a/a/b$c;Landr...</td>\n",
       "      <td>invoke-direct</td>\n",
       "      <td>Landroid/arch/a/a/b$e;</td>\n",
       "      <td>&lt;init&gt;</td>\n",
       "      <td>%D8%AA%D9%84%D8%A7%D9%88%D8%A7%D8%AA-%D8%AE%D8...</td>\n",
       "      <td>0</td>\n",
       "    </tr>\n",
       "  </tbody>\n",
       "</table>\n",
       "</div>"
      ],
      "text/plain": [
       "                                               block      invocation  \\\n",
       "0                public constructor <init>()Va.smali   invoke-direct   \n",
       "1                public constructor <init>()Va.smali   invoke-direct   \n",
       "2               public a(Ljava/lang/Object;)Za.smali  invoke-virtual   \n",
       "3  constructor <init>(Landroid/arch/a/a/b$c;Landr...   invoke-direct   \n",
       "4  constructor <init>(Landroid/arch/a/a/b$c;Landr...   invoke-direct   \n",
       "\n",
       "                  package  method_name  \\\n",
       "0    Landroid/arch/a/a/b;       <init>   \n",
       "1     Ljava/util/HashMap;       <init>   \n",
       "2     Ljava/util/HashMap;  containsKey   \n",
       "3  Landroid/arch/a/a/b$e;       <init>   \n",
       "4  Landroid/arch/a/a/b$e;       <init>   \n",
       "\n",
       "                                                 app  malware  \n",
       "0  %D8%AA%D9%84%D8%A7%D9%88%D8%A7%D8%AA-%D8%AE%D8...        0  \n",
       "1  %D8%AA%D9%84%D8%A7%D9%88%D8%A7%D8%AA-%D8%AE%D8...        0  \n",
       "2  %D8%AA%D9%84%D8%A7%D9%88%D8%A7%D8%AA-%D8%AE%D8...        0  \n",
       "3  %D8%AA%D9%84%D8%A7%D9%88%D8%A7%D8%AA-%D8%AE%D8...        0  \n",
       "4  %D8%AA%D9%84%D8%A7%D9%88%D8%A7%D8%AA-%D8%AE%D8...        0  "
      ]
     },
     "execution_count": 8,
     "metadata": {},
     "output_type": "execute_result"
    }
   ],
   "source": [
    "df.head()"
   ]
  },
  {
   "cell_type": "code",
   "execution_count": null,
   "metadata": {},
   "outputs": [],
   "source": []
  }
 ],
 "metadata": {
  "kernelspec": {
   "display_name": "Python 3.7.6 64-bit ('dask-env': conda)",
   "language": "python",
   "name": "python37664bitdaskenvconda749f9729b86948e1a8cdc521d945a91a"
  },
  "language_info": {
   "codemirror_mode": {
    "name": "ipython",
    "version": 3
   },
   "file_extension": ".py",
   "mimetype": "text/x-python",
   "name": "python",
   "nbconvert_exporter": "python",
   "pygments_lexer": "ipython3",
   "version": "3.7.6"
  },
  "latex_envs": {
   "LaTeX_envs_menu_present": true,
   "autoclose": false,
   "autocomplete": true,
   "bibliofile": "biblio.bib",
   "cite_by": "apalike",
   "current_citInitial": 1,
   "eqLabelWithNumbers": true,
   "eqNumInitial": 1,
   "hotkeys": {
    "equation": "Ctrl-E",
    "itemize": "Ctrl-I"
   },
   "labels_anchors": false,
   "latex_user_defs": false,
   "report_style_numbering": false,
   "user_envs_cfg": false
  }
 },
 "nbformat": 4,
 "nbformat_minor": 2
}
