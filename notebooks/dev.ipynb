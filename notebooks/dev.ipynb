{
 "cells": [
  {
   "cell_type": "code",
   "execution_count": 6,
   "metadata": {},
   "outputs": [],
   "source": [
    "from glob import glob"
   ]
  },
  {
   "cell_type": "code",
   "execution_count": 14,
   "metadata": {},
   "outputs": [
    {
     "data": {
      "text/plain": [
       "['tappme',\n",
       " '1xbet',\n",
       " 'fgteev-videos',\n",
       " 'princess-spa-girls-games',\n",
       " 'navtrack-rt',\n",
       " 'cigar-en-fuego',\n",
       " 'contratey',\n",
       " 'moto-sport-simulator',\n",
       " 'manegeapp',\n",
       " 'spurgeon-iit',\n",
       " '%D8%AA%D9%84%D8%A7%D9%88%D8%A7%D8%AA-%D8%AE%D8%A7%D8%B4%D8%B9%D8%A9-%D9%88%D9%85%D9%86%D8%A7%D8%AC%D8%A7%D8%A9-%D9%85%D8%A4%D8%AB%D8%B1%D8%A9-%D8%AC%D8%AF%D8%A7-%D8%A8%D8%AF%D9%88%D9%86-%D8%A7%D9%86%D8%AA%D8%B1%D9%86%D8%AA',\n",
       " '99-clones',\n",
       " '%E0%B8%84%E0%B8%B3%E0%B8%96%E0%B8%B2%E0%B8%A1-%E0%B8%AD%E0%B8%B0%E0%B9%84%E0%B8%A3%E0%B9%80%E0%B8%AD%E0%B9%88%E0%B8%A2-%E0%B8%82%E0%B8%B3%E0%B9%86%E0%B8%AE%E0%B8%B2%E0%B9%86-100',\n",
       " 'klub-uang',\n",
       " 'editor-plus-photo-editing-tool',\n",
       " 'lovely-kitty-poops-cat-game',\n",
       " 'leet-one-in-the-quiver-mcpe',\n",
       " 'hci',\n",
       " 'caffe-tazza',\n",
       " 'forms-app',\n",
       " 'free-stopwatch',\n",
       " 'pick-the-perfect-puppy',\n",
       " 'social-aider-ig',\n",
       " '777-%D1%81%D0%BB%D0%BE%D1%82%D0%BE%D0%B2-%D0%B7%D0%BD%D0%B0%D0%BC%D0%B5%D0%BD%D0%B8%D1%82%D1%8B%D0%B5-%D1%81%D0%BB%D0%BE%D1%82%D1%8B',\n",
       " 'mobile-legends-quiz',\n",
       " 'taxi-dakar',\n",
       " 'usb-reverse-tethering',\n",
       " 'kult%C5%ABra',\n",
       " '1-d-royal',\n",
       " 'atrapa-las-hamburguesas',\n",
       " 'vha',\n",
       " 'zga',\n",
       " 'pilgrim-s-progress-free',\n",
       " 'math-brain-train',\n",
       " 'safe-sound',\n",
       " 'usm-app-control',\n",
       " 'runnig-gps-free',\n",
       " 'kata-bijak-islami-dalam-alquran-lengkap',\n",
       " 'yar%C4%B1na-bak%C4%B1%C5%9F-h%C4%B1zl%C4%B1-eri%C5%9Fim',\n",
       " 'sentio-file-explorer',\n",
       " 'tecnoversia',\n",
       " 'schaffenburg',\n",
       " 'spelling-corrector%E2%80%93-pronunciation-spell-checker',\n",
       " 'cieo',\n",
       " 'stotras-all-gods',\n",
       " 'covideo',\n",
       " 'legazy-iptv-player',\n",
       " 'great-slots-slot-machines',\n",
       " 'guide-for-lego-juniors-quest',\n",
       " 'kitty-frames-photo-editor',\n",
       " '%EA%B8%89%EB%98%A5',\n",
       " 'christmas-ringtones',\n",
       " 'gramophone-music-player',\n",
       " 'tamil-tech',\n",
       " 'qx104',\n",
       " 'music-star-photo-montage',\n",
       " 'lagu-andra-and-the-backbone',\n",
       " 'gujarati-keyboard-izee',\n",
       " 'welcome-to-croatia',\n",
       " 'pdf-invoice-generator',\n",
       " 'best-lines98',\n",
       " 'black-box',\n",
       " 'world-news',\n",
       " 'umvpn-free-vpn-proxy-ip-unblocker',\n",
       " 'grove-brew-house',\n",
       " 'tabakh-al-freej',\n",
       " 'maternity-clothes',\n",
       " 'burmese-english-translator',\n",
       " 'zigzag-line-2-players',\n",
       " 'manateq',\n",
       " 'concurso-sabesp-provas-mat%C3%A9ria-completa-gabarito',\n",
       " 'theme-for-nokia5-1-plus-fancy-light-wallpaper',\n",
       " 'little-mary-slots-casino-bar',\n",
       " 'web-saku',\n",
       " 'carener-s',\n",
       " 'qapp-quran-daily',\n",
       " 'airplane-photo-frames',\n",
       " 'princess-bubble-rescue-swan',\n",
       " '%D8%B5%D9%88%D8%B1-%D8%AE%D9%84%D9%81%D9%8A%D8%A7%D8%AA']"
      ]
     },
     "execution_count": 14,
     "metadata": {},
     "output_type": "execute_result"
    }
   ],
   "source": [
    "[i.split('/')[-1] for i in glob('../data/datasets/raw/smali/*')]"
   ]
  },
  {
   "cell_type": "code",
   "execution_count": null,
   "metadata": {},
   "outputs": [],
   "source": []
  }
 ],
 "metadata": {
  "kernelspec": {
   "display_name": "Python 3.7.6 64-bit ('dask-env': conda)",
   "language": "python",
   "name": "python37664bitdaskenvconda749f9729b86948e1a8cdc521d945a91a"
  },
  "language_info": {
   "codemirror_mode": {
    "name": "ipython",
    "version": 3
   },
   "file_extension": ".py",
   "mimetype": "text/x-python",
   "name": "python",
   "nbconvert_exporter": "python",
   "pygments_lexer": "ipython3",
   "version": "3.7.6"
  },
  "latex_envs": {
   "LaTeX_envs_menu_present": true,
   "autoclose": false,
   "autocomplete": true,
   "bibliofile": "biblio.bib",
   "cite_by": "apalike",
   "current_citInitial": 1,
   "eqLabelWithNumbers": true,
   "eqNumInitial": 1,
   "hotkeys": {
    "equation": "Ctrl-E",
    "itemize": "Ctrl-I"
   },
   "labels_anchors": false,
   "latex_user_defs": false,
   "report_style_numbering": false,
   "user_envs_cfg": false
  }
 },
 "nbformat": 4,
 "nbformat_minor": 2
}
