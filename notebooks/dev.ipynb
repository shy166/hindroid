{
 "cells": [
  {
   "cell_type": "code",
   "execution_count": 1,
   "metadata": {},
   "outputs": [],
   "source": [
    "import dask\n",
    "from dask.distributed import Client\n",
    "import dask.dataframe as dd\n",
    "import pandas as pd\n",
    "import numpy as np\n",
    "import json\n",
    "from tqdm import tqdm\n",
    "from scipy import sparse\n",
    "import psutil\n",
    "NUM_WORKER = psutil.cpu_count(logical = False)"
   ]
  },
  {
   "cell_type": "code",
   "execution_count": 2,
   "metadata": {},
   "outputs": [],
   "source": [
    "df = dd.read_csv('../data/tests/interim/features/*.csv')"
   ]
  },
  {
   "cell_type": "code",
   "execution_count": 3,
   "metadata": {},
   "outputs": [
    {
     "data": {
      "text/html": [
       "<div>\n",
       "<style scoped>\n",
       "    .dataframe tbody tr th:only-of-type {\n",
       "        vertical-align: middle;\n",
       "    }\n",
       "\n",
       "    .dataframe tbody tr th {\n",
       "        vertical-align: top;\n",
       "    }\n",
       "\n",
       "    .dataframe thead th {\n",
       "        text-align: right;\n",
       "    }\n",
       "</style>\n",
       "<table border=\"1\" class=\"dataframe\">\n",
       "  <thead>\n",
       "    <tr style=\"text-align: right;\">\n",
       "      <th></th>\n",
       "      <th>api</th>\n",
       "      <th>invocation</th>\n",
       "      <th>block</th>\n",
       "      <th>app</th>\n",
       "      <th>malware</th>\n",
       "    </tr>\n",
       "  </thead>\n",
       "  <tbody>\n",
       "    <tr>\n",
       "      <th>0</th>\n",
       "      <td>La/a;-&gt;&lt;init&gt;</td>\n",
       "      <td>invoke-direct</td>\n",
       "      <td>static constructor &lt;clinit&gt;()Va.smali</td>\n",
       "      <td>%D8%AA%D9%90%D9%82%D9%86%D9%8A</td>\n",
       "      <td>0</td>\n",
       "    </tr>\n",
       "    <tr>\n",
       "      <th>1</th>\n",
       "      <td>Ljava/lang/Runtime;-&gt;getRuntime</td>\n",
       "      <td>invoke-static</td>\n",
       "      <td>static constructor &lt;clinit&gt;()Va.smali</td>\n",
       "      <td>%D8%AA%D9%90%D9%82%D9%86%D9%8A</td>\n",
       "      <td>0</td>\n",
       "    </tr>\n",
       "    <tr>\n",
       "      <th>2</th>\n",
       "      <td>Ljava/lang/Runtime;-&gt;availableProcessors</td>\n",
       "      <td>invoke-virtual</td>\n",
       "      <td>static constructor &lt;clinit&gt;()Va.smali</td>\n",
       "      <td>%D8%AA%D9%90%D9%82%D9%86%D9%8A</td>\n",
       "      <td>0</td>\n",
       "    </tr>\n",
       "    <tr>\n",
       "      <th>3</th>\n",
       "      <td>Ljava/lang/Object;-&gt;&lt;init&gt;</td>\n",
       "      <td>invoke-direct</td>\n",
       "      <td>private constructor &lt;init&gt;()Va.smali</td>\n",
       "      <td>%D8%AA%D9%90%D9%82%D9%86%D9%8A</td>\n",
       "      <td>0</td>\n",
       "    </tr>\n",
       "    <tr>\n",
       "      <th>4</th>\n",
       "      <td>La/b;-&gt;&lt;init&gt;</td>\n",
       "      <td>invoke-direct</td>\n",
       "      <td>private constructor &lt;init&gt;()Va.smali</td>\n",
       "      <td>%D8%AA%D9%90%D9%82%D9%86%D9%8A</td>\n",
       "      <td>0</td>\n",
       "    </tr>\n",
       "  </tbody>\n",
       "</table>\n",
       "</div>"
      ],
      "text/plain": [
       "                                        api      invocation  \\\n",
       "0                             La/a;-><init>   invoke-direct   \n",
       "1           Ljava/lang/Runtime;->getRuntime   invoke-static   \n",
       "2  Ljava/lang/Runtime;->availableProcessors  invoke-virtual   \n",
       "3                Ljava/lang/Object;-><init>   invoke-direct   \n",
       "4                             La/b;-><init>   invoke-direct   \n",
       "\n",
       "                                   block                             app  \\\n",
       "0  static constructor <clinit>()Va.smali  %D8%AA%D9%90%D9%82%D9%86%D9%8A   \n",
       "1  static constructor <clinit>()Va.smali  %D8%AA%D9%90%D9%82%D9%86%D9%8A   \n",
       "2  static constructor <clinit>()Va.smali  %D8%AA%D9%90%D9%82%D9%86%D9%8A   \n",
       "3   private constructor <init>()Va.smali  %D8%AA%D9%90%D9%82%D9%86%D9%8A   \n",
       "4   private constructor <init>()Va.smali  %D8%AA%D9%90%D9%82%D9%86%D9%8A   \n",
       "\n",
       "   malware  \n",
       "0        0  \n",
       "1        0  \n",
       "2        0  \n",
       "3        0  \n",
       "4        0  "
      ]
     },
     "execution_count": 3,
     "metadata": {},
     "output_type": "execute_result"
    }
   ],
   "source": [
    "df.head()"
   ]
  },
  {
   "cell_type": "code",
   "execution_count": null,
   "metadata": {},
   "outputs": [],
   "source": []
  }
 ],
 "metadata": {
  "kernelspec": {
   "display_name": "Python 3.7.6 64-bit ('dask-env': conda)",
   "language": "python",
   "name": "python37664bitdaskenvconda749f9729b86948e1a8cdc521d945a91a"
  },
  "language_info": {
   "codemirror_mode": {
    "name": "ipython",
    "version": 3
   },
   "file_extension": ".py",
   "mimetype": "text/x-python",
   "name": "python",
   "nbconvert_exporter": "python",
   "pygments_lexer": "ipython3",
   "version": "3.7.6"
  },
  "latex_envs": {
   "LaTeX_envs_menu_present": true,
   "autoclose": false,
   "autocomplete": true,
   "bibliofile": "biblio.bib",
   "cite_by": "apalike",
   "current_citInitial": 1,
   "eqLabelWithNumbers": true,
   "eqNumInitial": 1,
   "hotkeys": {
    "equation": "Ctrl-E",
    "itemize": "Ctrl-I"
   },
   "labels_anchors": false,
   "latex_user_defs": false,
   "report_style_numbering": false,
   "user_envs_cfg": false
  }
 },
 "nbformat": 4,
 "nbformat_minor": 2
}
