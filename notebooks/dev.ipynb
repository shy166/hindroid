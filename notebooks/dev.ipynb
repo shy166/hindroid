{
 "cells": [
  {
   "cell_type": "code",
   "execution_count": 2,
   "metadata": {},
   "outputs": [],
   "source": [
    "import os\n",
    "from itertools import combinations\n",
    "import dask\n",
    "from dask import delayed\n",
    "from dask.distributed import Client, progress\n",
    "import dask.dataframe as dd\n",
    "from glob import glob\n",
    "import pandas as pd\n",
    "import numpy as np\n",
    "import json\n",
    "from tqdm import tqdm\n",
    "from scipy import sparse\n",
    "import psutil\n",
    "from pathlib import Path\n",
    "NUM_WORKER = psutil.cpu_count(logical = False)\n",
    "LIMIT = NUM_WORKER * 2\n",
    "FP_processed  = 'processed/'\n",
    "FP_matrices  = 'processed/matrices'\n",
    "FP_b = 'interim/b_features/*'\n",
    "FP_m = 'interim/m_features/*'\n",
    "FP_A = 'processed/matrices/A'\n",
    "Fp_B = 'processed/matrices/B'\n",
    "Fp_P = 'processed/matrices/P'"
   ]
  },
  {
   "cell_type": "code",
   "execution_count": 3,
   "metadata": {},
   "outputs": [],
   "source": [
    "from dask import delayed\n",
    "from itertools import combinations\n",
    "import psutil\n",
    "NUM_WORKER = psutil.cpu_count(logical = False)\n",
    "LIMIT = NUM_WORKER * 2"
   ]
  },
  {
   "cell_type": "code",
   "execution_count": 4,
   "metadata": {},
   "outputs": [],
   "source": [
    "client = Client(n_workers = NUM_WORKER)"
   ]
  },
  {
   "cell_type": "code",
   "execution_count": 5,
   "metadata": {},
   "outputs": [],
   "source": [
    "ROOT_DIR = '../'"
   ]
  },
  {
   "cell_type": "code",
   "execution_count": 6,
   "metadata": {},
   "outputs": [],
   "source": [
    "from glob import glob"
   ]
  },
  {
   "cell_type": "code",
   "execution_count": 7,
   "metadata": {},
   "outputs": [],
   "source": [
    "fp_b = '../data/tests/interim/b_features/*.csv'\n",
    "fp_m = '../data/tests/interim/m_features/*.csv'"
   ]
  },
  {
   "cell_type": "code",
   "execution_count": 8,
   "metadata": {},
   "outputs": [],
   "source": [
    "df_b = dd.read_csv(fp_b, usecols = ['api', 'block', 'app'], dtype = str)\n",
    "df_m = dd.read_csv(fp_m, usecols = ['api', 'block', 'app'], dtype = str)\n",
    "df = df_b.append(df_m).reset_index()"
   ]
  },
  {
   "cell_type": "code",
   "execution_count": 9,
   "metadata": {},
   "outputs": [],
   "source": [
    "apis = df.api.unique().compute()\n",
    "apis_dic = {apis[i]:i for i in range(len(apis))}"
   ]
  },
  {
   "cell_type": "code",
   "execution_count": 10,
   "metadata": {},
   "outputs": [],
   "source": [
    "df['api_id'] = df.api.apply(lambda x: apis_dic[x], meta = int)"
   ]
  },
  {
   "cell_type": "code",
   "execution_count": 11,
   "metadata": {},
   "outputs": [],
   "source": [
    "tmp = df.groupby('block').api_id\\\n",
    "    .apply(lambda x: list(combinations(x.drop_duplicates(), 2)), meta = list)\\\n",
    "    .explode()\\\n",
    "    .reset_index(drop = True)\\\n",
    "    .drop_duplicates()\\\n",
    "    .dropna().persist()"
   ]
  },
  {
   "cell_type": "code",
   "execution_count": 15,
   "metadata": {},
   "outputs": [
    {
     "data": {
      "text/plain": [
       "0            (1210, 690)\n",
       "1            (1210, 691)\n",
       "2          (1210, 10304)\n",
       "3          (1210, 10305)\n",
       "4         (1210, 259182)\n",
       "               ...      \n",
       "138918    (32968, 33003)\n",
       "138948    (56833, 11671)\n",
       "138952    (19675, 20737)\n",
       "138954      (290, 20737)\n",
       "138956    (20737, 19677)\n",
       "Length: 5202007, dtype: object"
      ]
     },
     "execution_count": 15,
     "metadata": {},
     "output_type": "execute_result"
    }
   ],
   "source": [
    "tmp.compute()"
   ]
  },
  {
   "cell_type": "code",
   "execution_count": 13,
   "metadata": {},
   "outputs": [
    {
     "data": {
      "application/vnd.jupyter.widget-view+json": {
       "model_id": "617ba9b2424c4555bb49af46ffffd685",
       "version_major": 2,
       "version_minor": 0
      },
      "text/plain": [
       "VBox()"
      ]
     },
     "metadata": {},
     "output_type": "display_data"
    }
   ],
   "source": [
    "progress(tmp)"
   ]
  },
  {
   "cell_type": "code",
   "execution_count": 20,
   "metadata": {},
   "outputs": [],
   "source": [
    "entries = pd.DataFrame(tmp.values.tolist()).values"
   ]
  },
  {
   "cell_type": "code",
   "execution_count": 22,
   "metadata": {},
   "outputs": [],
   "source": [
    "values = np.full(shape=entries.shape[0], fill_value=1, dtype='i1')"
   ]
  },
  {
   "cell_type": "code",
   "execution_count": 32,
   "metadata": {},
   "outputs": [],
   "source": [
    "result = sparse.coo_matrix(\n",
    "                (values, (entries[:,0], entries[:,1])), shape=(len(apis), len(apis))\n",
    "    )\n",
    "result.setdiag(1)"
   ]
  },
  {
   "cell_type": "code",
   "execution_count": 33,
   "metadata": {},
   "outputs": [
    {
     "data": {
      "text/plain": [
       "<308822x308822 sparse matrix of type '<class 'numpy.int8'>'\n",
       "\twith 5510829 stored elements in COOrdinate format>"
      ]
     },
     "execution_count": 33,
     "metadata": {},
     "output_type": "execute_result"
    }
   ],
   "source": [
    "result"
   ]
  }
 ],
 "metadata": {
  "kernelspec": {
   "display_name": "Python 3.7.6 64-bit ('dask-env': conda)",
   "language": "python",
   "name": "python37664bitdaskenvconda749f9729b86948e1a8cdc521d945a91a"
  },
  "language_info": {
   "codemirror_mode": {
    "name": "ipython",
    "version": 3
   },
   "file_extension": ".py",
   "mimetype": "text/x-python",
   "name": "python",
   "nbconvert_exporter": "python",
   "pygments_lexer": "ipython3",
   "version": "3.7.6"
  },
  "latex_envs": {
   "LaTeX_envs_menu_present": true,
   "autoclose": false,
   "autocomplete": true,
   "bibliofile": "biblio.bib",
   "cite_by": "apalike",
   "current_citInitial": 1,
   "eqLabelWithNumbers": true,
   "eqNumInitial": 1,
   "hotkeys": {
    "equation": "Ctrl-E",
    "itemize": "Ctrl-I"
   },
   "labels_anchors": false,
   "latex_user_defs": false,
   "report_style_numbering": false,
   "user_envs_cfg": false
  }
 },
 "nbformat": 4,
 "nbformat_minor": 2
}
