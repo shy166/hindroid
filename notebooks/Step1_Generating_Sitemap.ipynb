{
 "cells": [
  {
   "cell_type": "code",
   "execution_count": 3,
   "metadata": {},
   "outputs": [
    {
     "name": "stdout",
     "output_type": "stream",
     "text": [
      "The autoreload extension is already loaded. To reload it, use:\n",
      "  %reload_ext autoreload\n"
     ]
    }
   ],
   "source": [
    "import sys\n",
    "sys.path.append('../src')\n",
    "import json\n",
    "import utils\n",
    "%load_ext autoreload\n",
    "%autoreload 2"
   ]
  },
  {
   "cell_type": "markdown",
   "metadata": {},
   "source": [
    "### get sitemap full app dataframe"
   ]
  },
  {
   "cell_type": "code",
   "execution_count": 4,
   "metadata": {},
   "outputs": [],
   "source": [
    "cfg = json.load(open('../config/sitemap.json'))"
   ]
  },
  {
   "cell_type": "code",
   "execution_count": null,
   "metadata": {},
   "outputs": [
    {
     "name": "stderr",
     "output_type": "stream",
     "text": [
      "  0%|          | 12/7824 [01:41<5:04:22,  2.34s/it] "
     ]
    }
   ],
   "source": [
    "utils.create_sitemap_df(**cfg)"
   ]
  },
  {
   "cell_type": "markdown",
   "metadata": {},
   "source": [
    "### metadata overview"
   ]
  },
  {
   "cell_type": "code",
   "execution_count": 1,
   "metadata": {},
   "outputs": [],
   "source": [
    "import pandas as pd\n",
    "import requests\n",
    "import bs4"
   ]
  },
  {
   "cell_type": "code",
   "execution_count": 2,
   "metadata": {},
   "outputs": [],
   "source": [
    "metadata = pd.read_csv('../data/metadata/metadata.csv')"
   ]
  },
  {
   "cell_type": "code",
   "execution_count": 3,
   "metadata": {},
   "outputs": [
    {
     "data": {
      "text/html": [
       "<div>\n",
       "<style scoped>\n",
       "    .dataframe tbody tr th:only-of-type {\n",
       "        vertical-align: middle;\n",
       "    }\n",
       "\n",
       "    .dataframe tbody tr th {\n",
       "        vertical-align: top;\n",
       "    }\n",
       "\n",
       "    .dataframe thead th {\n",
       "        text-align: right;\n",
       "    }\n",
       "</style>\n",
       "<table border=\"1\" class=\"dataframe\">\n",
       "  <thead>\n",
       "    <tr style=\"text-align: right;\">\n",
       "      <th></th>\n",
       "      <th>loc</th>\n",
       "      <th>lastmod</th>\n",
       "      <th>changefreq</th>\n",
       "      <th>priority</th>\n",
       "      <th>sitemap_url</th>\n",
       "    </tr>\n",
       "  </thead>\n",
       "  <tbody>\n",
       "    <tr>\n",
       "      <th>0</th>\n",
       "      <td>https://apkpure.com/group/whatsapp-messenger</td>\n",
       "      <td>2019-09-16</td>\n",
       "      <td>weekly</td>\n",
       "      <td>0.6</td>\n",
       "      <td>https://apkpure.com/sitemaps/group-2.xml.gz</td>\n",
       "    </tr>\n",
       "    <tr>\n",
       "      <th>1</th>\n",
       "      <td>https://apkpure.com/group/kik</td>\n",
       "      <td>2019-09-16</td>\n",
       "      <td>weekly</td>\n",
       "      <td>0.6</td>\n",
       "      <td>https://apkpure.com/sitemaps/group-2.xml.gz</td>\n",
       "    </tr>\n",
       "    <tr>\n",
       "      <th>2</th>\n",
       "      <td>https://apkpure.com/group/skype-free-im-video-...</td>\n",
       "      <td>2019-09-16</td>\n",
       "      <td>weekly</td>\n",
       "      <td>0.6</td>\n",
       "      <td>https://apkpure.com/sitemaps/group-2.xml.gz</td>\n",
       "    </tr>\n",
       "    <tr>\n",
       "      <th>3</th>\n",
       "      <td>https://apkpure.com/group/yahoo-mail-%E2%80%93...</td>\n",
       "      <td>2019-09-16</td>\n",
       "      <td>weekly</td>\n",
       "      <td>0.6</td>\n",
       "      <td>https://apkpure.com/sitemaps/group-2.xml.gz</td>\n",
       "    </tr>\n",
       "    <tr>\n",
       "      <th>4</th>\n",
       "      <td>https://apkpure.com/group/line-free-calls-mess...</td>\n",
       "      <td>2019-09-16</td>\n",
       "      <td>weekly</td>\n",
       "      <td>0.6</td>\n",
       "      <td>https://apkpure.com/sitemaps/group-2.xml.gz</td>\n",
       "    </tr>\n",
       "    <tr>\n",
       "      <th>...</th>\n",
       "      <td>...</td>\n",
       "      <td>...</td>\n",
       "      <td>...</td>\n",
       "      <td>...</td>\n",
       "      <td>...</td>\n",
       "    </tr>\n",
       "    <tr>\n",
       "      <th>7843738</th>\n",
       "      <td>https://apkpure.com/ghiceste-personajul-din-la...</td>\n",
       "      <td>2019-03-23T17:34:40+00:00</td>\n",
       "      <td>weekly</td>\n",
       "      <td>0.6</td>\n",
       "      <td>https://apkpure.com/sitemaps/game_word-21.xml.gz</td>\n",
       "    </tr>\n",
       "    <tr>\n",
       "      <th>7843739</th>\n",
       "      <td>https://apkpure.com/ghiceste-masina/com.cristi...</td>\n",
       "      <td>2019-02-11T07:19:37+00:00</td>\n",
       "      <td>weekly</td>\n",
       "      <td>0.6</td>\n",
       "      <td>https://apkpure.com/sitemaps/game_word-21.xml.gz</td>\n",
       "    </tr>\n",
       "    <tr>\n",
       "      <th>7843740</th>\n",
       "      <td>https://apkpure.com/ghiceste-caracterul-animat...</td>\n",
       "      <td>2019-02-11T07:20:39+00:00</td>\n",
       "      <td>weekly</td>\n",
       "      <td>0.6</td>\n",
       "      <td>https://apkpure.com/sitemaps/game_word-21.xml.gz</td>\n",
       "    </tr>\n",
       "    <tr>\n",
       "      <th>7843741</th>\n",
       "      <td>https://apkpure.com/ghiceste-marca-tirului/com...</td>\n",
       "      <td>2019-02-10T12:52:43+00:00</td>\n",
       "      <td>weekly</td>\n",
       "      <td>0.6</td>\n",
       "      <td>https://apkpure.com/sitemaps/game_word-21.xml.gz</td>\n",
       "    </tr>\n",
       "    <tr>\n",
       "      <th>7843742</th>\n",
       "      <td>https://apkpure.com/quiz-youtuber-italiani-201...</td>\n",
       "      <td>2019-02-13T22:59:24+00:00</td>\n",
       "      <td>weekly</td>\n",
       "      <td>0.6</td>\n",
       "      <td>https://apkpure.com/sitemaps/game_word-21.xml.gz</td>\n",
       "    </tr>\n",
       "  </tbody>\n",
       "</table>\n",
       "<p>7843743 rows × 5 columns</p>\n",
       "</div>"
      ],
      "text/plain": [
       "                                                       loc  \\\n",
       "0             https://apkpure.com/group/whatsapp-messenger   \n",
       "1                            https://apkpure.com/group/kik   \n",
       "2        https://apkpure.com/group/skype-free-im-video-...   \n",
       "3        https://apkpure.com/group/yahoo-mail-%E2%80%93...   \n",
       "4        https://apkpure.com/group/line-free-calls-mess...   \n",
       "...                                                    ...   \n",
       "7843738  https://apkpure.com/ghiceste-personajul-din-la...   \n",
       "7843739  https://apkpure.com/ghiceste-masina/com.cristi...   \n",
       "7843740  https://apkpure.com/ghiceste-caracterul-animat...   \n",
       "7843741  https://apkpure.com/ghiceste-marca-tirului/com...   \n",
       "7843742  https://apkpure.com/quiz-youtuber-italiani-201...   \n",
       "\n",
       "                           lastmod changefreq  priority  \\\n",
       "0                       2019-09-16     weekly       0.6   \n",
       "1                       2019-09-16     weekly       0.6   \n",
       "2                       2019-09-16     weekly       0.6   \n",
       "3                       2019-09-16     weekly       0.6   \n",
       "4                       2019-09-16     weekly       0.6   \n",
       "...                            ...        ...       ...   \n",
       "7843738  2019-03-23T17:34:40+00:00     weekly       0.6   \n",
       "7843739  2019-02-11T07:19:37+00:00     weekly       0.6   \n",
       "7843740  2019-02-11T07:20:39+00:00     weekly       0.6   \n",
       "7843741  2019-02-10T12:52:43+00:00     weekly       0.6   \n",
       "7843742  2019-02-13T22:59:24+00:00     weekly       0.6   \n",
       "\n",
       "                                              sitemap_url  \n",
       "0             https://apkpure.com/sitemaps/group-2.xml.gz  \n",
       "1             https://apkpure.com/sitemaps/group-2.xml.gz  \n",
       "2             https://apkpure.com/sitemaps/group-2.xml.gz  \n",
       "3             https://apkpure.com/sitemaps/group-2.xml.gz  \n",
       "4             https://apkpure.com/sitemaps/group-2.xml.gz  \n",
       "...                                                   ...  \n",
       "7843738  https://apkpure.com/sitemaps/game_word-21.xml.gz  \n",
       "7843739  https://apkpure.com/sitemaps/game_word-21.xml.gz  \n",
       "7843740  https://apkpure.com/sitemaps/game_word-21.xml.gz  \n",
       "7843741  https://apkpure.com/sitemaps/game_word-21.xml.gz  \n",
       "7843742  https://apkpure.com/sitemaps/game_word-21.xml.gz  \n",
       "\n",
       "[7843743 rows x 5 columns]"
      ]
     },
     "execution_count": 3,
     "metadata": {},
     "output_type": "execute_result"
    }
   ],
   "source": [
    "metadata"
   ]
  },
  {
   "cell_type": "code",
   "execution_count": null,
   "metadata": {},
   "outputs": [],
   "source": []
  }
 ],
 "metadata": {
  "kernelspec": {
   "display_name": "Python 3",
   "language": "python",
   "name": "python3"
  },
  "language_info": {
   "codemirror_mode": {
    "name": "ipython",
    "version": 3
   },
   "file_extension": ".py",
   "mimetype": "text/x-python",
   "name": "python",
   "nbconvert_exporter": "python",
   "pygments_lexer": "ipython3",
   "version": "3.7.3"
  },
  "latex_envs": {
   "LaTeX_envs_menu_present": true,
   "autoclose": false,
   "autocomplete": true,
   "bibliofile": "biblio.bib",
   "cite_by": "apalike",
   "current_citInitial": 1,
   "eqLabelWithNumbers": true,
   "eqNumInitial": 1,
   "hotkeys": {
    "equation": "Ctrl-E",
    "itemize": "Ctrl-I"
   },
   "labels_anchors": false,
   "latex_user_defs": false,
   "report_style_numbering": false,
   "user_envs_cfg": false
  }
 },
 "nbformat": 4,
 "nbformat_minor": 2
}
