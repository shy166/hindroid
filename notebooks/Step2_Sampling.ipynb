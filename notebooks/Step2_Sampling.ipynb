{
 "cells": [
  {
   "cell_type": "code",
   "execution_count": 1,
   "metadata": {},
   "outputs": [],
   "source": [
    "import sys\n",
    "sys.path.append('../')\n",
    "%load_ext autoreload\n",
    "%autoreload 2"
   ]
  },
  {
   "cell_type": "code",
   "execution_count": 2,
   "metadata": {},
   "outputs": [],
   "source": [
    "from src.datasets import sampling"
   ]
  },
  {
   "cell_type": "markdown",
   "metadata": {},
   "source": [
    "### sampling for real data"
   ]
  },
  {
   "cell_type": "code",
   "execution_count": 3,
   "metadata": {
    "scrolled": false
   },
   "outputs": [],
   "source": [
    "cfg = json.load(open('../config/sample-params.json'))"
   ]
  },
  {
   "cell_type": "code",
   "execution_count": 4,
   "metadata": {},
   "outputs": [
    {
     "data": {
      "text/plain": [
       "{'mode': 'random', 'size': 150, 'test': False}"
      ]
     },
     "execution_count": 4,
     "metadata": {},
     "output_type": "execute_result"
    }
   ],
   "source": [
    "cfg"
   ]
  },
  {
   "cell_type": "code",
   "execution_count": 5,
   "metadata": {},
   "outputs": [],
   "source": [
    "sampling(**cfg)"
   ]
  },
  {
   "cell_type": "code",
   "execution_count": 11,
   "metadata": {
    "scrolled": true
   },
   "outputs": [
    {
     "data": {
      "text/plain": [
       "{'dir': '../data/datasets/',\n",
       " 'urls': ['https://apkpure.com/navtrack-rt/com.etoo.navtrack',\n",
       "  'https://apkpure.com/fgteev-videos/com.funnelvision.fgteev',\n",
       "  'https://apkpure.com/777-%D1%81%D0%BB%D0%BE%D1%82%D0%BE%D0%B2-%D0%B7%D0%BD%D0%B0%D0%BC%D0%B5%D0%BD%D0%B8%D1%82%D1%8B%D0%B5-%D1%81%D0%BB%D0%BE%D1%82%D1%8B/com.strawberry.casino.slots',\n",
       "  'https://apkpure.com/jay-and-jahnvi/com.marriageapp.JayAndJahnvi',\n",
       "  'https://apkpure.com/qx104/com.pattison.cfqx',\n",
       "  'https://apkpure.com/mobile-localisation-tracker/com.mobilephone.navigationLocationTrack',\n",
       "  'https://apkpure.com/1xbet/com.xunadalna.betx',\n",
       "  'https://apkpure.com/stories-and-lessons-in-islam/com.erickdev.storiesandlessonsinislam',\n",
       "  'https://apkpure.com/99-clones/ca.fivemedia.space.android',\n",
       "  'https://apkpure.com/cigar-en-fuego/com.atlasapps.enfuegodroid',\n",
       "  'https://apkpure.com/mobile-legends-quiz/com.anksite.mlbbquiz',\n",
       "  'https://apkpure.com/new-album-dangdut-koplo-terbaru/com.lostinc.newalbumdangdutkoploterbaru',\n",
       "  'https://apkpure.com/schaffenburg/com.verkoopapps.schaffenburg',\n",
       "  'https://apkpure.com/caffe-tazza/com.loke.tidy',\n",
       "  'https://apkpure.com/best-lines98/com.hoachu.linesgame.android',\n",
       "  'https://apkpure.com/group/mobile-fence-parental-control',\n",
       "  'https://apkpure.com/new-christmas-ikeyboard-theme/com.emoji.ikeyboard.theme.Christmas2016',\n",
       "  'https://apkpure.com/klub-uang/com.zongrui.klubuang',\n",
       "  'https://apkpure.com/maths-progression-formula-book/com.wPROGRESSIONFORMULABOOK_4898575',\n",
       "  'https://apkpure.com/kicau-masteran-trucukan-gacor/com.iky94studio.KicauMasteranTrucukanGacor',\n",
       "  'https://apkpure.com/maternity-clothes/com.MaternityClothesIdea.Rereapps',\n",
       "  'https://apkpure.com/die-brain-break-app/com.solutions.pixlrit.dielehrbrckegmbh',\n",
       "  'https://apkpure.com/pdf-invoice-generator/com.coder12895.pdfinvoicegenerator',\n",
       "  'https://apkpure.com/hci/id.co.agungtoyota.hci',\n",
       "  'https://apkpure.com/creative-puzzle-trains-for-brain/com.maximellian.newtest13',\n",
       "  'https://apkpure.com/design-home-garden/com.DesignHomeGarden.berkatandroid',\n",
       "  'https://apkpure.com/princess-bubble-rescue-swan/com.bigricher.bubbleshooter.beautyprincess',\n",
       "  'https://apkpure.com/fitoor-full-movie-songs/com.meldev.fitoorfullmoviesongs',\n",
       "  'https://apkpure.com/airlinersden/com.airlinersden.android',\n",
       "  'https://apkpure.com/theme-for-nokia5-1-plus-fancy-light-wallpaper/theme.nokia5.plus.fancy.light.nokia8.nokia6.nokia8.nokia5.nokia3.xplus.nokia3310.wallpaper',\n",
       "  'https://apkpure.com/beauty-plus-effect-camera-2018/com.BeautyPlus.SelfieCamera.Bookeh',\n",
       "  'https://apkpure.com/jtl-ea-monitor/de.jtl_software.eamonitor.app',\n",
       "  'https://apkpure.com/%D0%B4%D0%B8%D0%B5%D1%82%D0%B8%D1%87%D0%B5%D1%81%D0%BA%D0%B8%D0%B5-%D0%B4%D0%B5%D1%81%D0%B5%D1%80%D1%82%D1%8B/com.foodeatmir.dieticheskiedeserty',\n",
       "  'https://apkpure.com/maher-zain-nasheed-naats/com.ramzan_apps.mehr_zain',\n",
       "  'https://apkpure.com/manateq/com.manateq.andro',\n",
       "  'https://apkpure.com/taxi-dakar/com.emc2_group.ctd',\n",
       "  'https://apkpure.com/spurgeon-iit/com.arteries.spurgeoniit',\n",
       "  'https://apkpure.com/guide-4-slugterra-slug-it-out-2/com.SlugterraSlugitOut.SlugterraSlug',\n",
       "  'https://apkpure.com/afrikaans-to-pashto-ps-to-af-%E2%80%93-speak-translator/com.androidtranslator.AfrikaansToPashtotransletor',\n",
       "  'https://apkpure.com/fratello-pizzaria/com.wabiz.delivery.fratellopizzariaerestaurante',\n",
       "  'https://apkpure.com/atrapa-las-hamburguesas/rbs.atrapa.hamburguesas',\n",
       "  'https://apkpure.com/usb-reverse-tethering/jasongong.tether.usb',\n",
       "  'https://apkpure.com/group/dream-daddy-simulator',\n",
       "  'https://apkpure.com/kata-bijak-islami-dalam-alquran-lengkap/com.katabijakiislamdalamalqurant.forextrandingonline',\n",
       "  'https://apkpure.com/airplane-photo-frames/clark.photoframe.airplanephotoframes',\n",
       "  'https://apkpure.com/welcome-to-croatia/hr.d_f.welcometocroatia',\n",
       "  'https://apkpure.com/health-tips/com.health.tip.i3',\n",
       "  'https://apkpure.com/uchiha-wallpaper-hd/com.dapurstudio.uchihawallpaper.clanuchiha.anime.fanart',\n",
       "  'https://apkpure.com/for-buy-sell/com.forbuysell',\n",
       "  'https://apkpure.com/black-box/com.toxsl.blackbox',\n",
       "  'https://apkpure.com/world-news/com.world.news.moghazy',\n",
       "  'https://apkpure.com/rrm-360-radio/com.rrmsense.radiostream',\n",
       "  'https://apkpure.com/gujarati-keyboard-izee/com.izee.zee.free.apps.gujrati.keyboard',\n",
       "  'https://apkpure.com/wallpapers-for-xperia-l1/comssss.sitaram.xperial1',\n",
       "  'https://apkpure.com/manegeapp/nl.manegeapp.ManegeApp',\n",
       "  'https://apkpure.com/tamil-tech/com.appswiz.tamiltechibgfd',\n",
       "  'https://apkpure.com/the-greatest-showman-rewrite-the-stars-lyrics/com.ictimdeveloper.TheGreatestShowman',\n",
       "  'https://apkpure.com/demi-lovato-hidden-words/com.hiddenword.gamelovato',\n",
       "  'https://apkpure.com/gramophone-music-player/com.gramophone.musicplayer',\n",
       "  'https://apkpure.com/yar%C4%B1na-bak%C4%B1%C5%9F-h%C4%B1zl%C4%B1-eri%C5%9Fim/se.er.com.yarinabakis',\n",
       "  'https://apkpure.com/pick-the-perfect-puppy/com.perfectpuppy',\n",
       "  'https://apkpure.com/moto-sport-simulator/com.michtek.Motorbike1',\n",
       "  'https://apkpure.com/cbesa/br.com.appevento.cbesa',\n",
       "  'https://apkpure.com/lovely-kitty-poops-cat-game/appinventor.ai_spenottina.Kitty_Poops',\n",
       "  'https://apkpure.com/usm-app-control/com.org.inca.usmapp',\n",
       "  'https://apkpure.com/zigzag-line-2-players/com.LTGane.DancingZigZagKids',\n",
       "  'https://apkpure.com/stotras-all-gods/com.stotraallgods',\n",
       "  'https://apkpure.com/the-best-of-coldplay-music-videos/com.BerakhahDev.TheBestofColdplay',\n",
       "  'https://apkpure.com/little-mary-slots-casino-bar/com.Sapp.MaLi01',\n",
       "  'https://apkpure.com/saral-career-education/career.saral.com.saralcareereducation',\n",
       "  'https://apkpure.com/%D8%AA%D9%84%D8%A7%D9%88%D8%A7%D8%AA-%D8%AE%D8%A7%D8%B4%D8%B9%D8%A9-%D9%88%D9%85%D9%86%D8%A7%D8%AC%D8%A7%D8%A9-%D9%85%D8%A4%D8%AB%D8%B1%D8%A9-%D8%AC%D8%AF%D8%A7-%D8%A8%D8%AF%D9%88%D9%86-%D8%A7%D9%86%D8%AA%D8%B1%D9%86%D8%AA/org.monajat.tilawat.quran',\n",
       "  'https://apkpure.com/outfit-for-teen-trendy-2018-iedas/com.outfitforschool.newideasforoutfits',\n",
       "  'https://apkpure.com/social-aider-ig/com.socialaiderinstagram',\n",
       "  'https://apkpure.com/carener-s/cn.xlink.jinansecurity',\n",
       "  'https://apkpure.com/christmas-ringtones/com.go.Ringtone.t14',\n",
       "  'https://apkpure.com/spookiz-adventure/com.spooki.zadveentuwa',\n",
       "  'https://apkpure.com/mosque-timings/com.iqgamestudio.mosque.timer',\n",
       "  'https://apkpure.com/radio-klassik-barock-inoffizielle-kostenlos-online/com.klassikradiobarockalemania.klassikradiobarock',\n",
       "  'https://apkpure.com/edge-adventures-blood-ninja/comtempedge.httptakenkart.edgeadventues',\n",
       "  'https://apkpure.com/wedding-invitation/www.maximoapps.in.marriageinvitation',\n",
       "  'https://apkpure.com/burmese-english-translator/an.BurmeseTranslate',\n",
       "  'https://apkpure.com/%ED%95%98%EC%9A%B0%EB%94%9C/m.app.howardil',\n",
       "  'https://apkpure.com/photo-video-maker-with-music-video-editor/videoeditor.slideshow.videomaker.photovideomaker',\n",
       "  'https://apkpure.com/%D8%A7%D9%83%D8%AB%D8%B1-%D8%B5%D9%88%D8%B1-%D8%B3%D9%8A%D9%84%D9%81%D9%8A-%D8%A3%D8%AB%D8%A7%D8%B1%D8%A9-%D9%81%D9%8A-%D8%A7%D9%84%D8%B9%D8%A7%D9%84%D9%85/com.swar.selfee',\n",
       "  'https://apkpure.com/prank-call-id-best-fake/com.jll.prankcallidbest.fake',\n",
       "  'https://apkpure.com/pluss-managed-mobile-inventory/com.pluss.MobileInventory',\n",
       "  'https://apkpure.com/great-slots-slot-machines/com.cucgames.great_slots',\n",
       "  'https://apkpure.com/kata-kata-anak-racing-keren-terbaru-lengkap/com.kataanakracing.forextrandingonline',\n",
       "  'https://apkpure.com/tappme/com.tappme.tappme',\n",
       "  'https://apkpure.com/music-star-photo-montage/com.aero.musicstarphotomontage',\n",
       "  'https://apkpure.com/%D0%B0%D1%83%D0%B4%D0%B8%D0%BE-%D0%BF%D0%BE%D0%BB%D0%B8%D0%B3%D0%BB%D0%BE%D1%82-%D0%B8%D1%82%D0%B0%D0%BB%D1%8C%D1%8F%D0%BD%D1%81%D0%BA%D0%B8%D0%B9/com.poliglot.italian',\n",
       "  'https://apkpure.com/covideo/covideo.com',\n",
       "  'https://apkpure.com/scuola-danza-piccola-accademia/it.pgmobapp.a12826dae3a4400ceb67aa61de02fb526',\n",
       "  'https://apkpure.com/%D8%A7%D8%AC%D9%85%D9%84-%D8%A7%D8%B4%D8%B9%D8%A7%D8%B1-%D9%86%D8%B2%D8%A7%D8%B1-%D9%82%D8%A8%D8%A7%D9%86%D9%89/march.ashaarnezzar',\n",
       "  'https://apkpure.com/wemencastle/com.tibolli.wemenCastle',\n",
       "  'https://apkpure.com/cieo/com.kinetise.app7a7d2e24e1a13afc6dff6a9b6a4d5d14',\n",
       "  'https://apkpure.com/leet-one-in-the-quiver-mcpe/cc.leet.leetapps.nukkitoitq',\n",
       "  'https://apkpure.com/grove-brew-house/com.surepathmobile.grove',\n",
       "  'https://apkpure.com/pilgrim-s-progress-free/com.pilgrimsprogressfree',\n",
       "  'https://apkpure.com/weekly-info-pregnancy/com.weekly.info.pregnancy',\n",
       "  'https://apkpure.com/kitty-frames-photo-editor/com.beautifulframesphotoeditor.kitty',\n",
       "  'https://apkpure.com/kicau-burung-poksay-hongkong/com.masterkicau.poksayhongkong',\n",
       "  'https://apkpure.com/motivate-gym/com.mobincube.motivate_gym.sc_HGNQDE',\n",
       "  'https://apkpure.com/the-kids-calculator-lite/com.sandscapeapps.thekidscalculatorlite',\n",
       "  'https://apkpure.com/forms-app/com.formsapp',\n",
       "  'https://apkpure.com/zga/com.worldmanager.zuhourgroup',\n",
       "  'https://apkpure.com/tecnoversia/com.tecnologiaporpalabras.tecnoversiaapp',\n",
       "  'https://apkpure.com/vha/com.ceosoftcenters.vha',\n",
       "  'https://apkpure.com/rangkaian-nama-bayi-laki-laki-islami/com.wangkelang.rangkaianmamabayilakilakiislami',\n",
       "  'https://apkpure.com/lagu-andra-and-the-backbone/org.goodinapps.laguandraandthebackbone',\n",
       "  'https://apkpure.com/%D7%90%D7%A7%D7%93%D7%9E%D7%99%D7%AA-%D7%AA%D7%9C-%D7%90%D7%91%D7%99%D7%91-%D7%99%D7%A4%D7%95/com.academit.tlv.android',\n",
       "  'https://apkpure.com/pkarlean-mediaplayer/net.andromo.dev765727.app855852',\n",
       "  'https://apkpure.com/qapp-quran-daily/com.amosys.qapp',\n",
       "  'https://apkpure.com/editor-plus-photo-editing-tool/com.gamewallet1.editorplus',\n",
       "  'https://apkpure.com/concurso-sabesp-provas-mat%C3%A9ria-completa-gabarito/br.com.mercadoajato.concursosabespprovas',\n",
       "  'https://apkpure.com/mectma/com.mentorsct.www.mentorsct',\n",
       "  'https://apkpure.com/sentio-file-explorer/com.sentio.fileexplorer',\n",
       "  'https://apkpure.com/spelling-corrector%E2%80%93-pronunciation-spell-checker/com.spelling.correction.pronounciation.words.checker',\n",
       "  'https://apkpure.com/tabakh-al-freej/com.kw.tbk.tabakhalfreej',\n",
       "  'https://apkpure.com/iii-jornadas-accesibilidad/com.atstudio.pmojornadaaccesibilidad',\n",
       "  'https://apkpure.com/%E0%B8%84%E0%B8%B3%E0%B8%96%E0%B8%B2%E0%B8%A1-%E0%B8%AD%E0%B8%B0%E0%B9%84%E0%B8%A3%E0%B9%80%E0%B8%AD%E0%B9%88%E0%B8%A2-%E0%B8%82%E0%B8%B3%E0%B9%86%E0%B8%AE%E0%B8%B2%E0%B9%86-100/com.nut.what',\n",
       "  'https://apkpure.com/runnig-gps-free/com.androiddevelopermx.blogspot.GpsRunFree',\n",
       "  'https://apkpure.com/web-saku/com.globallink.websaku',\n",
       "  'https://apkpure.com/%D8%B5%D9%88%D8%B1-%D8%AE%D9%84%D9%81%D9%8A%D8%A7%D8%AA/com.bramjonline.mobilewallpapers',\n",
       "  'https://apkpure.com/kult%C5%ABra/lt.lrytas.kultura',\n",
       "  'https://apkpure.com/%EA%B8%89%EB%98%A5/com.pjh.toilet',\n",
       "  'https://apkpure.com/greenfield-union-sd/com.edlio.android.greusd',\n",
       "  'https://apkpure.com/%D9%84%D8%B9%D8%A8%D8%A9-%D8%B7%D8%A8%D9%8A%D8%A8-%D8%A7%D9%84%D8%B9%D8%A7%D8%A6%D9%84%D8%A9/com.familydoctor.game',\n",
       "  'https://apkpure.com/wallpaper-jaguar-xfr/com.pallwall.WallpaperJaguarXFR',\n",
       "  'https://apkpure.com/math-brain-train/com.chmourisucessapp40.funnymath',\n",
       "  'https://apkpure.com/kids-coloring-book-kids-colouring-and-painting/com.kids.colouring.painting.book.games',\n",
       "  'https://apkpure.com/guess-fc-barcelona-players-on-pop-art/com.playbok.barcelonaplayersonpopart',\n",
       "  'https://apkpure.com/english-worship-songs/com.fadadar.englishworshipsongs',\n",
       "  'https://apkpure.com/frases-cristianas-para-mi-hermana/com.HebertApps.frasescristianasparamihermana',\n",
       "  'https://apkpure.com/cse-siblu/com.prowebce028872CECSESIBLU.android',\n",
       "  'https://apkpure.com/1-d-royal/loveisblind.qoo10.android.qstore',\n",
       "  'https://apkpure.com/guide-for-lego-juniors-quest/com.geguide.gewantapp4',\n",
       "  'https://apkpure.com/brony-fm/com.asemob.radio.black.brony',\n",
       "  'https://apkpure.com/safe-sound/com.onemoby.safeandsound',\n",
       "  'https://apkpure.com/fare-tip-split-calculator/tipcalc.rishabh.mytipplease',\n",
       "  'https://apkpure.com/free-stopwatch/mea.freestopwatch',\n",
       "  'https://apkpure.com/morocco-newspapers/com.andromo.dev745414.app878224',\n",
       "  'https://apkpure.com/princess-spa-girls-games/com.hugsnhearts.android_princess_spa',\n",
       "  'https://apkpure.com/contratey/com.easyeasyapps.framework.a5195.contratey',\n",
       "  'https://apkpure.com/guide-for-toca-boca-game/com.guide.tipsfor.tocabocagamekids',\n",
       "  'https://apkpure.com/umvpn-free-vpn-proxy-ip-unblocker/com.umvpn.freeproxy',\n",
       "  'https://apkpure.com/missions-marketplace-conf/com.crowdcompass.appTGJ39TxbIr',\n",
       "  'https://apkpure.com/legazy-iptv-player/com.legazy.player',\n",
       "  'https://apkpure.com/cartoon-lol-dolls-surprise-pets-wallpapers/com.wallpaper.pets.surprise.dolls.lol.cartoon',\n",
       "  'https://apkpure.com/%D9%83%D9%8A%D9%81%D9%8A%D8%A9-%D8%A7%D8%B2%D8%A7%D9%84%D8%A9-%D8%A7%D8%AB%D8%A7%D8%B1-%D8%A7%D9%84%D8%AD%D8%B1%D9%88%D9%82-%D8%A8%D8%B3%D8%B1%D8%B9%D9%87/com.azizz365.hroq98'],\n",
       " 'verbose': True,\n",
       " 'clean': True,\n",
       " 'log': '/log/fetching.json'}"
      ]
     },
     "execution_count": 11,
     "metadata": {},
     "output_type": "execute_result"
    }
   ],
   "source": [
    "json.load(open('../config/data-params.json'))"
   ]
  },
  {
   "cell_type": "markdown",
   "metadata": {},
   "source": [
    "### sampling for test data"
   ]
  },
  {
   "cell_type": "code",
   "execution_count": 8,
   "metadata": {},
   "outputs": [],
   "source": [
    "cfg = json.load(open('../config/test-sample.json'))"
   ]
  },
  {
   "cell_type": "code",
   "execution_count": 9,
   "metadata": {},
   "outputs": [
    {
     "data": {
      "text/plain": [
       "{'mode': 'random', 'size': 20, 'test': True}"
      ]
     },
     "execution_count": 9,
     "metadata": {},
     "output_type": "execute_result"
    }
   ],
   "source": [
    "cfg"
   ]
  },
  {
   "cell_type": "code",
   "execution_count": 10,
   "metadata": {},
   "outputs": [],
   "source": [
    "sampling(**cfg)"
   ]
  },
  {
   "cell_type": "code",
   "execution_count": 12,
   "metadata": {},
   "outputs": [
    {
     "data": {
      "text/plain": [
       "{'dir': '../data/tests/',\n",
       " 'urls': ['https://apkpure.com/moto-gallery/com.fivestar.thridgallery',\n",
       "  'https://apkpure.com/flixwood-100-cinema/com.digitamatix.flixwood',\n",
       "  'https://apkpure.com/indian-railway-help/com.namichand3.Indian_Railway_Trains_Help',\n",
       "  'https://apkpure.com/r%C3%A1dio-livre-salvador/com.shoutcast.app.radiolivresalvador',\n",
       "  'https://apkpure.com/retro-asteroids/com.MaximLoverov.RetroAsteroids',\n",
       "  'https://apkpure.com/chola-mais/com.mahlabs.cholamais',\n",
       "  'https://apkpure.com/english-chinese-dictionary/com.English.Chinese.Dictionary.JuliaDictionaryInc',\n",
       "  'https://apkpure.com/edu-school/com.eventifica.eduSchool',\n",
       "  'https://apkpure.com/%E6%9A%B4%E8%B5%B0%E6%BC%AB%E7%95%AB%E5%B0%8F%E8%AA%AA%EF%BC%88%E7%B9%81%E7%B0%A1%EF%BC%89/com.baozoumanhuaxiaoshuo815.google',\n",
       "  'https://apkpure.com/broken-screen-prank/com.prank.screen.crack.urazapp.brokenscreenprank',\n",
       "  'https://apkpure.com/draw-share-my-little-pony/com.drawshare.mylittlepony',\n",
       "  'https://apkpure.com/graphics-wallpaper/com.Grafis.usefulthought',\n",
       "  'https://apkpure.com/qstore/com.e2e.dac',\n",
       "  'https://apkpure.com/talksapp/com.wTalksApp_8772213',\n",
       "  'https://apkpure.com/challenge-30/com.conduit.app_1d9a6dd52f9d4ec3b8f258039289fb8d.app',\n",
       "  'https://apkpure.com/free-terrarium-tv-reference/com.Mayallah.newterrariumref',\n",
       "  'https://apkpure.com/gles3mark-es-3-0-benchmark/com.tomaskimer.gles3mark',\n",
       "  'https://apkpure.com/the-specialty-channel/com.primcast.thespecialtychannel2',\n",
       "  'https://apkpure.com/la-bella/pl.labella.app',\n",
       "  'https://apkpure.com/karomah-habib-mundzir-bin-fuaad-almusawwa/com.appssemogaberkah.karomahhabibmunzirbinfuaadalmusawwa'],\n",
       " 'verbose': True,\n",
       " 'clean': True,\n",
       " 'log': '/log/fetching.json'}"
      ]
     },
     "execution_count": 12,
     "metadata": {},
     "output_type": "execute_result"
    }
   ],
   "source": [
    "json.load(open('../config/test-params.json'))"
   ]
  }
 ],
 "metadata": {
  "kernelspec": {
   "display_name": "Python 3.7.6 64-bit ('dask-env': conda)",
   "language": "python",
   "name": "python37664bitdaskenvconda749f9729b86948e1a8cdc521d945a91a"
  },
  "language_info": {
   "codemirror_mode": {
    "name": "ipython",
    "version": 3
   },
   "file_extension": ".py",
   "mimetype": "text/x-python",
   "name": "python",
   "nbconvert_exporter": "python",
   "pygments_lexer": "ipython3",
   "version": "3.7.6"
  },
  "latex_envs": {
   "LaTeX_envs_menu_present": true,
   "autoclose": false,
   "autocomplete": true,
   "bibliofile": "biblio.bib",
   "cite_by": "apalike",
   "current_citInitial": 1,
   "eqLabelWithNumbers": true,
   "eqNumInitial": 1,
   "hotkeys": {
    "equation": "Ctrl-E",
    "itemize": "Ctrl-I"
   },
   "labels_anchors": false,
   "latex_user_defs": false,
   "report_style_numbering": false,
   "user_envs_cfg": false
  }
 },
 "nbformat": 4,
 "nbformat_minor": 2
}
