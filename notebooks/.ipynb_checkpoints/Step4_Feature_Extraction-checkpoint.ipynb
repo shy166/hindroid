{
 "cells": [
  {
   "cell_type": "code",
   "execution_count": 2,
   "metadata": {},
   "outputs": [],
   "source": [
    "import sys\n",
    "sys.path.append('../src')\n",
    "import feature\n",
    "%load_ext autoreload\n",
    "%autoreload 2"
   ]
  },
  {
   "cell_type": "code",
   "execution_count": 3,
   "metadata": {},
   "outputs": [],
   "source": [
    "import json\n",
    "cfg = json.load(open('../config/features.json'))"
   ]
  },
  {
   "cell_type": "code",
   "execution_count": 4,
   "metadata": {},
   "outputs": [
    {
     "data": {
      "text/plain": [
       "{'fp': '../data/raw/smali',\n",
       " 'map_dir': '../data/raw/app_map.json',\n",
       " 'op': '../data/interim/appfeature'}"
      ]
     },
     "execution_count": 4,
     "metadata": {},
     "output_type": "execute_result"
    }
   ],
   "source": [
    "cfg"
   ]
  },
  {
   "cell_type": "code",
   "execution_count": 4,
   "metadata": {},
   "outputs": [
    {
     "name": "stderr",
     "output_type": "stream",
     "text": [
      "/Users/syeehyn/opt/anaconda3/envs/dask-env/lib/python3.7/site-packages/distributed/dashboard/core.py:79: UserWarning: \n",
      "Port 8787 is already in use. \n",
      "Perhaps you already have a cluster running?\n",
      "Hosting the diagnostics dashboard on a random port instead.\n",
      "  warnings.warn(\"\\n\" + msg)\n",
      "  0%|          | 0/93 [00:00<?, ?it/s]"
     ]
    },
    {
     "name": "stdout",
     "output_type": "stream",
     "text": [
      "Dashboard Address: http://127.0.0.1:55696/status\n"
     ]
    },
    {
     "name": "stderr",
     "output_type": "stream",
     "text": [
      "100%|██████████| 93/93 [15:58<00:00, 10.31s/it]\n"
     ]
    },
    {
     "data": {
      "text/plain": [
       "'api calls extracted'"
      ]
     },
     "execution_count": 4,
     "metadata": {},
     "output_type": "execute_result"
    }
   ],
   "source": [
    "feature.get_apps_info(**cfg)"
   ]
  },
  {
   "cell_type": "code",
   "execution_count": 5,
   "metadata": {},
   "outputs": [],
   "source": [
    "from glob import glob"
   ]
  },
  {
   "cell_type": "code",
   "execution_count": 6,
   "metadata": {
    "scrolled": true
   },
   "outputs": [
    {
     "data": {
      "text/plain": [
       "['../data/interim/appfeature/mis.csv',\n",
       " '../data/interim/appfeature/unfollowers-followers-for-instagram.csv',\n",
       " '../data/interim/appfeature/arcode.csv',\n",
       " '../data/interim/appfeature/%E3%82%B3%E3%82%B3%E3%82%A2%E3%82%AF%E3%82%A4%E3%82%BAfor%E3%81%94%E6%B3%A8%E6%96%87%E3%81%AF%E3%81%86%E3%81%95%E3%81%8E%E3%81%A7%E3%81%99%E3%81%8B-%E4%BA%BA%E6%B0%97%E3%82%A2%E3%83%8B%E3%83%A1%E3%81%94%E3%81%A1%E3%81%86%E3%81%95.csv',\n",
       " '../data/interim/appfeature/my-aief-seminar-in-israel.csv',\n",
       " '../data/interim/appfeature/keypos-%ED%83%9C%EB%B8%94%EB%A6%BF%EC%9D%84-pos%EB%A1%9C.csv',\n",
       " '../data/interim/appfeature/ozuna-new-songs-brindemos-ft-anuel-aa.csv',\n",
       " '../data/interim/appfeature/eagle-desert-wind.csv',\n",
       " '../data/interim/appfeature/360-camera-hd.csv',\n",
       " '../data/interim/appfeature/ashtottara-108-names-of-god.csv',\n",
       " '../data/interim/appfeature/%E6%90%96%E9%8C%A2%E6%A8%B9-%E5%85%8D%E8%B4%B9%E6%8A%A2%E7%BA%A2%E5%8C%85%E6%91%87%E5%A5%96%E5%93%81.csv',\n",
       " '../data/interim/appfeature/%D8%A7%D9%84%D9%85%D8%B9%D9%83%D8%B1%D9%88%D9%86%D8%A9-%D8%A8%D8%A3%D9%86%D9%88%D8%A7%D8%B9%D9%87%D8%A7.csv',\n",
       " '../data/interim/appfeature/%D8%A7%D8%BA%D8%A7%D9%86%D9%8A-%D8%B5%D8%AF%D9%89-%D9%86%D8%AC%D8%B1%D8%A7%D9%86-%D9%8A%D8%A7%D9%84%D9%85%D8%B2%D9%8A%D9%88%D9%86-%D9%88%D8%B4%D9%84%D9%88%D9%86%D9%83-%D8%A8%D8%AF%D9%88%D9%86-%D9%86%D8%AA.csv',\n",
       " '../data/interim/appfeature/shtiebel.csv',\n",
       " '../data/interim/appfeature/electro-aceros-lombardia.csv',\n",
       " '../data/interim/appfeature/telugujokes9.csv',\n",
       " '../data/interim/appfeature/icotilleos-lite.csv',\n",
       " '../data/interim/appfeature/qburger%E5%AD%B8%E8%8B%91.csv',\n",
       " '../data/interim/appfeature/luna-2015.csv',\n",
       " '../data/interim/appfeature/denmans.csv',\n",
       " '../data/interim/appfeature/taboo-what-group-links-unlimited-group-links-share.csv',\n",
       " '../data/interim/appfeature/astpp-dialer-voip-softphone.csv',\n",
       " '../data/interim/appfeature/play-tube-lite-player-hd-videos.csv',\n",
       " '../data/interim/appfeature/sukamvel-home-service.csv',\n",
       " '../data/interim/appfeature/mc-kekel-music-lyrics.csv',\n",
       " '../data/interim/appfeature/free-lipsi-anonymous-messaging-guide.csv',\n",
       " '../data/interim/appfeature/guide-for-ice-age-adventure.csv',\n",
       " '../data/interim/appfeature/ugenr-widget.csv',\n",
       " '../data/interim/appfeature/ucloudusa.csv',\n",
       " '../data/interim/appfeature/%D1%81%D0%BA%D0%B0%D0%B7%D0%BA%D0%B8-%D0%B2%D1%81%D0%BB%D1%83%D1%85-%D0%B0%D1%83%D0%B4%D0%B8%D0%BE%D1%81%D0%BA%D0%B0%D0%B7%D0%BA%D0%B8-%D1%82%D0%BE%D0%BC4.csv',\n",
       " '../data/interim/appfeature/cockroach-smasher.csv',\n",
       " '../data/interim/appfeature/just-2-pics.csv',\n",
       " '../data/interim/appfeature/%ED%95%AB%EB%B2%84%ED%82%B7-hot-bucket.csv',\n",
       " '../data/interim/appfeature/world-clock-widget.csv',\n",
       " '../data/interim/appfeature/feast-of-nativity-v2-arabic.csv',\n",
       " '../data/interim/appfeature/space-sheep.csv',\n",
       " '../data/interim/appfeature/%D8%A3%D8%B1%D9%88%D8%B9-%D9%85%D8%A7-%D9%83%D8%AA%D8%A8%D9%87-%D8%A7%D9%84%D8%A8%D8%B4%D8%B1.csv',\n",
       " '../data/interim/appfeature/lunar-tv-pro-uk.csv',\n",
       " '../data/interim/appfeature/k7-%EB%A7%A4%EB%A7%A4.csv',\n",
       " '../data/interim/appfeature/santa-claus-christmas-mission-adventure.csv',\n",
       " '../data/interim/appfeature/cronique.csv',\n",
       " '../data/interim/appfeature/tribe-clash-saga.csv',\n",
       " '../data/interim/appfeature/e-gras.csv',\n",
       " '../data/interim/appfeature/u-dada.csv',\n",
       " '../data/interim/appfeature/anime-music-mix-videos.csv',\n",
       " '../data/interim/appfeature/oraciones-y-bendiciones.csv',\n",
       " '../data/interim/appfeature/pico-%EC%9D%B8%ED%85%8C%EB%A6%AC%EC%96%B4.csv',\n",
       " '../data/interim/appfeature/%D8%A7%D8%BA%D8%A7%D9%86%D9%8A-%D8%A7%D9%84%D8%B3%D8%B1%D8%AD%D8%A7%D9%86%D9%8A-%D8%A8%D8%AF%D9%88%D9%86-%D8%A7%D9%86%D8%AA%D8%B1%D9%86%D8%AA-2019.csv',\n",
       " '../data/interim/appfeature/find-difference-games-between-2-pictures.csv',\n",
       " '../data/interim/appfeature/flashlight.csv',\n",
       " '../data/interim/appfeature/ruzzit.csv',\n",
       " '../data/interim/appfeature/asus-zenanywhere.csv',\n",
       " '../data/interim/appfeature/spotter-inspection-app.csv',\n",
       " '../data/interim/appfeature/gato-galactico-windoh.csv',\n",
       " '../data/interim/appfeature/screen-recoder.csv',\n",
       " '../data/interim/appfeature/moon-jump.csv',\n",
       " '../data/interim/appfeature/%E3%82%AB%E3%83%95%E3%82%A7-%E3%83%80%E3%82%A4%E3%83%8B%E3%83%B3%E3%82%B0-%E3%83%91%E3%82%BB%E3%83%AC%E3%83%83%E3%83%86%E3%82%A3.csv',\n",
       " '../data/interim/appfeature/turbo-craft-crafting-games-pocket-edition.csv',\n",
       " '../data/interim/appfeature/luvabella-class-doll-educational-game-for-kids.csv',\n",
       " '../data/interim/appfeature/%D8%B9%D8%B5%D8%A7%D8%A6%D8%B1-%D9%88%D9%85%D8%B4%D8%B1%D9%88%D8%A8%D8%A7%D8%AA.csv',\n",
       " '../data/interim/appfeature/anpic-%E5%AE%89%E5%90%A6%E7%8A%B6%E6%B3%81%E3%82%92%E3%83%AD%E3%82%B0%E3%82%A4%E3%83%B3%E4%B8%8D%E8%A6%81%E3%81%A7%E3%81%8B%E3%82%93%E3%81%9F%E3%82%93%E5%A0%B1%E5%91%8A.csv',\n",
       " '../data/interim/appfeature/sausage-cannon.csv',\n",
       " '../data/interim/appfeature/prawo-restrukturyzacyjne.csv',\n",
       " '../data/interim/appfeature/digital-fm-a-r%C3%A1dio-que-foi-feita-pra-voc%C3%AA.csv',\n",
       " '../data/interim/appfeature/jogo-da-galo-jogo-da-velha-tic-tac-toe.csv',\n",
       " '../data/interim/appfeature/daily-horoscope.csv',\n",
       " '../data/interim/appfeature/all-in-one-email-new-beta.csv',\n",
       " '../data/interim/appfeature/venus-interactive-video-player.csv',\n",
       " '../data/interim/appfeature/friends-chandler-bing-whip.csv',\n",
       " '../data/interim/appfeature/range-racer-prank-app.csv',\n",
       " '../data/interim/appfeature/cifras-mel%C3%B3dicas-offline.csv',\n",
       " '../data/interim/appfeature/s8-music-player.csv',\n",
       " '../data/interim/appfeature/%D8%AD%D9%84%D9%88%D9%8A%D8%A7%D8%AA-%D8%B9%D9%8A%D8%AF-%D8%A7%D9%84%D9%81%D8%B7%D8%B1.csv',\n",
       " '../data/interim/appfeature/all-india-radio-online-%E0%A4%86%E0%A4%95%E0%A4%BE%E0%A4%B6%E0%A4%B5%E0%A4%BE%E0%A4%A3%E0%A5%80.csv',\n",
       " '../data/interim/appfeature/sleep-ambience.csv',\n",
       " '../data/interim/appfeature/theme-for-iphone-7-plus.csv',\n",
       " '../data/interim/appfeature/us-army-training-real-training-courses-2018.csv',\n",
       " '../data/interim/appfeature/watch-worthy.csv',\n",
       " '../data/interim/appfeature/the-best-persian-music.csv',\n",
       " '../data/interim/appfeature/beauchef-magazine.csv',\n",
       " '../data/interim/appfeature/k%C3%B6pek-cinsleri-ve-e%C4%9Fitimi.csv',\n",
       " '../data/interim/appfeature/insight-auctioneers.csv',\n",
       " '../data/interim/appfeature/%E0%A6%96%E0%A7%81%E0%A6%B6%E0%A6%95%E0%A6%BF-%E0%A6%A6%E0%A7%82%E0%A6%B0-%E0%A6%95%E0%A6%B0%E0%A6%BE%E0%A6%B0-%E0%A6%95%E0%A6%BE%E0%A6%B0%E0%A7%8D%E0%A6%AF%E0%A6%95%E0%A6%B0%E0%A7%80-%E0%A6%89%E0%A6%AA%E0%A6%BE%E0%A7%9F.csv',\n",
       " '../data/interim/appfeature/ai-bot-box.csv',\n",
       " '../data/interim/appfeature/quep.csv',\n",
       " '../data/interim/appfeature/street-art-3d.csv',\n",
       " '../data/interim/appfeature/sustainable-research.csv',\n",
       " '../data/interim/appfeature/tiles-and-balls.csv',\n",
       " '../data/interim/appfeature/%ED%98%84%EB%8C%80%EC%BC%80%ED%94%BC%EC%BD%94%EC%A7%80%ED%9A%8C.csv']"
      ]
     },
     "execution_count": 6,
     "metadata": {},
     "output_type": "execute_result"
    }
   ],
   "source": [
    "glob('../data/interim/appfeature/*.csv')"
   ]
  },
  {
   "cell_type": "code",
   "execution_count": 7,
   "metadata": {},
   "outputs": [
    {
     "data": {
      "text/plain": [
       "89"
      ]
     },
     "execution_count": 7,
     "metadata": {},
     "output_type": "execute_result"
    }
   ],
   "source": [
    "len(glob('../data/interim/appfeature/*.csv'))"
   ]
  }
 ],
 "metadata": {
  "kernelspec": {
   "display_name": "dask",
   "language": "python",
   "name": "dask"
  },
  "language_info": {
   "codemirror_mode": {
    "name": "ipython",
    "version": 3
   },
   "file_extension": ".py",
   "mimetype": "text/x-python",
   "name": "python",
   "nbconvert_exporter": "python",
   "pygments_lexer": "ipython3",
   "version": "3.7.6"
  },
  "latex_envs": {
   "LaTeX_envs_menu_present": true,
   "autoclose": false,
   "autocomplete": true,
   "bibliofile": "biblio.bib",
   "cite_by": "apalike",
   "current_citInitial": 1,
   "eqLabelWithNumbers": true,
   "eqNumInitial": 1,
   "hotkeys": {
    "equation": "Ctrl-E",
    "itemize": "Ctrl-I"
   },
   "labels_anchors": false,
   "latex_user_defs": false,
   "report_style_numbering": false,
   "user_envs_cfg": false
  }
 },
 "nbformat": 4,
 "nbformat_minor": 2
}
