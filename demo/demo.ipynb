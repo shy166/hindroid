{
 "cells": [
  {
   "cell_type": "code",
   "execution_count": 5,
   "metadata": {},
   "outputs": [],
   "source": [
    "import sys\n",
    "sys.path.append('../utils')\n",
    "import utils"
   ]
  },
  {
   "cell_type": "markdown",
   "metadata": {},
   "source": [
    "## get_data with decode smali code"
   ]
  },
  {
   "cell_type": "code",
   "execution_count": 6,
   "metadata": {},
   "outputs": [],
   "source": [
    "utils.setup_env()"
   ]
  },
  {
   "cell_type": "code",
   "execution_count": 9,
   "metadata": {},
   "outputs": [
    {
     "name": "stdout",
     "output_type": "stream",
     "text": [
      "fetched ./data/apps/plague-inc/plague-inc.apk, start decoding\n",
      "\n",
      "fetched ./data/apps/instagram/instagram.apk, start decoding\n",
      "I: Using Apktool 2.4.1 on instagram.apk\n",
      "I: Loading resource table...\n",
      "I: Decoding AndroidManifest.xml with resources...\n",
      "I: Loading resource table from file: /Users/syeehyn/Library/apktool/framework/1.apk\n",
      "I: Regular manifest package...\n",
      "I: Decoding file-resources...\n",
      "I: Decoding values */* XMLs...\n",
      "I: Baksmaling classes.dex...\n",
      "I: Baksmaling classes2.dex...\n",
      "I: Baksmaling classes3.dex...\n",
      "I: Baksmaling classes4.dex...\n",
      "I: Copying assets and libs...\n",
      "I: Copying unknown files...\n",
      "I: Copying original files...\n",
      "\n"
     ]
    }
   ],
   "source": [
    "cfg = json.load(open('./app-url.json'))\n",
    "utils.get_data(**cfg)"
   ]
  },
  {
   "cell_type": "code",
   "execution_count": null,
   "metadata": {},
   "outputs": [],
   "source": []
  }
 ],
 "metadata": {
  "kernelspec": {
   "display_name": "Python 3",
   "language": "python",
   "name": "python3"
  },
  "language_info": {
   "codemirror_mode": {
    "name": "ipython",
    "version": 3
   },
   "file_extension": ".py",
   "mimetype": "text/x-python",
   "name": "python",
   "nbconvert_exporter": "python",
   "pygments_lexer": "ipython3",
   "version": "3.7.4"
  },
  "latex_envs": {
   "LaTeX_envs_menu_present": true,
   "autoclose": false,
   "autocomplete": true,
   "bibliofile": "biblio.bib",
   "cite_by": "apalike",
   "current_citInitial": 1,
   "eqLabelWithNumbers": true,
   "eqNumInitial": 1,
   "hotkeys": {
    "equation": "Ctrl-E",
    "itemize": "Ctrl-I"
   },
   "labels_anchors": false,
   "latex_user_defs": false,
   "report_style_numbering": false,
   "user_envs_cfg": false
  }
 },
 "nbformat": 4,
 "nbformat_minor": 2
}
